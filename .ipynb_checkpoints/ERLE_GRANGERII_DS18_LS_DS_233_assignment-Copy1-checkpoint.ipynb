{
 "cells": [
  {
   "cell_type": "markdown",
   "metadata": {
    "colab_type": "text",
    "id": "nCc3XZEyG3XV"
   },
   "source": [
    "Lambda School Data Science\n",
    "\n",
    "*Unit 2, Sprint 3, Module 3*\n",
    "\n",
    "---\n",
    "\n",
    "\n",
    "# Permutation & Boosting\n",
    "\n",
    "You will use your portfolio project dataset for all assignments this sprint.\n",
    "\n",
    "## Assignment\n",
    "\n",
    "Complete these tasks for your project, and document your work.\n",
    "\n",
    "- [ ] If you haven't completed assignment #1, please do so first.\n",
    "- [ ] Continue to clean and explore your data. Make exploratory visualizations.\n",
    "- [ ] Fit a model. Does it beat your baseline? \n",
    "- [ ] Try xgboost.\n",
    "- [ ] Get your model's permutation importances.\n",
    "\n",
    "You should try to complete an initial model today, because the rest of the week, we're making model interpretation visualizations.\n",
    "\n",
    "But, if you aren't ready to try xgboost and permutation importances with your dataset today, that's okay. You can practice with another dataset instead. You may choose any dataset you've worked with previously.\n",
    "\n",
    "The data subdirectory includes the Titanic dataset for classification and the NYC apartments dataset for regression. You may want to choose one of these datasets, because example solutions will be available for each.\n",
    "\n",
    "\n",
    "## Reading\n",
    "\n",
    "Top recommendations in _**bold italic:**_\n",
    "\n",
    "#### Permutation Importances\n",
    "- _**[Kaggle / Dan Becker: Machine Learning Explainability](https://www.kaggle.com/dansbecker/permutation-importance)**_\n",
    "- [Christoph Molnar: Interpretable Machine Learning](https://christophm.github.io/interpretable-ml-book/feature-importance.html)\n",
    "\n",
    "#### (Default) Feature Importances\n",
    "  - [Ando Saabas: Selecting good features, Part 3, Random Forests](https://blog.datadive.net/selecting-good-features-part-iii-random-forests/)\n",
    "  - [Terence Parr, et al: Beware Default Random Forest Importances](https://explained.ai/rf-importance/index.html)\n",
    "\n",
    "#### Gradient Boosting\n",
    "  - [A Gentle Introduction to the Gradient Boosting Algorithm for Machine Learning](https://machinelearningmastery.com/gentle-introduction-gradient-boosting-algorithm-machine-learning/)\n",
    "  - [An Introduction to Statistical Learning](http://www-bcf.usc.edu/~gareth/ISL/ISLR%20Seventh%20Printing.pdf), Chapter 8\n",
    "  - _**[Gradient Boosting Explained](https://www.gormanalysis.com/blog/gradient-boosting-explained/)**_ — Ben Gorman\n",
    "  - [Gradient Boosting Explained](http://arogozhnikov.github.io/2016/06/24/gradient_boosting_explained.html) — Alex Rogozhnikov\n",
    "  - [How to explain gradient boosting](https://explained.ai/gradient-boosting/) — Terence Parr & Jeremy Howard"
   ]
  },
  {
   "cell_type": "code",
   "execution_count": null,
   "metadata": {},
   "outputs": [],
   "source": [
    "!pip install category_encoders==2.*\n",
    "!pip install pandas-profiling==2.*"
   ]
  },
  {
   "cell_type": "code",
   "execution_count": null,
   "metadata": {},
   "outputs": [],
   "source": [
    "# imports\n",
    "import sys\n",
    "!{sys.executable} -m pip install pandas\n",
    "!{sys.executable} -m pip install matplotlib\n",
    "!{sys.executable} -m pip install numpy\n",
    "!{sys.executable} -m pip install plotly\n",
    "\n",
    "!{sys.executable} -m pip install collections\n",
    "!{sys.executable} -m pip install xgboost\n",
    "\n",
    "from collections import namedtuple\n",
    "\n",
    "import pandas as pd\n",
    "import matplotlib.pyplot as plt\n",
    "import numpy as np\n",
    "import plotly.express as px"
   ]
  },
  {
   "cell_type": "code",
   "execution_count": 3,
   "metadata": {},
   "outputs": [
    {
     "data": {
      "text/html": [
       "<div>\n",
       "<style scoped>\n",
       "    .dataframe tbody tr th:only-of-type {\n",
       "        vertical-align: middle;\n",
       "    }\n",
       "\n",
       "    .dataframe tbody tr th {\n",
       "        vertical-align: top;\n",
       "    }\n",
       "\n",
       "    .dataframe thead th {\n",
       "        text-align: right;\n",
       "    }\n",
       "</style>\n",
       "<table border=\"1\" class=\"dataframe\">\n",
       "  <thead>\n",
       "    <tr style=\"text-align: right;\">\n",
       "      <th></th>\n",
       "      <th>Date</th>\n",
       "      <th>Average Viewers</th>\n",
       "      <th>Chat Messages</th>\n",
       "      <th>Chatters</th>\n",
       "      <th>Clip Views</th>\n",
       "      <th>Clips Created</th>\n",
       "      <th>Follows</th>\n",
       "      <th>Hosts and Raids Viewers (%)</th>\n",
       "      <th>Live Views</th>\n",
       "      <th>Max Viewers</th>\n",
       "      <th>...</th>\n",
       "      <th>day_of_week_5</th>\n",
       "      <th>day_of_week_6</th>\n",
       "      <th>day_of_week_7</th>\n",
       "      <th>Total_Sub_Revenue</th>\n",
       "      <th>donations</th>\n",
       "      <th>Total_Earnings</th>\n",
       "      <th>streak</th>\n",
       "      <th>activity</th>\n",
       "      <th>avg_message_per_viewer</th>\n",
       "      <th>user_chatting_percent</th>\n",
       "    </tr>\n",
       "  </thead>\n",
       "  <tbody>\n",
       "    <tr>\n",
       "      <th>0</th>\n",
       "      <td>2017-06-13</td>\n",
       "      <td>2.98</td>\n",
       "      <td>114</td>\n",
       "      <td>6</td>\n",
       "      <td>0</td>\n",
       "      <td>0</td>\n",
       "      <td>1</td>\n",
       "      <td>0.0</td>\n",
       "      <td>11</td>\n",
       "      <td>5</td>\n",
       "      <td>...</td>\n",
       "      <td>0</td>\n",
       "      <td>1</td>\n",
       "      <td>0</td>\n",
       "      <td>0.0</td>\n",
       "      <td>0.0</td>\n",
       "      <td>0.0</td>\n",
       "      <td>1</td>\n",
       "      <td>0.033333</td>\n",
       "      <td>12.666666666666666</td>\n",
       "      <td>66.66666666666666</td>\n",
       "    </tr>\n",
       "    <tr>\n",
       "      <th>1</th>\n",
       "      <td>2017-06-14</td>\n",
       "      <td>3.47</td>\n",
       "      <td>260</td>\n",
       "      <td>9</td>\n",
       "      <td>0</td>\n",
       "      <td>0</td>\n",
       "      <td>2</td>\n",
       "      <td>0.0</td>\n",
       "      <td>35</td>\n",
       "      <td>8</td>\n",
       "      <td>...</td>\n",
       "      <td>0</td>\n",
       "      <td>0</td>\n",
       "      <td>1</td>\n",
       "      <td>0.0</td>\n",
       "      <td>0.0</td>\n",
       "      <td>0.0</td>\n",
       "      <td>2</td>\n",
       "      <td>0.066667</td>\n",
       "      <td>10.0</td>\n",
       "      <td>34.61538461538461</td>\n",
       "    </tr>\n",
       "    <tr>\n",
       "      <th>2</th>\n",
       "      <td>2017-06-15</td>\n",
       "      <td>4.45</td>\n",
       "      <td>40</td>\n",
       "      <td>3</td>\n",
       "      <td>0</td>\n",
       "      <td>0</td>\n",
       "      <td>2</td>\n",
       "      <td>0.0</td>\n",
       "      <td>1</td>\n",
       "      <td>8</td>\n",
       "      <td>...</td>\n",
       "      <td>0</td>\n",
       "      <td>0</td>\n",
       "      <td>0</td>\n",
       "      <td>0.0</td>\n",
       "      <td>0.0</td>\n",
       "      <td>0.0</td>\n",
       "      <td>3</td>\n",
       "      <td>0.100000</td>\n",
       "      <td>40.0</td>\n",
       "      <td>300.0</td>\n",
       "    </tr>\n",
       "    <tr>\n",
       "      <th>3</th>\n",
       "      <td>2017-06-16</td>\n",
       "      <td>3.73</td>\n",
       "      <td>38</td>\n",
       "      <td>5</td>\n",
       "      <td>0</td>\n",
       "      <td>0</td>\n",
       "      <td>2</td>\n",
       "      <td>0.0</td>\n",
       "      <td>17</td>\n",
       "      <td>6</td>\n",
       "      <td>...</td>\n",
       "      <td>0</td>\n",
       "      <td>0</td>\n",
       "      <td>0</td>\n",
       "      <td>0.0</td>\n",
       "      <td>0.0</td>\n",
       "      <td>0.0</td>\n",
       "      <td>4</td>\n",
       "      <td>0.133333</td>\n",
       "      <td>2.923076923076923</td>\n",
       "      <td>38.46153846153847</td>\n",
       "    </tr>\n",
       "    <tr>\n",
       "      <th>4</th>\n",
       "      <td>2017-06-17</td>\n",
       "      <td>3.99</td>\n",
       "      <td>100</td>\n",
       "      <td>8</td>\n",
       "      <td>0</td>\n",
       "      <td>0</td>\n",
       "      <td>0</td>\n",
       "      <td>0.0</td>\n",
       "      <td>16</td>\n",
       "      <td>7</td>\n",
       "      <td>...</td>\n",
       "      <td>0</td>\n",
       "      <td>0</td>\n",
       "      <td>0</td>\n",
       "      <td>0.0</td>\n",
       "      <td>0.0</td>\n",
       "      <td>0.0</td>\n",
       "      <td>5</td>\n",
       "      <td>0.166667</td>\n",
       "      <td>8.333333333333334</td>\n",
       "      <td>66.66666666666666</td>\n",
       "    </tr>\n",
       "  </tbody>\n",
       "</table>\n",
       "<p>5 rows × 43 columns</p>\n",
       "</div>"
      ],
      "text/plain": [
       "        Date  Average Viewers  Chat Messages  Chatters  Clip Views  \\\n",
       "0 2017-06-13             2.98            114         6           0   \n",
       "1 2017-06-14             3.47            260         9           0   \n",
       "2 2017-06-15             4.45             40         3           0   \n",
       "3 2017-06-16             3.73             38         5           0   \n",
       "4 2017-06-17             3.99            100         8           0   \n",
       "\n",
       "   Clips Created  Follows  Hosts and Raids Viewers (%)  Live Views  \\\n",
       "0              0        1                          0.0          11   \n",
       "1              0        2                          0.0          35   \n",
       "2              0        2                          0.0           1   \n",
       "3              0        2                          0.0          17   \n",
       "4              0        0                          0.0          16   \n",
       "\n",
       "   Max Viewers  ...  day_of_week_5  day_of_week_6  day_of_week_7  \\\n",
       "0            5  ...              0              1              0   \n",
       "1            8  ...              0              0              1   \n",
       "2            8  ...              0              0              0   \n",
       "3            6  ...              0              0              0   \n",
       "4            7  ...              0              0              0   \n",
       "\n",
       "   Total_Sub_Revenue  donations  Total_Earnings  streak  activity  \\\n",
       "0                0.0        0.0             0.0       1  0.033333   \n",
       "1                0.0        0.0             0.0       2  0.066667   \n",
       "2                0.0        0.0             0.0       3  0.100000   \n",
       "3                0.0        0.0             0.0       4  0.133333   \n",
       "4                0.0        0.0             0.0       5  0.166667   \n",
       "\n",
       "   avg_message_per_viewer  user_chatting_percent  \n",
       "0      12.666666666666666      66.66666666666666  \n",
       "1                    10.0      34.61538461538461  \n",
       "2                    40.0                  300.0  \n",
       "3       2.923076923076923      38.46153846153847  \n",
       "4       8.333333333333334      66.66666666666666  \n",
       "\n",
       "[5 rows x 43 columns]"
      ]
     },
     "execution_count": 3,
     "metadata": {},
     "output_type": "execute_result"
    }
   ],
   "source": [
    "twitch_df = pd.read_csv(\"twitch_clean_data.csv\", parse_dates=[\"Date\"])\n",
    "twitch_df.head()"
   ]
  },
  {
   "cell_type": "code",
   "execution_count": 4,
   "metadata": {},
   "outputs": [
    {
     "data": {
      "text/plain": [
       "Index(['Date', 'Average Viewers', 'Chat Messages', 'Chatters', 'Clip Views',\n",
       "       'Clips Created', 'Follows', 'Hosts and Raids Viewers (%)', 'Live Views',\n",
       "       'Max Viewers', 'Minutes Watched', 'Minutes Streamed', 'Unique Viewers',\n",
       "       'Sub Revenue', 'Prime Revenue', 'Gifted Subs Revenue', 'Bits Revenue',\n",
       "       'Ad Revenue', 'Extensions Revenue', 'Bounties Revenue', 'Prime Subs',\n",
       "       'Total Paid Subs', 'Tier 1 subs', 'Tier 2 subs', 'Tier 3 subs',\n",
       "       'Total Gifted Subs', 'Gifted Tier 1 subs', 'Gifted Tier 2 subs',\n",
       "       'Gifted Tier 3 subs', 'day_of_week_1', 'day_of_week_2', 'day_of_week_3',\n",
       "       'day_of_week_4', 'day_of_week_5', 'day_of_week_6', 'day_of_week_7',\n",
       "       'Total_Sub_Revenue', 'donations', 'Total_Earnings', 'streak',\n",
       "       'activity', 'avg_message_per_viewer', 'user_chatting_percent'],\n",
       "      dtype='object')"
      ]
     },
     "execution_count": 4,
     "metadata": {},
     "output_type": "execute_result"
    }
   ],
   "source": [
    "twitch_df.columns\n"
   ]
  },
  {
   "cell_type": "code",
   "execution_count": 5,
   "metadata": {},
   "outputs": [
    {
     "data": {
      "text/plain": [
       "Date                           0\n",
       "Average Viewers                0\n",
       "Chat Messages                  0\n",
       "Chatters                       0\n",
       "Clip Views                     0\n",
       "Clips Created                  0\n",
       "Follows                        0\n",
       "Hosts and Raids Viewers (%)    0\n",
       "Live Views                     0\n",
       "Max Viewers                    0\n",
       "Minutes Watched                0\n",
       "Minutes Streamed               0\n",
       "Unique Viewers                 0\n",
       "Sub Revenue                    0\n",
       "Prime Revenue                  0\n",
       "Gifted Subs Revenue            0\n",
       "Bits Revenue                   0\n",
       "Ad Revenue                     0\n",
       "Extensions Revenue             0\n",
       "Bounties Revenue               0\n",
       "Prime Subs                     0\n",
       "Total Paid Subs                0\n",
       "Tier 1 subs                    0\n",
       "Tier 2 subs                    0\n",
       "Tier 3 subs                    0\n",
       "Total Gifted Subs              0\n",
       "Gifted Tier 1 subs             0\n",
       "Gifted Tier 2 subs             0\n",
       "Gifted Tier 3 subs             0\n",
       "day_of_week_1                  0\n",
       "day_of_week_2                  0\n",
       "day_of_week_3                  0\n",
       "day_of_week_4                  0\n",
       "day_of_week_5                  0\n",
       "day_of_week_6                  0\n",
       "day_of_week_7                  0\n",
       "Total_Sub_Revenue              0\n",
       "donations                      0\n",
       "Total_Earnings                 0\n",
       "streak                         0\n",
       "activity                       0\n",
       "avg_message_per_viewer         0\n",
       "user_chatting_percent          0\n",
       "dtype: int64"
      ]
     },
     "execution_count": 5,
     "metadata": {},
     "output_type": "execute_result"
    }
   ],
   "source": [
    "twitch_df.isnull().sum()"
   ]
  },
  {
   "cell_type": "code",
   "execution_count": 6,
   "metadata": {},
   "outputs": [
    {
     "data": {
      "text/plain": [
       "inf                   195\n",
       "Unknown               103\n",
       "0.0                    16\n",
       "15.0                    2\n",
       "6.333333333333333       2\n",
       "                     ... \n",
       "17.96208530805687       1\n",
       "10.078947368421053      1\n",
       "12.594594594594595      1\n",
       "5.955882352941177       1\n",
       "15.758241758241759      1\n",
       "Name: avg_message_per_viewer, Length: 837, dtype: int64"
      ]
     },
     "execution_count": 6,
     "metadata": {},
     "output_type": "execute_result"
    }
   ],
   "source": [
    "twitch_df.avg_message_per_viewer.value_counts()"
   ]
  },
  {
   "cell_type": "code",
   "execution_count": 7,
   "metadata": {},
   "outputs": [
    {
     "data": {
      "text/plain": [
       "inf                   195\n",
       "Unknown               103\n",
       "0.0                    16\n",
       "33.33333333333333      13\n",
       "100.0                   7\n",
       "                     ... \n",
       "23.78048780487805       1\n",
       "28.451882845188287      1\n",
       "14.084507042253522      1\n",
       "23.958333333333336      1\n",
       "42.06349206349206       1\n",
       "Name: user_chatting_percent, Length: 703, dtype: int64"
      ]
     },
     "execution_count": 7,
     "metadata": {},
     "output_type": "execute_result"
    }
   ],
   "source": [
    "twitch_df.user_chatting_percent.value_counts()"
   ]
  },
  {
   "cell_type": "code",
   "execution_count": 8,
   "metadata": {},
   "outputs": [],
   "source": [
    "replace_list = [\"inf\", \"Unknown\"]"
   ]
  },
  {
   "cell_type": "code",
   "execution_count": 9,
   "metadata": {},
   "outputs": [],
   "source": [
    "twitch_original = twitch_df.copy()"
   ]
  },
  {
   "cell_type": "code",
   "execution_count": 10,
   "metadata": {},
   "outputs": [],
   "source": [
    "twitch_df= twitch_df.replace(to_replace=replace_list, value=0)"
   ]
  },
  {
   "cell_type": "code",
   "execution_count": 11,
   "metadata": {},
   "outputs": [
    {
     "data": {
      "text/plain": [
       "0                     298\n",
       "0.0                    16\n",
       "33.33333333333333      13\n",
       "66.66666666666666       7\n",
       "100.0                   7\n",
       "                     ... \n",
       "28.451882845188287      1\n",
       "14.084507042253522      1\n",
       "23.958333333333336      1\n",
       "30.48780487804878       1\n",
       "37.74834437086093       1\n",
       "Name: user_chatting_percent, Length: 702, dtype: int64"
      ]
     },
     "execution_count": 11,
     "metadata": {},
     "output_type": "execute_result"
    }
   ],
   "source": [
    "twitch_df.user_chatting_percent.value_counts()"
   ]
  },
  {
   "cell_type": "code",
   "execution_count": 12,
   "metadata": {},
   "outputs": [],
   "source": [
    "twitch_df[\"user_chatting_percent\"]= twitch_df[\"user_chatting_percent\"].astype(str).astype(float)"
   ]
  },
  {
   "cell_type": "code",
   "execution_count": 13,
   "metadata": {},
   "outputs": [],
   "source": [
    "twitch_df[\"avg_message_per_viewer\"]= twitch_df[\"avg_message_per_viewer\"].astype(str).astype(float)"
   ]
  },
  {
   "cell_type": "code",
   "execution_count": 14,
   "metadata": {},
   "outputs": [
    {
     "name": "stdout",
     "output_type": "stream",
     "text": [
      "<class 'pandas.core.frame.DataFrame'>\n",
      "RangeIndex: 1159 entries, 0 to 1158\n",
      "Data columns (total 43 columns):\n",
      " #   Column                       Non-Null Count  Dtype         \n",
      "---  ------                       --------------  -----         \n",
      " 0   Date                         1159 non-null   datetime64[ns]\n",
      " 1   Average Viewers              1159 non-null   float64       \n",
      " 2   Chat Messages                1159 non-null   int64         \n",
      " 3   Chatters                     1159 non-null   int64         \n",
      " 4   Clip Views                   1159 non-null   int64         \n",
      " 5   Clips Created                1159 non-null   int64         \n",
      " 6   Follows                      1159 non-null   int64         \n",
      " 7   Hosts and Raids Viewers (%)  1159 non-null   float64       \n",
      " 8   Live Views                   1159 non-null   int64         \n",
      " 9   Max Viewers                  1159 non-null   int64         \n",
      " 10  Minutes Watched              1159 non-null   int64         \n",
      " 11  Minutes Streamed             1159 non-null   int64         \n",
      " 12  Unique Viewers               1159 non-null   int64         \n",
      " 13  Sub Revenue                  1159 non-null   float64       \n",
      " 14  Prime Revenue                1159 non-null   float64       \n",
      " 15  Gifted Subs Revenue          1159 non-null   float64       \n",
      " 16  Bits Revenue                 1159 non-null   float64       \n",
      " 17  Ad Revenue                   1159 non-null   float64       \n",
      " 18  Extensions Revenue           1159 non-null   float64       \n",
      " 19  Bounties Revenue             1159 non-null   int64         \n",
      " 20  Prime Subs                   1159 non-null   int64         \n",
      " 21  Total Paid Subs              1159 non-null   int64         \n",
      " 22  Tier 1 subs                  1159 non-null   int64         \n",
      " 23  Tier 2 subs                  1159 non-null   int64         \n",
      " 24  Tier 3 subs                  1159 non-null   int64         \n",
      " 25  Total Gifted Subs            1159 non-null   int64         \n",
      " 26  Gifted Tier 1 subs           1159 non-null   int64         \n",
      " 27  Gifted Tier 2 subs           1159 non-null   int64         \n",
      " 28  Gifted Tier 3 subs           1159 non-null   int64         \n",
      " 29  day_of_week_1                1159 non-null   int64         \n",
      " 30  day_of_week_2                1159 non-null   int64         \n",
      " 31  day_of_week_3                1159 non-null   int64         \n",
      " 32  day_of_week_4                1159 non-null   int64         \n",
      " 33  day_of_week_5                1159 non-null   int64         \n",
      " 34  day_of_week_6                1159 non-null   int64         \n",
      " 35  day_of_week_7                1159 non-null   int64         \n",
      " 36  Total_Sub_Revenue            1159 non-null   float64       \n",
      " 37  donations                    1159 non-null   float64       \n",
      " 38  Total_Earnings               1159 non-null   float64       \n",
      " 39  streak                       1159 non-null   int64         \n",
      " 40  activity                     1159 non-null   float64       \n",
      " 41  avg_message_per_viewer       1159 non-null   float64       \n",
      " 42  user_chatting_percent        1159 non-null   float64       \n",
      "dtypes: datetime64[ns](1), float64(14), int64(28)\n",
      "memory usage: 389.5 KB\n"
     ]
    }
   ],
   "source": [
    "twitch_df.info()"
   ]
  },
  {
   "cell_type": "code",
   "execution_count": 15,
   "metadata": {},
   "outputs": [],
   "source": [
    "twitch_df = twitch_df.set_index(keys=\"Date\")"
   ]
  },
  {
   "cell_type": "code",
   "execution_count": 16,
   "metadata": {},
   "outputs": [
    {
     "data": {
      "text/html": [
       "<div>\n",
       "<style scoped>\n",
       "    .dataframe tbody tr th:only-of-type {\n",
       "        vertical-align: middle;\n",
       "    }\n",
       "\n",
       "    .dataframe tbody tr th {\n",
       "        vertical-align: top;\n",
       "    }\n",
       "\n",
       "    .dataframe thead th {\n",
       "        text-align: right;\n",
       "    }\n",
       "</style>\n",
       "<table border=\"1\" class=\"dataframe\">\n",
       "  <thead>\n",
       "    <tr style=\"text-align: right;\">\n",
       "      <th></th>\n",
       "      <th>Average Viewers</th>\n",
       "      <th>Chat Messages</th>\n",
       "      <th>Chatters</th>\n",
       "      <th>Clip Views</th>\n",
       "      <th>Clips Created</th>\n",
       "      <th>Follows</th>\n",
       "      <th>Hosts and Raids Viewers (%)</th>\n",
       "      <th>Live Views</th>\n",
       "      <th>Max Viewers</th>\n",
       "      <th>Minutes Watched</th>\n",
       "      <th>...</th>\n",
       "      <th>day_of_week_5</th>\n",
       "      <th>day_of_week_6</th>\n",
       "      <th>day_of_week_7</th>\n",
       "      <th>Total_Sub_Revenue</th>\n",
       "      <th>donations</th>\n",
       "      <th>Total_Earnings</th>\n",
       "      <th>streak</th>\n",
       "      <th>activity</th>\n",
       "      <th>avg_message_per_viewer</th>\n",
       "      <th>user_chatting_percent</th>\n",
       "    </tr>\n",
       "    <tr>\n",
       "      <th>Date</th>\n",
       "      <th></th>\n",
       "      <th></th>\n",
       "      <th></th>\n",
       "      <th></th>\n",
       "      <th></th>\n",
       "      <th></th>\n",
       "      <th></th>\n",
       "      <th></th>\n",
       "      <th></th>\n",
       "      <th></th>\n",
       "      <th></th>\n",
       "      <th></th>\n",
       "      <th></th>\n",
       "      <th></th>\n",
       "      <th></th>\n",
       "      <th></th>\n",
       "      <th></th>\n",
       "      <th></th>\n",
       "      <th></th>\n",
       "      <th></th>\n",
       "      <th></th>\n",
       "    </tr>\n",
       "  </thead>\n",
       "  <tbody>\n",
       "    <tr>\n",
       "      <th>2017-06-13</th>\n",
       "      <td>2.98</td>\n",
       "      <td>114</td>\n",
       "      <td>6</td>\n",
       "      <td>0</td>\n",
       "      <td>0</td>\n",
       "      <td>1</td>\n",
       "      <td>0.0</td>\n",
       "      <td>11</td>\n",
       "      <td>5</td>\n",
       "      <td>480</td>\n",
       "      <td>...</td>\n",
       "      <td>0</td>\n",
       "      <td>1</td>\n",
       "      <td>0</td>\n",
       "      <td>0.0</td>\n",
       "      <td>0.0</td>\n",
       "      <td>0.0</td>\n",
       "      <td>1</td>\n",
       "      <td>0.033333</td>\n",
       "      <td>12.666667</td>\n",
       "      <td>66.666667</td>\n",
       "    </tr>\n",
       "    <tr>\n",
       "      <th>2017-06-14</th>\n",
       "      <td>3.47</td>\n",
       "      <td>260</td>\n",
       "      <td>9</td>\n",
       "      <td>0</td>\n",
       "      <td>0</td>\n",
       "      <td>2</td>\n",
       "      <td>0.0</td>\n",
       "      <td>35</td>\n",
       "      <td>8</td>\n",
       "      <td>653</td>\n",
       "      <td>...</td>\n",
       "      <td>0</td>\n",
       "      <td>0</td>\n",
       "      <td>1</td>\n",
       "      <td>0.0</td>\n",
       "      <td>0.0</td>\n",
       "      <td>0.0</td>\n",
       "      <td>2</td>\n",
       "      <td>0.066667</td>\n",
       "      <td>10.000000</td>\n",
       "      <td>34.615385</td>\n",
       "    </tr>\n",
       "    <tr>\n",
       "      <th>2017-06-15</th>\n",
       "      <td>4.45</td>\n",
       "      <td>40</td>\n",
       "      <td>3</td>\n",
       "      <td>0</td>\n",
       "      <td>0</td>\n",
       "      <td>2</td>\n",
       "      <td>0.0</td>\n",
       "      <td>1</td>\n",
       "      <td>8</td>\n",
       "      <td>89</td>\n",
       "      <td>...</td>\n",
       "      <td>0</td>\n",
       "      <td>0</td>\n",
       "      <td>0</td>\n",
       "      <td>0.0</td>\n",
       "      <td>0.0</td>\n",
       "      <td>0.0</td>\n",
       "      <td>3</td>\n",
       "      <td>0.100000</td>\n",
       "      <td>40.000000</td>\n",
       "      <td>300.000000</td>\n",
       "    </tr>\n",
       "    <tr>\n",
       "      <th>2017-06-16</th>\n",
       "      <td>3.73</td>\n",
       "      <td>38</td>\n",
       "      <td>5</td>\n",
       "      <td>0</td>\n",
       "      <td>0</td>\n",
       "      <td>2</td>\n",
       "      <td>0.0</td>\n",
       "      <td>17</td>\n",
       "      <td>6</td>\n",
       "      <td>421</td>\n",
       "      <td>...</td>\n",
       "      <td>0</td>\n",
       "      <td>0</td>\n",
       "      <td>0</td>\n",
       "      <td>0.0</td>\n",
       "      <td>0.0</td>\n",
       "      <td>0.0</td>\n",
       "      <td>4</td>\n",
       "      <td>0.133333</td>\n",
       "      <td>2.923077</td>\n",
       "      <td>38.461538</td>\n",
       "    </tr>\n",
       "    <tr>\n",
       "      <th>2017-06-17</th>\n",
       "      <td>3.99</td>\n",
       "      <td>100</td>\n",
       "      <td>8</td>\n",
       "      <td>0</td>\n",
       "      <td>0</td>\n",
       "      <td>0</td>\n",
       "      <td>0.0</td>\n",
       "      <td>16</td>\n",
       "      <td>7</td>\n",
       "      <td>591</td>\n",
       "      <td>...</td>\n",
       "      <td>0</td>\n",
       "      <td>0</td>\n",
       "      <td>0</td>\n",
       "      <td>0.0</td>\n",
       "      <td>0.0</td>\n",
       "      <td>0.0</td>\n",
       "      <td>5</td>\n",
       "      <td>0.166667</td>\n",
       "      <td>8.333333</td>\n",
       "      <td>66.666667</td>\n",
       "    </tr>\n",
       "  </tbody>\n",
       "</table>\n",
       "<p>5 rows × 42 columns</p>\n",
       "</div>"
      ],
      "text/plain": [
       "            Average Viewers  Chat Messages  Chatters  Clip Views  \\\n",
       "Date                                                               \n",
       "2017-06-13             2.98            114         6           0   \n",
       "2017-06-14             3.47            260         9           0   \n",
       "2017-06-15             4.45             40         3           0   \n",
       "2017-06-16             3.73             38         5           0   \n",
       "2017-06-17             3.99            100         8           0   \n",
       "\n",
       "            Clips Created  Follows  Hosts and Raids Viewers (%)  Live Views  \\\n",
       "Date                                                                          \n",
       "2017-06-13              0        1                          0.0          11   \n",
       "2017-06-14              0        2                          0.0          35   \n",
       "2017-06-15              0        2                          0.0           1   \n",
       "2017-06-16              0        2                          0.0          17   \n",
       "2017-06-17              0        0                          0.0          16   \n",
       "\n",
       "            Max Viewers  Minutes Watched  ...  day_of_week_5  day_of_week_6  \\\n",
       "Date                                      ...                                 \n",
       "2017-06-13            5              480  ...              0              1   \n",
       "2017-06-14            8              653  ...              0              0   \n",
       "2017-06-15            8               89  ...              0              0   \n",
       "2017-06-16            6              421  ...              0              0   \n",
       "2017-06-17            7              591  ...              0              0   \n",
       "\n",
       "            day_of_week_7  Total_Sub_Revenue  donations  Total_Earnings  \\\n",
       "Date                                                                      \n",
       "2017-06-13              0                0.0        0.0             0.0   \n",
       "2017-06-14              1                0.0        0.0             0.0   \n",
       "2017-06-15              0                0.0        0.0             0.0   \n",
       "2017-06-16              0                0.0        0.0             0.0   \n",
       "2017-06-17              0                0.0        0.0             0.0   \n",
       "\n",
       "            streak  activity  avg_message_per_viewer  user_chatting_percent  \n",
       "Date                                                                         \n",
       "2017-06-13       1  0.033333               12.666667              66.666667  \n",
       "2017-06-14       2  0.066667               10.000000              34.615385  \n",
       "2017-06-15       3  0.100000               40.000000             300.000000  \n",
       "2017-06-16       4  0.133333                2.923077              38.461538  \n",
       "2017-06-17       5  0.166667                8.333333              66.666667  \n",
       "\n",
       "[5 rows x 42 columns]"
      ]
     },
     "execution_count": 16,
     "metadata": {},
     "output_type": "execute_result"
    }
   ],
   "source": [
    "twitch_df.head()"
   ]
  },
  {
   "cell_type": "code",
   "execution_count": null,
   "metadata": {},
   "outputs": [],
   "source": []
  },
  {
   "cell_type": "code",
   "execution_count": 17,
   "metadata": {},
   "outputs": [
    {
     "data": {
      "image/png": "[encoded data removed]",
      "text/plain": [
       "<Figure size 432x288 with 1 Axes>"
      ]
     },
     "metadata": {
      "needs_background": "light"
     },
     "output_type": "display_data"
    }
   ],
   "source": [
    "twitch_df['Total_Earnings'].hist(bins=50);"
   ]
  },
  {
   "cell_type": "code",
   "execution_count": 18,
   "metadata": {},
   "outputs": [
    {
     "data": {
      "text/plain": [
       "19.597481449525453"
      ]
     },
     "execution_count": 18,
     "metadata": {},
     "output_type": "execute_result"
    }
   ],
   "source": [
    "# lets get an average sales price\n",
    "guess_price = twitch_df['Total_Earnings'].mean()\n",
    "guess_price"
   ]
  },
  {
   "cell_type": "code",
   "execution_count": 19,
   "metadata": {},
   "outputs": [],
   "source": [
    "# make function that will do it for us\n",
    "def get_naive_baseline(target_feature):\n",
    "  guess = target_feature.mean()\n",
    "  errors = guess - target_feature\n",
    "  mean_absolute_error = errors.abs().mean()\n",
    "\n",
    "  naive_baseline = namedtuple(\"baseline_info\", [\"guess\", \"errors\", \"MAE\"])\n",
    "\n",
    "  return naive_baseline(guess, errors, mean_absolute_error)"
   ]
  },
  {
   "cell_type": "code",
   "execution_count": 20,
   "metadata": {},
   "outputs": [],
   "source": [
    "nbaseline = get_naive_baseline(twitch_df['Total_Earnings'])"
   ]
  },
  {
   "cell_type": "code",
   "execution_count": 21,
   "metadata": {},
   "outputs": [],
   "source": [
    "y_target = twitch_df['Total_Earnings']"
   ]
  },
  {
   "cell_type": "code",
   "execution_count": 22,
   "metadata": {},
   "outputs": [
    {
     "name": "stdout",
     "output_type": "stream",
     "text": [
      "If we estimated Total Earnings at $19.597481449525453,\n",
      "we would be off by $24.54002158371927 on average.\n"
     ]
    }
   ],
   "source": [
    "print(f\"If we estimated Total Earnings at ${nbaseline.guess},\")\n",
    "print(f\"we would be off by ${nbaseline.MAE} on average.\")"
   ]
  },
  {
   "cell_type": "code",
   "execution_count": 23,
   "metadata": {},
   "outputs": [
    {
     "data": {
      "text/plain": [
       "0"
      ]
     },
     "execution_count": 23,
     "metadata": {},
     "output_type": "execute_result"
    }
   ],
   "source": [
    "twitch_df[\"avg_message_per_viewer\"].isnull().sum()"
   ]
  },
  {
   "cell_type": "code",
   "execution_count": 24,
   "metadata": {},
   "outputs": [],
   "source": [
    "# print(\"Baseline MAE:\\n\", mean_absolute_error(df['price'], [df['price'].mean()]*400716))\n",
    "# print(\"Baseline RMSE:\\n\", math.sqrt(mean_absolute_error(twitch_df['Total_Earnings']),\n",
    "#                         twitch_df['Total_Earnings'].mean()]*len(twitch_df['Total_Earnings'].iloc[:,0])))\n",
    "# print('\\nTraining MAE:\\n', mean_absolute_error(y_train, boost_model.predict(X_train)))"
   ]
  },
  {
   "cell_type": "code",
   "execution_count": 25,
   "metadata": {},
   "outputs": [],
   "source": [
    "import math\n",
    "from sklearn.metrics import mean_absolute_error, mean_squared_error, r2_score"
   ]
  },
  {
   "cell_type": "code",
   "execution_count": 26,
   "metadata": {},
   "outputs": [
    {
     "name": "stdout",
     "output_type": "stream",
     "text": [
      "Baseline RMSE:\n",
      " 4.953788609107101\n"
     ]
    }
   ],
   "source": [
    "# print(\"Baseline MAE:\\n\", mean_absolute_error(df['price'], [df['price'].mean()]*len(df['price'])))\n",
    "print(\"Baseline RMSE:\\n\", math.sqrt(mean_absolute_error(twitch_df['Total_Earnings'],\n",
    "                        [twitch_df['Total_Earnings'].mean()]*len(twitch_df['Total_Earnings']))))"
   ]
  },
  {
   "cell_type": "code",
   "execution_count": 27,
   "metadata": {},
   "outputs": [
    {
     "name": "stdout",
     "output_type": "stream",
     "text": [
      "19.597481449525453\n",
      "24.54002158371927\n",
      "(1159,)\n"
     ]
    }
   ],
   "source": [
    "print(nbaseline.guess)\n",
    "print(nbaseline.MAE)\n",
    "print(nbaseline.errors.shape)"
   ]
  },
  {
   "cell_type": "code",
   "execution_count": 28,
   "metadata": {},
   "outputs": [],
   "source": [
    "# # make function that will do it for us\n",
    "# def get_naive_baseline(target_feature):\n",
    "#   guess = target_feature.mean()\n",
    "#   errors = guess - target_feature\n",
    "#   mean_absolute_error = errors.abs().mean()\n",
    "\n",
    "# #   y_pred = [target_feature.mean()] * len(target_feature.iloc[:,0])\n",
    "#   r2 = r2_score(target_feature, y_pred)\n",
    "\n",
    "#   naive_baseline = namedtuple(\"baseline_info\", [\"guess\", \"errors\", \"MAE\", \"R2\"])\n",
    "\n",
    "#   return naive_baseline(guess, errors, mean_absolute_error, r2)"
   ]
  },
  {
   "cell_type": "code",
   "execution_count": 29,
   "metadata": {},
   "outputs": [],
   "source": [
    "nbaseline = get_naive_baseline(twitch_df['Total_Earnings'])"
   ]
  },
  {
   "cell_type": "code",
   "execution_count": 30,
   "metadata": {},
   "outputs": [
    {
     "data": {
      "text/plain": [
       "baseline_info(guess=19.597481449525453, errors=Date\n",
       "2017-06-13    19.597481\n",
       "2017-06-14    19.597481\n",
       "2017-06-15    19.597481\n",
       "2017-06-16    19.597481\n",
       "2017-06-17    19.597481\n",
       "                ...    \n",
       "2020-08-10    17.142481\n",
       "2020-08-11    19.597481\n",
       "2020-08-12    17.196981\n",
       "2020-08-13    13.936981\n",
       "2020-08-14    16.137481\n",
       "Name: Total_Earnings, Length: 1159, dtype: float64, MAE=24.54002158371927)"
      ]
     },
     "execution_count": 30,
     "metadata": {},
     "output_type": "execute_result"
    }
   ],
   "source": [
    "nbaseline"
   ]
  },
  {
   "cell_type": "code",
   "execution_count": null,
   "metadata": {},
   "outputs": [],
   "source": []
  },
  {
   "cell_type": "code",
   "execution_count": 31,
   "metadata": {},
   "outputs": [
    {
     "data": {
      "text/plain": [
       "19.597481449525453"
      ]
     },
     "execution_count": 31,
     "metadata": {},
     "output_type": "execute_result"
    }
   ],
   "source": [
    "twitch_df['Total_Earnings'].mean()"
   ]
  },
  {
   "cell_type": "code",
   "execution_count": 32,
   "metadata": {},
   "outputs": [
    {
     "data": {
      "text/plain": [
       "Date\n",
       "2017-06-13      0.000000\n",
       "2017-06-14      0.000000\n",
       "2017-06-15      0.000000\n",
       "2017-06-16      0.000000\n",
       "2017-06-17      0.000000\n",
       "                 ...    \n",
       "2020-08-10     48.111817\n",
       "2020-08-11      0.000000\n",
       "2020-08-12     47.043754\n",
       "2020-08-13    110.931544\n",
       "2020-08-14     67.807286\n",
       "Name: Total_Earnings, Length: 1159, dtype: float64"
      ]
     },
     "execution_count": 32,
     "metadata": {},
     "output_type": "execute_result"
    }
   ],
   "source": [
    "a= twitch_df['Total_Earnings'] *twitch_df['Total_Earnings'].mean()\n",
    "a"
   ]
  },
  {
   "cell_type": "code",
   "execution_count": null,
   "metadata": {},
   "outputs": [],
   "source": []
  },
  {
   "cell_type": "code",
   "execution_count": null,
   "metadata": {},
   "outputs": [],
   "source": []
  },
  {
   "cell_type": "code",
   "execution_count": null,
   "metadata": {},
   "outputs": [],
   "source": [
    "y_pred = [twitch_df[\"Total_Earnings\"].mean()] * len(twitch_df[\"Total_Earnings\"])\n",
    "y_pred"
   ]
  },
  {
   "cell_type": "code",
   "execution_count": 34,
   "metadata": {},
   "outputs": [],
   "source": [
    "from sklearn.linear_model import LinearRegression\n",
    "from sklearn.metrics import mean_absolute_error, mean_squared_error, r2_score"
   ]
  },
  {
   "cell_type": "code",
   "execution_count": 35,
   "metadata": {},
   "outputs": [
    {
     "data": {
      "text/plain": [
       "2960.2625199312783"
      ]
     },
     "execution_count": 35,
     "metadata": {},
     "output_type": "execute_result"
    }
   ],
   "source": [
    "mean_squared_error(y_target, y_pred)"
   ]
  },
  {
   "cell_type": "code",
   "execution_count": 36,
   "metadata": {},
   "outputs": [
    {
     "name": "stdout",
     "output_type": "stream",
     "text": [
      "0.0\n"
     ]
    }
   ],
   "source": [
    "r2 = r2_score(y_target, y_pred)\n",
    "print(r2)"
   ]
  },
  {
   "cell_type": "code",
   "execution_count": 37,
   "metadata": {},
   "outputs": [
    {
     "data": {
      "text/plain": [
       "Index(['Average Viewers', 'Chat Messages', 'Chatters', 'Clip Views',\n",
       "       'Clips Created', 'Follows', 'Hosts and Raids Viewers (%)', 'Live Views',\n",
       "       'Max Viewers', 'Minutes Watched', 'Minutes Streamed', 'Unique Viewers',\n",
       "       'Sub Revenue', 'Prime Revenue', 'Gifted Subs Revenue', 'Bits Revenue',\n",
       "       'Ad Revenue', 'Extensions Revenue', 'Bounties Revenue', 'Prime Subs',\n",
       "       'Total Paid Subs', 'Tier 1 subs', 'Tier 2 subs', 'Tier 3 subs',\n",
       "       'Total Gifted Subs', 'Gifted Tier 1 subs', 'Gifted Tier 2 subs',\n",
       "       'Gifted Tier 3 subs', 'day_of_week_1', 'day_of_week_2', 'day_of_week_3',\n",
       "       'day_of_week_4', 'day_of_week_5', 'day_of_week_6', 'day_of_week_7',\n",
       "       'Total_Sub_Revenue', 'donations', 'Total_Earnings', 'streak',\n",
       "       'activity', 'avg_message_per_viewer', 'user_chatting_percent'],\n",
       "      dtype='object')"
      ]
     },
     "execution_count": 37,
     "metadata": {},
     "output_type": "execute_result"
    }
   ],
   "source": [
    "twitch_df.columns"
   ]
  },
  {
   "cell_type": "code",
   "execution_count": null,
   "metadata": {},
   "outputs": [],
   "source": []
  },
  {
   "cell_type": "markdown",
   "metadata": {},
   "source": [
    "# short list a Feature Matrix\n",
    "short_list = ['Average Viewers', 'Chat Messages', 'Chatters', 'Clip Views',\n",
    "       'Clips Created', 'Follows', 'Hosts and Raids Viewers (%)', 'Live Views',\n",
    "       'Max Viewers', 'Minutes Watched', 'Minutes Streamed', 'Unique Viewers',\n",
    "         'day_of_week_1', 'day_of_week_2', 'day_of_week_3',\n",
    "       'day_of_week_4', 'day_of_week_5', 'day_of_week_6', 'day_of_week_7',\n",
    "        'Total_Earnings', 'streak', 'avg_message_per_viewer',\n",
    "        'activity', 'user_chatting_percent','Total_Earnings']"
   ]
  },
  {
   "cell_type": "code",
   "execution_count": 38,
   "metadata": {},
   "outputs": [],
   "source": [
    "short_list = ['Average Viewers', 'Chat Messages', 'Chatters',\n",
    "              'Follows', 'Hosts and Raids Viewers (%)', 'Live Views',\n",
    "       'Max Viewers', 'Minutes Streamed', 'Unique Viewers',\n",
    "         'day_of_week_1', 'day_of_week_2', 'day_of_week_3',\n",
    "       'day_of_week_4', 'day_of_week_5', 'day_of_week_6', 'day_of_week_7',\n",
    "        'Total_Earnings', 'streak', 'avg_message_per_viewer',\n",
    "        'activity', 'user_chatting_percent']"
   ]
  },
  {
   "cell_type": "code",
   "execution_count": 39,
   "metadata": {},
   "outputs": [],
   "source": [
    "feature_matrix_df = twitch_df[short_list]"
   ]
  },
  {
   "cell_type": "code",
   "execution_count": 40,
   "metadata": {},
   "outputs": [],
   "source": [
    "# Make a function to create Matrix and Target pre validation split\n",
    "def create_Xmatrix_ytarget(training_df):\n",
    "  y_target = training_df[\"Total_Earnings\"]\n",
    "  X_matrix = training_df.drop(\"Total_Earnings\", axis=1)\n",
    "  return (X_matrix, y_target)"
   ]
  },
  {
   "cell_type": "code",
   "execution_count": 41,
   "metadata": {},
   "outputs": [
    {
     "name": "stdout",
     "output_type": "stream",
     "text": [
      "(1159, 20)\n",
      "(1159,)\n"
     ]
    }
   ],
   "source": [
    "X_matrix, y_target = create_Xmatrix_ytarget(feature_matrix_df)\n",
    "print(X_matrix.shape)\n",
    "print(y_target.shape)"
   ]
  },
  {
   "cell_type": "markdown",
   "metadata": {},
   "source": [
    "# Train Val Test split"
   ]
  },
  {
   "cell_type": "code",
   "execution_count": 42,
   "metadata": {},
   "outputs": [],
   "source": [
    "from sklearn.model_selection import train_test_split"
   ]
  },
  {
   "cell_type": "code",
   "execution_count": 43,
   "metadata": {},
   "outputs": [],
   "source": [
    "X_train_temp, X_test, y_train_temp, y_test = train_test_split(\n",
    "    X_matrix, y_target, train_size=0.80, test_size=0.20, random_state=42)"
   ]
  },
  {
   "cell_type": "code",
   "execution_count": 44,
   "metadata": {},
   "outputs": [
    {
     "name": "stdout",
     "output_type": "stream",
     "text": [
      "(927, 20)\n",
      "(927,)\n",
      "(232, 20)\n",
      "(232,)\n"
     ]
    }
   ],
   "source": [
    "print(X_train_temp.shape)\n",
    "print(y_train_temp.shape)\n",
    "print(X_test.shape)\n",
    "print(y_test.shape)"
   ]
  },
  {
   "cell_type": "code",
   "execution_count": 45,
   "metadata": {},
   "outputs": [],
   "source": [
    "X_train, X_val, y_train, y_val = train_test_split(\n",
    "    X_train_temp, y_train_temp, train_size=0.80, test_size=0.20, random_state=42)"
   ]
  },
  {
   "cell_type": "code",
   "execution_count": 46,
   "metadata": {},
   "outputs": [
    {
     "name": "stdout",
     "output_type": "stream",
     "text": [
      "(741, 20)\n",
      "(741,)\n",
      "(186, 20)\n",
      "(186,)\n",
      "(232, 20)\n",
      "(232,)\n"
     ]
    }
   ],
   "source": [
    "print(X_train.shape)\n",
    "print(y_train.shape)\n",
    "print(X_val.shape)\n",
    "print(y_val.shape)\n",
    "print(X_test.shape)\n",
    "print(y_test.shape)"
   ]
  },
  {
   "cell_type": "code",
   "execution_count": null,
   "metadata": {},
   "outputs": [],
   "source": []
  },
  {
   "cell_type": "markdown",
   "metadata": {},
   "source": [
    "# Let's make a pipeline!  (finally...!)"
   ]
  },
  {
   "cell_type": "code",
   "execution_count": 47,
   "metadata": {},
   "outputs": [],
   "source": [
    "from sklearn.linear_model import LinearRegression\n",
    "from sklearn.pipeline import make_pipeline\n",
    "from sklearn.impute import SimpleImputer\n",
    "from sklearn.feature_selection import SelectKBest"
   ]
  },
  {
   "cell_type": "code",
   "execution_count": 48,
   "metadata": {},
   "outputs": [],
   "source": [
    "lr_model = make_pipeline(\n",
    "    SelectKBest(),\n",
    "    LinearRegression()\n",
    ")"
   ]
  },
  {
   "cell_type": "markdown",
   "metadata": {},
   "source": [
    "### Short list transforms - SelectKBest, "
   ]
  },
  {
   "cell_type": "code",
   "execution_count": 49,
   "metadata": {},
   "outputs": [
    {
     "data": {
      "text/plain": [
       "Pipeline(steps=[('selectkbest', SelectKBest()),\n",
       "                ('linearregression', LinearRegression())])"
      ]
     },
     "execution_count": 49,
     "metadata": {},
     "output_type": "execute_result"
    }
   ],
   "source": [
    "lr_model.fit(X_train, y_train)"
   ]
  },
  {
   "cell_type": "code",
   "execution_count": 50,
   "metadata": {},
   "outputs": [],
   "source": [
    "training_MAE = mean_absolute_error(y_train, lr_model.predict(X_train))"
   ]
  },
  {
   "cell_type": "code",
   "execution_count": 51,
   "metadata": {},
   "outputs": [],
   "source": [
    "validation_MAE = mean_absolute_error(y_val, lr_model.predict(X_val))"
   ]
  },
  {
   "cell_type": "code",
   "execution_count": 52,
   "metadata": {},
   "outputs": [
    {
     "name": "stdout",
     "output_type": "stream",
     "text": [
      "If we estimated Total Earnings at $19.597481449525453,\n",
      "we would be off by $24.54002158371927 on average.\n",
      "Baseline RMSE:\n",
      " 4.953788609107101\n",
      "Training MAE: 24.319066225162683\n",
      "Validation MAE: 22.97317017334074\n"
     ]
    }
   ],
   "source": [
    "print(f\"If we estimated Total Earnings at ${nbaseline.guess},\")\n",
    "print(f\"we would be off by ${nbaseline.MAE} on average.\")\n",
    "print(\"Baseline RMSE:\\n\", math.sqrt(mean_absolute_error(twitch_df['Total_Earnings'],\n",
    "                        [twitch_df['Total_Earnings'].mean()]*len(twitch_df['Total_Earnings']))))\n",
    "print(f\"Training MAE: {training_MAE}\")\n",
    "print(f\"Validation MAE: {validation_MAE}\")"
   ]
  },
  {
   "cell_type": "code",
   "execution_count": null,
   "metadata": {},
   "outputs": [],
   "source": []
  },
  {
   "cell_type": "code",
   "execution_count": 53,
   "metadata": {},
   "outputs": [],
   "source": [
    "from sklearn.ensemble import RandomForestRegressor"
   ]
  },
  {
   "cell_type": "code",
   "execution_count": 54,
   "metadata": {},
   "outputs": [],
   "source": [
    "rf_bag_model = make_pipeline(\n",
    "    RandomForestRegressor(random_state=42)\n",
    ")"
   ]
  },
  {
   "cell_type": "code",
   "execution_count": 55,
   "metadata": {},
   "outputs": [
    {
     "data": {
      "text/plain": [
       "Pipeline(steps=[('randomforestregressor',\n",
       "                 RandomForestRegressor(random_state=42))])"
      ]
     },
     "execution_count": 55,
     "metadata": {},
     "output_type": "execute_result"
    }
   ],
   "source": [
    "rf_bag_model.fit(X_train, y_train)"
   ]
  },
  {
   "cell_type": "code",
   "execution_count": 56,
   "metadata": {},
   "outputs": [],
   "source": [
    "training_MAE = mean_absolute_error(y_train, rf_bag_model.predict(X_train))"
   ]
  },
  {
   "cell_type": "code",
   "execution_count": 57,
   "metadata": {},
   "outputs": [],
   "source": [
    "validation_MAE = mean_absolute_error(y_val, rf_bag_model.predict(X_val))"
   ]
  },
  {
   "cell_type": "code",
   "execution_count": 58,
   "metadata": {},
   "outputs": [
    {
     "name": "stdout",
     "output_type": "stream",
     "text": [
      "If we estimated Total Earnings at $19.597481449525453,\n",
      "we would be off by $24.54002158371927 on average.\n",
      "Baseline RMSE:\n",
      " 4.953788609107101\n",
      "Training MAE: 8.851607266387125\n",
      "Validation MAE: 22.210430955645162\n"
     ]
    }
   ],
   "source": [
    "print(f\"If we estimated Total Earnings at ${nbaseline.guess},\")\n",
    "print(f\"we would be off by ${nbaseline.MAE} on average.\")\n",
    "print(\"Baseline RMSE:\\n\", math.sqrt(mean_absolute_error(twitch_df['Total_Earnings'],\n",
    "                        [twitch_df['Total_Earnings'].mean()]*len(twitch_df['Total_Earnings']))))\n",
    "print(f\"Training MAE: {training_MAE}\")\n",
    "print(f\"Validation MAE: {validation_MAE}\")"
   ]
  },
  {
   "cell_type": "markdown",
   "metadata": {},
   "source": [
    "## try the GradientBoostingRegressor"
   ]
  },
  {
   "cell_type": "code",
   "execution_count": 59,
   "metadata": {},
   "outputs": [],
   "source": [
    "from sklearn.ensemble import GradientBoostingRegressor"
   ]
  },
  {
   "cell_type": "code",
   "execution_count": 60,
   "metadata": {},
   "outputs": [
    {
     "data": {
      "text/plain": [
       "Pipeline(steps=[('gradientboostingregressor',\n",
       "                 GradientBoostingRegressor(random_state=42))])"
      ]
     },
     "execution_count": 60,
     "metadata": {},
     "output_type": "execute_result"
    }
   ],
   "source": [
    "rf_boost_model = make_pipeline(\n",
    "    GradientBoostingRegressor(random_state=42)\n",
    ")\n",
    "\n",
    "rf_boost_model.fit(X_train, y_train)"
   ]
  },
  {
   "cell_type": "code",
   "execution_count": null,
   "metadata": {},
   "outputs": [],
   "source": []
  },
  {
   "cell_type": "code",
   "execution_count": 61,
   "metadata": {},
   "outputs": [],
   "source": [
    "training_MAE2 = mean_absolute_error(y_train, rf_boost_model.predict(X_train))"
   ]
  },
  {
   "cell_type": "code",
   "execution_count": 62,
   "metadata": {},
   "outputs": [],
   "source": [
    "validation_MAE2 = mean_absolute_error(y_val, rf_boost_model.predict(X_val))"
   ]
  },
  {
   "cell_type": "code",
   "execution_count": 63,
   "metadata": {},
   "outputs": [
    {
     "name": "stdout",
     "output_type": "stream",
     "text": [
      "If we estimated Total Earnings at $19.597481449525453,\n",
      "we would be off by $24.54002158371927 on average.\n",
      "Baseline RMSE:\n",
      " 4.953788609107101\n",
      "Training MAE: 9.97344388769161\n",
      "Validation MAE: 20.798083149838465\n"
     ]
    }
   ],
   "source": [
    "print(f\"If we estimated Total Earnings at ${nbaseline.guess},\")\n",
    "print(f\"we would be off by ${nbaseline.MAE} on average.\")\n",
    "print(\"Baseline RMSE:\\n\", math.sqrt(mean_absolute_error(twitch_df['Total_Earnings'],\n",
    "                        [twitch_df['Total_Earnings'].mean()]*len(twitch_df['Total_Earnings']))))\n",
    "print(f\"Training MAE: {training_MAE2}\")\n",
    "print(f\"Validation MAE: {validation_MAE2}\")"
   ]
  },
  {
   "cell_type": "code",
   "execution_count": null,
   "metadata": {},
   "outputs": [],
   "source": []
  },
  {
   "cell_type": "markdown",
   "metadata": {},
   "source": [
    " ### Try XGBoost\n",
    " "
   ]
  },
  {
   "cell_type": "code",
   "execution_count": 64,
   "metadata": {},
   "outputs": [],
   "source": [
    "\n",
    "from xgboost import XGBRegressor"
   ]
  },
  {
   "cell_type": "code",
   "execution_count": 65,
   "metadata": {},
   "outputs": [],
   "source": [
    "xgb_model = make_pipeline(\n",
    "   XGBRegressor()\n",
    ")"
   ]
  },
  {
   "cell_type": "markdown",
   "metadata": {},
   "source": [
    "## Feature Importances"
   ]
  },
  {
   "cell_type": "code",
   "execution_count": 66,
   "metadata": {},
   "outputs": [],
   "source": [
    "# rf_bag_model = make_pipeline(\n",
    "#     RandomForestRegressor(random_state=42)\n",
    "# )"
   ]
  },
  {
   "cell_type": "code",
   "execution_count": 67,
   "metadata": {},
   "outputs": [],
   "source": [
    "# rf_bag_model.fit(X_train, y_train)"
   ]
  },
  {
   "cell_type": "code",
   "execution_count": 68,
   "metadata": {},
   "outputs": [],
   "source": [
    "fi= rf_bag_model.named_steps[\"randomforestregressor\"].feature_importances_"
   ]
  },
  {
   "cell_type": "code",
   "execution_count": 69,
   "metadata": {},
   "outputs": [
    {
     "data": {
      "text/plain": [
       "Chatters                       0.284613\n",
       "Average Viewers                0.134604\n",
       "Chat Messages                  0.066197\n",
       "avg_message_per_viewer         0.061269\n",
       "Max Viewers                    0.058684\n",
       "activity                       0.056622\n",
       "user_chatting_percent          0.050723\n",
       "Live Views                     0.048748\n",
       "Hosts and Raids Viewers (%)    0.044077\n",
       "Minutes Streamed               0.040282\n",
       "Follows                        0.039403\n",
       "streak                         0.038362\n",
       "Unique Viewers                 0.035631\n",
       "day_of_week_1                  0.012481\n",
       "day_of_week_6                  0.009447\n",
       "day_of_week_3                  0.007905\n",
       "day_of_week_2                  0.005927\n",
       "day_of_week_5                  0.001794\n",
       "day_of_week_7                  0.001760\n",
       "day_of_week_4                  0.001468\n",
       "dtype: float64"
      ]
     },
     "execution_count": 69,
     "metadata": {},
     "output_type": "execute_result"
    }
   ],
   "source": [
    "importances = pd.Series(fi, X_train.columns).sort_values(ascending=False)\n",
    "importances"
   ]
  },
  {
   "cell_type": "code",
   "execution_count": 70,
   "metadata": {},
   "outputs": [
    {
     "data": {
      "text/plain": [
       "<AxesSubplot:>"
      ]
     },
     "execution_count": 70,
     "metadata": {},
     "output_type": "execute_result"
    },
    {
     "data": {
      "image/png": "[encoded data removed]",
      "text/plain": [
       "<Figure size 432x288 with 1 Axes>"
      ]
     },
     "metadata": {
      "needs_background": "light"
     },
     "output_type": "display_data"
    }
   ],
   "source": [
    "importances.head(16).plot(kind=\"barh\")"
   ]
  },
  {
   "cell_type": "markdown",
   "metadata": {},
   "source": [
    "## Drop Column"
   ]
  },
  {
   "cell_type": "code",
   "execution_count": null,
   "metadata": {},
   "outputs": [],
   "source": []
  },
  {
   "cell_type": "markdown",
   "metadata": {},
   "source": [
    "### Permutation IMportance\n",
    "train model on full dataset\n",
    "Choose a column an shuffle rows\n",
    "See how the validation metrics change"
   ]
  },
  {
   "cell_type": "code",
   "execution_count": 71,
   "metadata": {},
   "outputs": [
    {
     "data": {
      "text/plain": [
       "Date\n",
       "2019-05-15    0.500000\n",
       "2018-12-09    0.633333\n",
       "2018-07-31    1.000000\n",
       "2017-07-30    0.966667\n",
       "2020-06-20    0.533333\n",
       "2019-07-29    0.566667\n",
       "2018-10-09    1.000000\n",
       "2019-08-12    0.533333\n",
       "2019-01-23    0.766667\n",
       "2017-11-08    1.000000\n",
       "Name: activity, dtype: float64"
      ]
     },
     "execution_count": 71,
     "metadata": {},
     "output_type": "execute_result"
    }
   ],
   "source": [
    "X_val[\"activity\"].head(10)"
   ]
  },
  {
   "cell_type": "code",
   "execution_count": 72,
   "metadata": {},
   "outputs": [],
   "source": [
    "X_val_permuted = X_val.copy()"
   ]
  },
  {
   "cell_type": "code",
   "execution_count": 73,
   "metadata": {},
   "outputs": [
    {
     "data": {
      "text/plain": [
       "array([0.96666667, 0.5       , 0.53333333, 0.96666667, 0.86666667,\n",
       "       0.56666667, 0.83333333, 0.5       , 0.9       , 0.5       ])"
      ]
     },
     "execution_count": 73,
     "metadata": {},
     "output_type": "execute_result"
    }
   ],
   "source": [
    "np.random.permutation(X_val[\"activity\"])[:10]"
   ]
  },
  {
   "cell_type": "code",
   "execution_count": 74,
   "metadata": {},
   "outputs": [],
   "source": [
    "X_val_permuted[\"activity\"] = np.random.permutation(X_val_permuted[\"activity\"])"
   ]
  },
  {
   "cell_type": "code",
   "execution_count": 75,
   "metadata": {},
   "outputs": [
    {
     "data": {
      "text/plain": [
       "Date\n",
       "2019-05-15    0.766667\n",
       "2018-12-09    0.966667\n",
       "2018-07-31    0.600000\n",
       "2017-07-30    0.900000\n",
       "2020-06-20    0.800000\n",
       "2019-07-29    0.500000\n",
       "2018-10-09    0.966667\n",
       "2019-08-12    0.533333\n",
       "2019-01-23    0.800000\n",
       "2017-11-08    1.000000\n",
       "Name: activity, dtype: float64"
      ]
     },
     "execution_count": 75,
     "metadata": {},
     "output_type": "execute_result"
    }
   ],
   "source": [
    "X_val_permuted[\"activity\"].head(10)"
   ]
  },
  {
   "cell_type": "code",
   "execution_count": 76,
   "metadata": {},
   "outputs": [
    {
     "data": {
      "text/plain": [
       "0.966667    24\n",
       "1.000000    21\n",
       "0.500000    20\n",
       "0.533333    18\n",
       "0.933333    16\n",
       "0.466667    14\n",
       "0.900000    10\n",
       "0.633333     8\n",
       "0.800000     8\n",
       "0.566667     8\n",
       "0.733333     5\n",
       "0.833333     4\n",
       "0.300000     4\n",
       "0.866667     4\n",
       "0.600000     4\n",
       "0.433333     4\n",
       "0.766667     4\n",
       "0.666667     4\n",
       "0.400000     2\n",
       "0.200000     1\n",
       "0.033333     1\n",
       "0.266667     1\n",
       "0.333333     1\n",
       "Name: activity, dtype: int64"
      ]
     },
     "execution_count": 76,
     "metadata": {},
     "output_type": "execute_result"
    }
   ],
   "source": [
    "X_val_permuted[\"activity\"].value_counts()"
   ]
  },
  {
   "cell_type": "code",
   "execution_count": 77,
   "metadata": {},
   "outputs": [
    {
     "data": {
      "text/plain": [
       "0.966667    24\n",
       "1.000000    21\n",
       "0.500000    20\n",
       "0.533333    18\n",
       "0.933333    16\n",
       "0.466667    14\n",
       "0.900000    10\n",
       "0.633333     8\n",
       "0.800000     8\n",
       "0.566667     8\n",
       "0.733333     5\n",
       "0.833333     4\n",
       "0.300000     4\n",
       "0.433333     4\n",
       "0.600000     4\n",
       "0.866667     4\n",
       "0.766667     4\n",
       "0.666667     4\n",
       "0.400000     2\n",
       "0.200000     1\n",
       "0.033333     1\n",
       "0.266667     1\n",
       "0.333333     1\n",
       "Name: activity, dtype: int64"
      ]
     },
     "execution_count": 77,
     "metadata": {},
     "output_type": "execute_result"
    }
   ],
   "source": [
    "X_val[\"activity\"].value_counts()"
   ]
  },
  {
   "cell_type": "code",
   "execution_count": 78,
   "metadata": {},
   "outputs": [
    {
     "data": {
      "text/plain": [
       "Pipeline(steps=[('gradientboostingregressor',\n",
       "                 GradientBoostingRegressor(random_state=42))])"
      ]
     },
     "execution_count": 78,
     "metadata": {},
     "output_type": "execute_result"
    }
   ],
   "source": [
    "rf_boost_model2 = make_pipeline(\n",
    "    GradientBoostingRegressor(random_state=42)\n",
    ")\n",
    "\n",
    "rf_boost_model2.fit(X_train, y_train)"
   ]
  },
  {
   "cell_type": "code",
   "execution_count": 79,
   "metadata": {},
   "outputs": [],
   "source": [
    "validation_MAE2 = mean_absolute_error(y_val, rf_boost_model2.predict(X_val))"
   ]
  },
  {
   "cell_type": "code",
   "execution_count": 80,
   "metadata": {},
   "outputs": [],
   "source": [
    "validation_MAE3 = mean_absolute_error(y_val, rf_boost_model2.predict(X_val_permuted))"
   ]
  },
  {
   "cell_type": "code",
   "execution_count": 81,
   "metadata": {},
   "outputs": [],
   "source": [
    "training_MAE2 = mean_absolute_error(y_train, rf_boost_model2.predict(X_train))"
   ]
  },
  {
   "cell_type": "code",
   "execution_count": 82,
   "metadata": {},
   "outputs": [
    {
     "name": "stdout",
     "output_type": "stream",
     "text": [
      "If we estimated Total Earnings at $19.597481449525453,\n",
      "we would be off by $24.54002158371927 on average.\n",
      "Training MAE: 9.97344388769161\n",
      "Validation MAE: 20.798083149838465\n",
      "Validation MAE Permuted: 21.899301093488926\n"
     ]
    }
   ],
   "source": [
    "print(f\"If we estimated Total Earnings at ${nbaseline.guess},\")\n",
    "print(f\"we would be off by ${nbaseline.MAE} on average.\")\n",
    "print(f\"Training MAE: {training_MAE2}\")\n",
    "print(f\"Validation MAE: {validation_MAE2}\")\n",
    "print(f\"Validation MAE Permuted: {validation_MAE3}\")"
   ]
  },
  {
   "cell_type": "markdown",
   "metadata": {},
   "source": [
    "### Automate it. "
   ]
  },
  {
   "cell_type": "code",
   "execution_count": 83,
   "metadata": {},
   "outputs": [],
   "source": [
    "from sklearn.inspection import permutation_importance"
   ]
  },
  {
   "cell_type": "code",
   "execution_count": 84,
   "metadata": {},
   "outputs": [],
   "source": [
    "pi = permutation_importance(rf_boost_model2, X_val, y_val)"
   ]
  },
  {
   "cell_type": "code",
   "execution_count": 85,
   "metadata": {},
   "outputs": [
    {
     "data": {
      "text/plain": [
       "sklearn.utils.Bunch"
      ]
     },
     "execution_count": 85,
     "metadata": {},
     "output_type": "execute_result"
    }
   ],
   "source": [
    "type(pi)"
   ]
  },
  {
   "cell_type": "code",
   "execution_count": 86,
   "metadata": {},
   "outputs": [
    {
     "data": {
      "text/plain": [
       "{'importances_mean': array([ 3.09860916e-02,  6.03017375e-02,  1.07846480e-01,  1.00752412e-02,\n",
       "        -4.06182794e-03,  7.41711725e-02,  7.94639938e-02,  1.26226941e-02,\n",
       "         2.63853190e-02,  0.00000000e+00, -1.37267979e-03,  1.01452944e-02,\n",
       "         4.45450348e-03, -1.22294970e-05,  6.13278644e-06, -4.14418866e-04,\n",
       "        -5.56312127e-03,  4.26577684e-03, -1.29873938e-02,  1.29572762e-03]),\n",
       " 'importances_std': array([1.63071420e-02, 1.11009670e-02, 2.44973462e-02, 6.18199895e-03,\n",
       "        6.92042825e-03, 1.27150239e-02, 9.58853247e-03, 7.80790615e-03,\n",
       "        6.80885896e-03, 0.00000000e+00, 1.12232351e-03, 3.83856015e-03,\n",
       "        2.37272066e-03, 2.84884372e-04, 1.22655729e-05, 8.09926479e-04,\n",
       "        1.88564032e-02, 1.02162254e-02, 2.55300775e-02, 2.10948808e-02]),\n",
       " 'importances': array([[ 5.70866753e-02,  1.14006608e-02,  3.70435027e-02,\n",
       "          3.33328257e-02,  1.60667936e-02],\n",
       "        [ 4.44055911e-02,  5.18181396e-02,  7.62502568e-02,\n",
       "          6.54118872e-02,  6.36228128e-02],\n",
       "        [ 6.67582298e-02,  9.71694130e-02,  1.38441857e-01,\n",
       "          1.14061354e-01,  1.22801548e-01],\n",
       "        [ 2.10006551e-02,  4.81952802e-03,  7.22058114e-03,\n",
       "          1.26669116e-02,  4.66853000e-03],\n",
       "        [ 8.81276145e-03, -1.08782764e-02, -8.88561810e-03,\n",
       "         -3.41175207e-03, -5.94625458e-03],\n",
       "        [ 7.03025652e-02,  8.60595861e-02,  8.59566892e-02,\n",
       "          5.16781406e-02,  7.68588814e-02],\n",
       "        [ 8.87103986e-02,  8.26110110e-02,  8.10737934e-02,\n",
       "          8.39441836e-02,  6.09805823e-02],\n",
       "        [ 2.61639164e-02,  6.68888890e-03,  1.13219850e-02,\n",
       "          1.51554247e-02,  3.78325531e-03],\n",
       "        [ 2.26490224e-02,  3.17978844e-02,  1.73854481e-02,\n",
       "          3.64005355e-02,  2.36937044e-02],\n",
       "        [ 0.00000000e+00,  0.00000000e+00,  0.00000000e+00,\n",
       "          0.00000000e+00,  0.00000000e+00],\n",
       "        [-2.28459154e-03, -2.89563178e-04, -3.05017136e-03,\n",
       "         -2.04266755e-04, -1.03480611e-03],\n",
       "        [ 1.37254471e-02,  1.32652457e-02,  1.07062842e-02,\n",
       "          1.00107940e-02,  3.01870120e-03],\n",
       "        [ 1.73433542e-03,  6.87529463e-03,  7.69183767e-03,\n",
       "          2.76948844e-03,  3.20156126e-03],\n",
       "        [ 8.34914649e-05, -2.13161594e-04, -2.24758938e-04,\n",
       "          5.07619334e-04, -2.14337752e-04],\n",
       "        [ 0.00000000e+00,  0.00000000e+00,  0.00000000e+00,\n",
       "          3.06639322e-05,  0.00000000e+00],\n",
       "        [-6.85368417e-04,  3.31703080e-04, -1.53856324e-03,\n",
       "          6.76718934e-04, -8.56584688e-04],\n",
       "        [-7.77901837e-03,  9.76189311e-03,  1.51121435e-02,\n",
       "         -6.02523870e-03, -3.88853858e-02],\n",
       "        [-4.87940042e-03,  6.71550143e-03,  1.60176771e-02,\n",
       "         -1.01226724e-02,  1.35977784e-02],\n",
       "        [-8.21313061e-03, -5.06915135e-02,  1.51704399e-02,\n",
       "          1.18739416e-02, -3.30767061e-02],\n",
       "        [ 8.62411529e-03, -3.68439755e-02,  2.66681073e-02,\n",
       "          9.40403147e-03, -1.37364044e-03]])}"
      ]
     },
     "execution_count": 86,
     "metadata": {},
     "output_type": "execute_result"
    }
   ],
   "source": [
    "pi"
   ]
  },
  {
   "cell_type": "code",
   "execution_count": null,
   "metadata": {},
   "outputs": [],
   "source": []
  },
  {
   "cell_type": "code",
   "execution_count": 87,
   "metadata": {},
   "outputs": [],
   "source": [
    "pi_df = pd.DataFrame({\"importances_mean\": np.round(pi[\"importances_mean\"], 4),\n",
    "                     \"importances_std\": pi[\"importances_std\"]},\n",
    "                    index=X_val.columns)"
   ]
  },
  {
   "cell_type": "code",
   "execution_count": 88,
   "metadata": {},
   "outputs": [
    {
     "data": {
      "text/html": [
       "<div>\n",
       "<style scoped>\n",
       "    .dataframe tbody tr th:only-of-type {\n",
       "        vertical-align: middle;\n",
       "    }\n",
       "\n",
       "    .dataframe tbody tr th {\n",
       "        vertical-align: top;\n",
       "    }\n",
       "\n",
       "    .dataframe thead th {\n",
       "        text-align: right;\n",
       "    }\n",
       "</style>\n",
       "<table border=\"1\" class=\"dataframe\">\n",
       "  <thead>\n",
       "    <tr style=\"text-align: right;\">\n",
       "      <th></th>\n",
       "      <th>importances_mean</th>\n",
       "      <th>importances_std</th>\n",
       "    </tr>\n",
       "  </thead>\n",
       "  <tbody>\n",
       "    <tr>\n",
       "      <th>Chatters</th>\n",
       "      <td>0.1078</td>\n",
       "      <td>0.024497</td>\n",
       "    </tr>\n",
       "    <tr>\n",
       "      <th>Max Viewers</th>\n",
       "      <td>0.0795</td>\n",
       "      <td>0.009589</td>\n",
       "    </tr>\n",
       "    <tr>\n",
       "      <th>Live Views</th>\n",
       "      <td>0.0742</td>\n",
       "      <td>0.012715</td>\n",
       "    </tr>\n",
       "    <tr>\n",
       "      <th>Chat Messages</th>\n",
       "      <td>0.0603</td>\n",
       "      <td>0.011101</td>\n",
       "    </tr>\n",
       "    <tr>\n",
       "      <th>Average Viewers</th>\n",
       "      <td>0.0310</td>\n",
       "      <td>0.016307</td>\n",
       "    </tr>\n",
       "    <tr>\n",
       "      <th>Unique Viewers</th>\n",
       "      <td>0.0264</td>\n",
       "      <td>0.006809</td>\n",
       "    </tr>\n",
       "    <tr>\n",
       "      <th>Minutes Streamed</th>\n",
       "      <td>0.0126</td>\n",
       "      <td>0.007808</td>\n",
       "    </tr>\n",
       "    <tr>\n",
       "      <th>day_of_week_3</th>\n",
       "      <td>0.0101</td>\n",
       "      <td>0.003839</td>\n",
       "    </tr>\n",
       "    <tr>\n",
       "      <th>Follows</th>\n",
       "      <td>0.0101</td>\n",
       "      <td>0.006182</td>\n",
       "    </tr>\n",
       "    <tr>\n",
       "      <th>day_of_week_4</th>\n",
       "      <td>0.0045</td>\n",
       "      <td>0.002373</td>\n",
       "    </tr>\n",
       "    <tr>\n",
       "      <th>avg_message_per_viewer</th>\n",
       "      <td>0.0043</td>\n",
       "      <td>0.010216</td>\n",
       "    </tr>\n",
       "    <tr>\n",
       "      <th>user_chatting_percent</th>\n",
       "      <td>0.0013</td>\n",
       "      <td>0.021095</td>\n",
       "    </tr>\n",
       "    <tr>\n",
       "      <th>day_of_week_1</th>\n",
       "      <td>0.0000</td>\n",
       "      <td>0.000000</td>\n",
       "    </tr>\n",
       "    <tr>\n",
       "      <th>day_of_week_5</th>\n",
       "      <td>-0.0000</td>\n",
       "      <td>0.000285</td>\n",
       "    </tr>\n",
       "    <tr>\n",
       "      <th>day_of_week_6</th>\n",
       "      <td>0.0000</td>\n",
       "      <td>0.000012</td>\n",
       "    </tr>\n",
       "    <tr>\n",
       "      <th>day_of_week_7</th>\n",
       "      <td>-0.0004</td>\n",
       "      <td>0.000810</td>\n",
       "    </tr>\n",
       "    <tr>\n",
       "      <th>day_of_week_2</th>\n",
       "      <td>-0.0014</td>\n",
       "      <td>0.001122</td>\n",
       "    </tr>\n",
       "    <tr>\n",
       "      <th>Hosts and Raids Viewers (%)</th>\n",
       "      <td>-0.0041</td>\n",
       "      <td>0.006920</td>\n",
       "    </tr>\n",
       "    <tr>\n",
       "      <th>streak</th>\n",
       "      <td>-0.0056</td>\n",
       "      <td>0.018856</td>\n",
       "    </tr>\n",
       "    <tr>\n",
       "      <th>activity</th>\n",
       "      <td>-0.0130</td>\n",
       "      <td>0.025530</td>\n",
       "    </tr>\n",
       "  </tbody>\n",
       "</table>\n",
       "</div>"
      ],
      "text/plain": [
       "                             importances_mean  importances_std\n",
       "Chatters                               0.1078         0.024497\n",
       "Max Viewers                            0.0795         0.009589\n",
       "Live Views                             0.0742         0.012715\n",
       "Chat Messages                          0.0603         0.011101\n",
       "Average Viewers                        0.0310         0.016307\n",
       "Unique Viewers                         0.0264         0.006809\n",
       "Minutes Streamed                       0.0126         0.007808\n",
       "day_of_week_3                          0.0101         0.003839\n",
       "Follows                                0.0101         0.006182\n",
       "day_of_week_4                          0.0045         0.002373\n",
       "avg_message_per_viewer                 0.0043         0.010216\n",
       "user_chatting_percent                  0.0013         0.021095\n",
       "day_of_week_1                          0.0000         0.000000\n",
       "day_of_week_5                         -0.0000         0.000285\n",
       "day_of_week_6                          0.0000         0.000012\n",
       "day_of_week_7                         -0.0004         0.000810\n",
       "day_of_week_2                         -0.0014         0.001122\n",
       "Hosts and Raids Viewers (%)           -0.0041         0.006920\n",
       "streak                                -0.0056         0.018856\n",
       "activity                              -0.0130         0.025530"
      ]
     },
     "execution_count": 88,
     "metadata": {},
     "output_type": "execute_result"
    }
   ],
   "source": [
    "pi_df.sort_values(by=\"importances_mean\", ascending=False)"
   ]
  },
  {
   "cell_type": "markdown",
   "metadata": {},
   "source": [
    "### Compare Permutation importance (top 15) with SelectKBest(Default)"
   ]
  },
  {
   "cell_type": "code",
   "execution_count": 104,
   "metadata": {},
   "outputs": [],
   "source": [
    "perm_shortlist = pi_df.sort_values(by=\"importances_mean\", ascending=False).head(10).index"
   ]
  },
  {
   "cell_type": "code",
   "execution_count": 105,
   "metadata": {},
   "outputs": [
    {
     "data": {
      "text/plain": [
       "Index(['Chatters', 'Max Viewers', 'Live Views', 'Chat Messages',\n",
       "       'Average Viewers'],\n",
       "      dtype='object')"
      ]
     },
     "execution_count": 105,
     "metadata": {},
     "output_type": "execute_result"
    }
   ],
   "source": [
    "perm_shortlist"
   ]
  },
  {
   "cell_type": "code",
   "execution_count": 106,
   "metadata": {},
   "outputs": [
    {
     "data": {
      "text/plain": [
       "Pipeline(steps=[('linearregression', LinearRegression())])"
      ]
     },
     "execution_count": 106,
     "metadata": {},
     "output_type": "execute_result"
    }
   ],
   "source": [
    "lr_perm_model = make_pipeline(\n",
    "    LinearRegression()\n",
    ")\n",
    "\n",
    "lr_perm_model.fit(X_train[perm_shortlist], y_train)"
   ]
  },
  {
   "cell_type": "code",
   "execution_count": 107,
   "metadata": {},
   "outputs": [],
   "source": [
    "training_MAE4 = mean_absolute_error(y_train, lr_perm_model.predict(X_train[perm_shortlist]))"
   ]
  },
  {
   "cell_type": "code",
   "execution_count": 108,
   "metadata": {},
   "outputs": [],
   "source": [
    "validation_MAE4 = mean_absolute_error(y_val, lr_perm_model.predict(X_val[perm_shortlist]))"
   ]
  },
  {
   "cell_type": "markdown",
   "metadata": {},
   "source": [
    "## original lr w/ SelectKBest"
   ]
  },
  {
   "cell_type": "code",
   "execution_count": 109,
   "metadata": {},
   "outputs": [
    {
     "name": "stdout",
     "output_type": "stream",
     "text": [
      "If we estimated Total Earnings at $19.597481449525453,\n",
      "we would be off by $24.54002158371927 on average.\n",
      "Baseline RMSE:\n",
      " 4.953788609107101\n",
      "Training MAE: 8.851607266387125\n",
      "Validation MAE: 22.210430955645162\n"
     ]
    }
   ],
   "source": [
    "print(f\"If we estimated Total Earnings at ${nbaseline.guess},\")\n",
    "print(f\"we would be off by ${nbaseline.MAE} on average.\")\n",
    "print(\"Baseline RMSE:\\n\", math.sqrt(mean_absolute_error(twitch_df['Total_Earnings'],\n",
    "                        [twitch_df['Total_Earnings'].mean()]*len(twitch_df['Total_Earnings']))))\n",
    "print(f\"Training MAE: {training_MAE}\")\n",
    "print(f\"Validation MAE: {validation_MAE}\")"
   ]
  },
  {
   "cell_type": "markdown",
   "metadata": {},
   "source": [
    "## lr w/ Perm Importance Shortlist"
   ]
  },
  {
   "cell_type": "code",
   "execution_count": 110,
   "metadata": {},
   "outputs": [
    {
     "name": "stdout",
     "output_type": "stream",
     "text": [
      "If we estimated Total Earnings at $19.597481449525453,\n",
      "we would be off by $24.54002158371927 on average.\n",
      "Baseline RMSE:\n",
      " 4.953788609107101\n",
      "Training MAE: 24.693670928729972\n",
      "Validation MAE: 23.566812673093548\n"
     ]
    }
   ],
   "source": [
    "print(f\"If we estimated Total Earnings at ${nbaseline.guess},\")\n",
    "print(f\"we would be off by ${nbaseline.MAE} on average.\")\n",
    "print(\"Baseline RMSE:\\n\", math.sqrt(mean_absolute_error(twitch_df['Total_Earnings'],\n",
    "                        [twitch_df['Total_Earnings'].mean()]*len(twitch_df['Total_Earnings']))))\n",
    "print(f\"Training MAE: {training_MAE4}\")\n",
    "print(f\"Validation MAE: {validation_MAE4}\")"
   ]
  },
  {
   "cell_type": "code",
   "execution_count": null,
   "metadata": {},
   "outputs": [],
   "source": []
  }
 ],
 "metadata": {
  "kernelspec": {
   "display_name": "Python 3",
   "language": "python",
   "name": "python3"
  },
  "language_info": {
   "codemirror_mode": {
    "name": "ipython",
    "version": 3
   },
   "file_extension": ".py",
   "mimetype": "text/x-python",
   "name": "python",
   "nbconvert_exporter": "python",
   "pygments_lexer": "ipython3",
   "version": "3.8.3"
  }
 },
 "nbformat": 4,
 "nbformat_minor": 4
}
