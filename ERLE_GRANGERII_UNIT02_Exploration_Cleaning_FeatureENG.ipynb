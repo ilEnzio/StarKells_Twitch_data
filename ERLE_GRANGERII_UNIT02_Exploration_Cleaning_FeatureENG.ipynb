{
 "cells": [
  {
   "cell_type": "markdown",
   "metadata": {
    "colab_type": "text",
    "id": "view-in-github"
   },
   "source": [
    "<a href=\"https://colab.research.google.com/github/ilEnzio/StarKells_Twitch_data/blob/master/ERLE_GRANGERII_UNIT02_Exploration_Cleaning_FeatureENG.ipynb\" target=\"_parent\"><img src=\"https://colab.research.google.com/assets/colab-badge.svg\" alt=\"Open In Colab\"/></a>"
   ]
  },
  {
   "cell_type": "markdown",
   "metadata": {
    "colab_type": "text",
    "id": "U27Mg3TViWQA"
   },
   "source": [
    "### So far I have sourced data directly from twitch.com:\n",
    "\n",
    "**starkells_twitch_copy.csv**\n",
    "\n",
    "It is located on a temp git hub.  \n",
    "\n",
    "This data are the **basic \"analytics\"** that twitch makes available to every **\"affilate\" or \"partnered\" streamer**.  It represents the entire stream history from the very first stream to the present.  During this time -**approximately 3 years **-  \"StarKells\" has streamed part-time and grown her following and revenue from zero to the present numbers. \n",
    "\n",
    "**My research question** will probably be centered around determining which factors are the most important for **revenue or follower growth.** \n",
    "\n",
    "Revenue is self explanatory, but follower growth is important because currently starkells is an affliate but **would like to become a partnered streamer** - better contract/more perks and status from twitch.  In order to become a partner she **must raise her viewing numbers irrespective of revenue**.   "
   ]
  },
  {
   "cell_type": "code",
   "execution_count": 1,
   "metadata": {
    "colab": {
     "base_uri": "https://localhost:8080/",
     "height": 1000
    },
    "colab_type": "code",
    "id": "ES2U_Bm0fxvi",
    "outputId": "ffeae192-8468-4213-c487-23621db729e7"
   },
   "outputs": [
    {
     "name": "stdout",
     "output_type": "stream",
     "text": [
      "Collecting category_encoders==2.*\n",
      "  Downloading category_encoders-2.2.2-py2.py3-none-any.whl (80 kB)\n",
      "\u001b[K     |████████████████████████████████| 80 kB 1.4 MB/s eta 0:00:011\n",
      "\u001b[?25hCollecting scipy>=1.0.0\n",
      "  Downloading scipy-1.5.2-cp38-cp38-macosx_10_9_x86_64.whl (28.9 MB)\n",
      "\u001b[K     |████████████████████████████████| 28.9 MB 14.7 MB/s eta 0:00:01\n",
      "\u001b[?25hCollecting numpy>=1.14.0\n",
      "  Downloading numpy-1.19.1-cp38-cp38-macosx_10_9_x86_64.whl (15.3 MB)\n",
      "\u001b[K     |████████████████████████████████| 15.3 MB 21.9 MB/s eta 0:00:01\n",
      "\u001b[?25hCollecting scikit-learn>=0.20.0\n",
      "  Downloading scikit_learn-0.23.2-cp38-cp38-macosx_10_9_x86_64.whl (7.2 MB)\n",
      "\u001b[K     |████████████████████████████████| 7.2 MB 23.6 MB/s eta 0:00:01\n",
      "\u001b[?25hCollecting patsy>=0.5.1\n",
      "  Downloading patsy-0.5.1-py2.py3-none-any.whl (231 kB)\n",
      "\u001b[K     |████████████████████████████████| 231 kB 29.0 MB/s eta 0:00:01\n",
      "\u001b[?25hCollecting statsmodels>=0.9.0\n",
      "  Downloading statsmodels-0.11.1-cp38-cp38-macosx_10_13_x86_64.whl (8.5 MB)\n",
      "\u001b[K     |████████████████████████████████| 8.5 MB 26.5 MB/s eta 0:00:01\n",
      "\u001b[?25hCollecting pandas>=0.21.1\n",
      "  Downloading pandas-1.1.0-cp38-cp38-macosx_10_9_x86_64.whl (10.6 MB)\n",
      "\u001b[K     |████████████████████████████████| 10.6 MB 25.0 MB/s eta 0:00:01\n",
      "\u001b[?25hCollecting threadpoolctl>=2.0.0\n",
      "  Downloading threadpoolctl-2.1.0-py3-none-any.whl (12 kB)\n",
      "Collecting joblib>=0.11\n",
      "  Downloading joblib-0.16.0-py3-none-any.whl (300 kB)\n",
      "\u001b[K     |████████████████████████████████| 300 kB 26.4 MB/s eta 0:00:01\n",
      "\u001b[?25hRequirement already satisfied: six in /Users/kellycho/.local/share/virtualenvs/StarKells_Twitch_data-N6g9n_I3/lib/python3.8/site-packages (from patsy>=0.5.1->category_encoders==2.*) (1.15.0)\n",
      "Collecting pytz>=2017.2\n",
      "  Using cached pytz-2020.1-py2.py3-none-any.whl (510 kB)\n",
      "Requirement already satisfied: python-dateutil>=2.7.3 in /Users/kellycho/.local/share/virtualenvs/StarKells_Twitch_data-N6g9n_I3/lib/python3.8/site-packages (from pandas>=0.21.1->category_encoders==2.*) (2.8.1)\n",
      "Installing collected packages: numpy, scipy, threadpoolctl, joblib, scikit-learn, patsy, pytz, pandas, statsmodels, category-encoders\n",
      "Successfully installed category-encoders-2.2.2 joblib-0.16.0 numpy-1.19.1 pandas-1.1.0 patsy-0.5.1 pytz-2020.1 scikit-learn-0.23.2 scipy-1.5.2 statsmodels-0.11.1 threadpoolctl-2.1.0\n",
      "Collecting pandas-profiling==2.*\n",
      "  Using cached pandas_profiling-2.8.0-py2.py3-none-any.whl (259 kB)\n",
      "Collecting visions[type_image_path]==0.4.4\n",
      "  Using cached visions-0.4.4-py3-none-any.whl (59 kB)\n",
      "Collecting confuse>=1.0.0\n",
      "  Using cached confuse-1.3.0-py2.py3-none-any.whl (64 kB)\n",
      "Collecting tqdm>=4.43.0\n",
      "  Downloading tqdm-4.48.2-py2.py3-none-any.whl (68 kB)\n",
      "\u001b[K     |████████████████████████████████| 68 kB 1.3 MB/s eta 0:00:011\n",
      "\u001b[?25hCollecting ipywidgets>=7.5.1\n",
      "  Using cached ipywidgets-7.5.1-py2.py3-none-any.whl (121 kB)\n",
      "Collecting missingno>=0.4.2\n",
      "  Using cached missingno-0.4.2-py3-none-any.whl (9.7 kB)\n",
      "Requirement already satisfied: joblib in /Users/kellycho/.local/share/virtualenvs/StarKells_Twitch_data-N6g9n_I3/lib/python3.8/site-packages (from pandas-profiling==2.*) (0.16.0)\n",
      "Collecting matplotlib>=3.2.0\n",
      "  Downloading matplotlib-3.3.1-cp38-cp38-macosx_10_9_x86_64.whl (8.5 MB)\n",
      "\u001b[K     |████████████████████████████████| 8.5 MB 3.3 MB/s eta 0:00:01\n",
      "\u001b[?25hCollecting phik>=0.9.10\n",
      "  Using cached phik-0.10.0-py3-none-any.whl (599 kB)\n",
      "Collecting astropy>=4.0\n",
      "  Using cached astropy-4.0.1.post1-cp38-cp38-macosx_10_9_x86_64.whl (6.5 MB)\n",
      "Requirement already satisfied: numpy>=1.16.0 in /Users/kellycho/.local/share/virtualenvs/StarKells_Twitch_data-N6g9n_I3/lib/python3.8/site-packages (from pandas-profiling==2.*) (1.19.1)\n",
      "Processing /Users/kellycho/Library/Caches/pip/wheels/23/14/6e/4be5bfeeb027f4939a01764b48edd5996acf574b0913fe5243/htmlmin-0.1.12-py3-none-any.whl\n",
      "Requirement already satisfied: scipy>=1.4.1 in /Users/kellycho/.local/share/virtualenvs/StarKells_Twitch_data-N6g9n_I3/lib/python3.8/site-packages (from pandas-profiling==2.*) (1.5.2)\n",
      "Requirement already satisfied: jinja2>=2.11.1 in /Users/kellycho/.local/share/virtualenvs/StarKells_Twitch_data-N6g9n_I3/lib/python3.8/site-packages (from pandas-profiling==2.*) (2.11.2)\n",
      "Requirement already satisfied: pandas!=1.0.0,!=1.0.1,!=1.0.2,>=0.25.3 in /Users/kellycho/.local/share/virtualenvs/StarKells_Twitch_data-N6g9n_I3/lib/python3.8/site-packages (from pandas-profiling==2.*) (1.1.0)\n",
      "Collecting tangled-up-in-unicode>=0.0.6\n",
      "  Using cached tangled_up_in_unicode-0.0.6-py3-none-any.whl (3.1 MB)\n",
      "Requirement already satisfied: requests>=2.23.0 in /Users/kellycho/.local/share/virtualenvs/StarKells_Twitch_data-N6g9n_I3/lib/python3.8/site-packages (from pandas-profiling==2.*) (2.24.0)\n",
      "Collecting networkx>=2.4\n",
      "  Using cached networkx-2.4-py3-none-any.whl (1.6 MB)\n",
      "Requirement already satisfied: attrs>=19.3.0 in /Users/kellycho/.local/share/virtualenvs/StarKells_Twitch_data-N6g9n_I3/lib/python3.8/site-packages (from visions[type_image_path]==0.4.4->pandas-profiling==2.*) (19.3.0)\n",
      "Processing /Users/kellycho/Library/Caches/pip/wheels/cc/57/bb/6f9f52a6d8187b8f806210e3378837aa4dc6219cd64cb99846/ImageHash-4.1.0-py2.py3-none-any.whl\n",
      "Collecting Pillow; extra == \"type_image_path\"\n",
      "  Downloading Pillow-7.2.0-cp38-cp38-macosx_10_10_x86_64.whl (2.2 MB)\n",
      "\u001b[K     |████████████████████████████████| 2.2 MB 35.1 MB/s eta 0:00:01\n",
      "\u001b[?25hProcessing /Users/kellycho/Library/Caches/pip/wheels/13/90/db/290ab3a34f2ef0b5a0f89235dc2d40fea83e77de84ed2dc05c/PyYAML-5.3.1-cp38-cp38-macosx_10_9_x86_64.whl\n",
      "Requirement already satisfied: ipython>=4.0.0; python_version >= \"3.3\" in /Users/kellycho/.local/share/virtualenvs/StarKells_Twitch_data-N6g9n_I3/lib/python3.8/site-packages (from ipywidgets>=7.5.1->pandas-profiling==2.*) (7.17.0)\n",
      "Requirement already satisfied: traitlets>=4.3.1 in /Users/kellycho/.local/share/virtualenvs/StarKells_Twitch_data-N6g9n_I3/lib/python3.8/site-packages (from ipywidgets>=7.5.1->pandas-profiling==2.*) (4.3.3)\n",
      "Requirement already satisfied: ipykernel>=4.5.1 in /Users/kellycho/.local/share/virtualenvs/StarKells_Twitch_data-N6g9n_I3/lib/python3.8/site-packages (from ipywidgets>=7.5.1->pandas-profiling==2.*) (5.3.4)\n",
      "Collecting widgetsnbextension~=3.5.0\n",
      "  Using cached widgetsnbextension-3.5.1-py2.py3-none-any.whl (2.2 MB)\n",
      "Requirement already satisfied: nbformat>=4.2.0 in /Users/kellycho/.local/share/virtualenvs/StarKells_Twitch_data-N6g9n_I3/lib/python3.8/site-packages (from ipywidgets>=7.5.1->pandas-profiling==2.*) (5.0.7)\n",
      "Collecting seaborn\n",
      "  Downloading seaborn-0.10.1-py3-none-any.whl (215 kB)\n",
      "\u001b[K     |████████████████████████████████| 215 kB 28.1 MB/s eta 0:00:01\n",
      "\u001b[?25hRequirement already satisfied: pyparsing!=2.0.4,!=2.1.2,!=2.1.6,>=2.0.3 in /Users/kellycho/.local/share/virtualenvs/StarKells_Twitch_data-N6g9n_I3/lib/python3.8/site-packages (from matplotlib>=3.2.0->pandas-profiling==2.*) (2.4.7)\n",
      "Requirement already satisfied: certifi>=2020.06.20 in /Users/kellycho/.local/share/virtualenvs/StarKells_Twitch_data-N6g9n_I3/lib/python3.8/site-packages (from matplotlib>=3.2.0->pandas-profiling==2.*) (2020.6.20)\n",
      "Collecting kiwisolver>=1.0.1\n",
      "  Using cached kiwisolver-1.2.0-cp38-cp38-macosx_10_9_x86_64.whl (60 kB)\n",
      "Requirement already satisfied: python-dateutil>=2.1 in /Users/kellycho/.local/share/virtualenvs/StarKells_Twitch_data-N6g9n_I3/lib/python3.8/site-packages (from matplotlib>=3.2.0->pandas-profiling==2.*) (2.8.1)\n",
      "Collecting cycler>=0.10\n",
      "  Using cached cycler-0.10.0-py2.py3-none-any.whl (6.5 kB)\n",
      "Collecting numba>=0.38.1\n",
      "  Using cached numba-0.51.0-cp38-cp38-macosx_10_14_x86_64.whl (2.2 MB)\n",
      "Requirement already satisfied: MarkupSafe>=0.23 in /Users/kellycho/.local/share/virtualenvs/StarKells_Twitch_data-N6g9n_I3/lib/python3.8/site-packages (from jinja2>=2.11.1->pandas-profiling==2.*) (1.1.1)\n",
      "Requirement already satisfied: pytz>=2017.2 in /Users/kellycho/.local/share/virtualenvs/StarKells_Twitch_data-N6g9n_I3/lib/python3.8/site-packages (from pandas!=1.0.0,!=1.0.1,!=1.0.2,>=0.25.3->pandas-profiling==2.*) (2020.1)\n",
      "Requirement already satisfied: chardet<4,>=3.0.2 in /Users/kellycho/.local/share/virtualenvs/StarKells_Twitch_data-N6g9n_I3/lib/python3.8/site-packages (from requests>=2.23.0->pandas-profiling==2.*) (3.0.4)\n",
      "Requirement already satisfied: urllib3!=1.25.0,!=1.25.1,<1.26,>=1.21.1 in /Users/kellycho/.local/share/virtualenvs/StarKells_Twitch_data-N6g9n_I3/lib/python3.8/site-packages (from requests>=2.23.0->pandas-profiling==2.*) (1.25.10)\n",
      "Requirement already satisfied: idna<3,>=2.5 in /Users/kellycho/.local/share/virtualenvs/StarKells_Twitch_data-N6g9n_I3/lib/python3.8/site-packages (from requests>=2.23.0->pandas-profiling==2.*) (2.10)\n",
      "Requirement already satisfied: decorator>=4.3.0 in /Users/kellycho/.local/share/virtualenvs/StarKells_Twitch_data-N6g9n_I3/lib/python3.8/site-packages (from networkx>=2.4->visions[type_image_path]==0.4.4->pandas-profiling==2.*) (4.4.2)\n",
      "Requirement already satisfied: six in /Users/kellycho/.local/share/virtualenvs/StarKells_Twitch_data-N6g9n_I3/lib/python3.8/site-packages (from imagehash; extra == \"type_image_path\"->visions[type_image_path]==0.4.4->pandas-profiling==2.*) (1.15.0)\n",
      "Collecting PyWavelets\n",
      "  Using cached PyWavelets-1.1.1-cp38-cp38-macosx_10_9_x86_64.whl (4.3 MB)\n",
      "Requirement already satisfied: jedi>=0.10 in /Users/kellycho/.local/share/virtualenvs/StarKells_Twitch_data-N6g9n_I3/lib/python3.8/site-packages (from ipython>=4.0.0; python_version >= \"3.3\"->ipywidgets>=7.5.1->pandas-profiling==2.*) (0.17.2)\n",
      "Requirement already satisfied: prompt-toolkit!=3.0.0,!=3.0.1,<3.1.0,>=2.0.0 in /Users/kellycho/.local/share/virtualenvs/StarKells_Twitch_data-N6g9n_I3/lib/python3.8/site-packages (from ipython>=4.0.0; python_version >= \"3.3\"->ipywidgets>=7.5.1->pandas-profiling==2.*) (3.0.6)\n",
      "Requirement already satisfied: pickleshare in /Users/kellycho/.local/share/virtualenvs/StarKells_Twitch_data-N6g9n_I3/lib/python3.8/site-packages (from ipython>=4.0.0; python_version >= \"3.3\"->ipywidgets>=7.5.1->pandas-profiling==2.*) (0.7.5)\n",
      "Requirement already satisfied: backcall in /Users/kellycho/.local/share/virtualenvs/StarKells_Twitch_data-N6g9n_I3/lib/python3.8/site-packages (from ipython>=4.0.0; python_version >= \"3.3\"->ipywidgets>=7.5.1->pandas-profiling==2.*) (0.2.0)\n",
      "Requirement already satisfied: setuptools>=18.5 in /Users/kellycho/.local/share/virtualenvs/StarKells_Twitch_data-N6g9n_I3/lib/python3.8/site-packages (from ipython>=4.0.0; python_version >= \"3.3\"->ipywidgets>=7.5.1->pandas-profiling==2.*) (49.6.0)\n",
      "Requirement already satisfied: appnope; sys_platform == \"darwin\" in /Users/kellycho/.local/share/virtualenvs/StarKells_Twitch_data-N6g9n_I3/lib/python3.8/site-packages (from ipython>=4.0.0; python_version >= \"3.3\"->ipywidgets>=7.5.1->pandas-profiling==2.*) (0.1.0)\n",
      "Requirement already satisfied: pygments in /Users/kellycho/.local/share/virtualenvs/StarKells_Twitch_data-N6g9n_I3/lib/python3.8/site-packages (from ipython>=4.0.0; python_version >= \"3.3\"->ipywidgets>=7.5.1->pandas-profiling==2.*) (2.6.1)\n",
      "Requirement already satisfied: pexpect; sys_platform != \"win32\" in /Users/kellycho/.local/share/virtualenvs/StarKells_Twitch_data-N6g9n_I3/lib/python3.8/site-packages (from ipython>=4.0.0; python_version >= \"3.3\"->ipywidgets>=7.5.1->pandas-profiling==2.*) (4.8.0)\n",
      "Requirement already satisfied: ipython-genutils in /Users/kellycho/.local/share/virtualenvs/StarKells_Twitch_data-N6g9n_I3/lib/python3.8/site-packages (from traitlets>=4.3.1->ipywidgets>=7.5.1->pandas-profiling==2.*) (0.2.0)\n",
      "Requirement already satisfied: jupyter-client in /Users/kellycho/.local/share/virtualenvs/StarKells_Twitch_data-N6g9n_I3/lib/python3.8/site-packages (from ipykernel>=4.5.1->ipywidgets>=7.5.1->pandas-profiling==2.*) (6.1.6)\n",
      "Requirement already satisfied: tornado>=4.2 in /Users/kellycho/.local/share/virtualenvs/StarKells_Twitch_data-N6g9n_I3/lib/python3.8/site-packages (from ipykernel>=4.5.1->ipywidgets>=7.5.1->pandas-profiling==2.*) (6.0.4)\n",
      "Requirement already satisfied: notebook>=4.4.1 in /Users/kellycho/.local/share/virtualenvs/StarKells_Twitch_data-N6g9n_I3/lib/python3.8/site-packages (from widgetsnbextension~=3.5.0->ipywidgets>=7.5.1->pandas-profiling==2.*) (6.1.3)\n",
      "Requirement already satisfied: jsonschema!=2.5.0,>=2.4 in /Users/kellycho/.local/share/virtualenvs/StarKells_Twitch_data-N6g9n_I3/lib/python3.8/site-packages (from nbformat>=4.2.0->ipywidgets>=7.5.1->pandas-profiling==2.*) (3.2.0)\n",
      "Requirement already satisfied: jupyter-core in /Users/kellycho/.local/share/virtualenvs/StarKells_Twitch_data-N6g9n_I3/lib/python3.8/site-packages (from nbformat>=4.2.0->ipywidgets>=7.5.1->pandas-profiling==2.*) (4.6.3)\n",
      "Collecting llvmlite<0.35,>=0.34.0.dev0\n",
      "  Using cached llvmlite-0.34.0-cp38-cp38-macosx_10_9_x86_64.whl (18.4 MB)\n",
      "Requirement already satisfied: parso<0.8.0,>=0.7.0 in /Users/kellycho/.local/share/virtualenvs/StarKells_Twitch_data-N6g9n_I3/lib/python3.8/site-packages (from jedi>=0.10->ipython>=4.0.0; python_version >= \"3.3\"->ipywidgets>=7.5.1->pandas-profiling==2.*) (0.7.1)\n",
      "Requirement already satisfied: wcwidth in /Users/kellycho/.local/share/virtualenvs/StarKells_Twitch_data-N6g9n_I3/lib/python3.8/site-packages (from prompt-toolkit!=3.0.0,!=3.0.1,<3.1.0,>=2.0.0->ipython>=4.0.0; python_version >= \"3.3\"->ipywidgets>=7.5.1->pandas-profiling==2.*) (0.2.5)\n",
      "Requirement already satisfied: ptyprocess>=0.5 in /Users/kellycho/.local/share/virtualenvs/StarKells_Twitch_data-N6g9n_I3/lib/python3.8/site-packages (from pexpect; sys_platform != \"win32\"->ipython>=4.0.0; python_version >= \"3.3\"->ipywidgets>=7.5.1->pandas-profiling==2.*) (0.6.0)\n",
      "Requirement already satisfied: pyzmq>=13 in /Users/kellycho/.local/share/virtualenvs/StarKells_Twitch_data-N6g9n_I3/lib/python3.8/site-packages (from jupyter-client->ipykernel>=4.5.1->ipywidgets>=7.5.1->pandas-profiling==2.*) (19.0.2)\n",
      "Requirement already satisfied: Send2Trash in /Users/kellycho/.local/share/virtualenvs/StarKells_Twitch_data-N6g9n_I3/lib/python3.8/site-packages (from notebook>=4.4.1->widgetsnbextension~=3.5.0->ipywidgets>=7.5.1->pandas-profiling==2.*) (1.5.0)\n",
      "Requirement already satisfied: nbconvert in /Users/kellycho/.local/share/virtualenvs/StarKells_Twitch_data-N6g9n_I3/lib/python3.8/site-packages (from notebook>=4.4.1->widgetsnbextension~=3.5.0->ipywidgets>=7.5.1->pandas-profiling==2.*) (5.6.1)\n",
      "Requirement already satisfied: argon2-cffi in /Users/kellycho/.local/share/virtualenvs/StarKells_Twitch_data-N6g9n_I3/lib/python3.8/site-packages (from notebook>=4.4.1->widgetsnbextension~=3.5.0->ipywidgets>=7.5.1->pandas-profiling==2.*) (20.1.0)\n",
      "Requirement already satisfied: terminado>=0.8.3 in /Users/kellycho/.local/share/virtualenvs/StarKells_Twitch_data-N6g9n_I3/lib/python3.8/site-packages (from notebook>=4.4.1->widgetsnbextension~=3.5.0->ipywidgets>=7.5.1->pandas-profiling==2.*) (0.8.3)\n",
      "Requirement already satisfied: prometheus-client in /Users/kellycho/.local/share/virtualenvs/StarKells_Twitch_data-N6g9n_I3/lib/python3.8/site-packages (from notebook>=4.4.1->widgetsnbextension~=3.5.0->ipywidgets>=7.5.1->pandas-profiling==2.*) (0.8.0)\n",
      "Requirement already satisfied: pyrsistent>=0.14.0 in /Users/kellycho/.local/share/virtualenvs/StarKells_Twitch_data-N6g9n_I3/lib/python3.8/site-packages (from jsonschema!=2.5.0,>=2.4->nbformat>=4.2.0->ipywidgets>=7.5.1->pandas-profiling==2.*) (0.16.0)\n",
      "Requirement already satisfied: mistune<2,>=0.8.1 in /Users/kellycho/.local/share/virtualenvs/StarKells_Twitch_data-N6g9n_I3/lib/python3.8/site-packages (from nbconvert->notebook>=4.4.1->widgetsnbextension~=3.5.0->ipywidgets>=7.5.1->pandas-profiling==2.*) (0.8.4)\n",
      "Requirement already satisfied: defusedxml in /Users/kellycho/.local/share/virtualenvs/StarKells_Twitch_data-N6g9n_I3/lib/python3.8/site-packages (from nbconvert->notebook>=4.4.1->widgetsnbextension~=3.5.0->ipywidgets>=7.5.1->pandas-profiling==2.*) (0.6.0)\n",
      "Requirement already satisfied: pandocfilters>=1.4.1 in /Users/kellycho/.local/share/virtualenvs/StarKells_Twitch_data-N6g9n_I3/lib/python3.8/site-packages (from nbconvert->notebook>=4.4.1->widgetsnbextension~=3.5.0->ipywidgets>=7.5.1->pandas-profiling==2.*) (1.4.2)\n",
      "Requirement already satisfied: testpath in /Users/kellycho/.local/share/virtualenvs/StarKells_Twitch_data-N6g9n_I3/lib/python3.8/site-packages (from nbconvert->notebook>=4.4.1->widgetsnbextension~=3.5.0->ipywidgets>=7.5.1->pandas-profiling==2.*) (0.4.4)\n",
      "Requirement already satisfied: bleach in /Users/kellycho/.local/share/virtualenvs/StarKells_Twitch_data-N6g9n_I3/lib/python3.8/site-packages (from nbconvert->notebook>=4.4.1->widgetsnbextension~=3.5.0->ipywidgets>=7.5.1->pandas-profiling==2.*) (3.1.5)\n",
      "Requirement already satisfied: entrypoints>=0.2.2 in /Users/kellycho/.local/share/virtualenvs/StarKells_Twitch_data-N6g9n_I3/lib/python3.8/site-packages (from nbconvert->notebook>=4.4.1->widgetsnbextension~=3.5.0->ipywidgets>=7.5.1->pandas-profiling==2.*) (0.3)\n",
      "Requirement already satisfied: cffi>=1.0.0 in /Users/kellycho/.local/share/virtualenvs/StarKells_Twitch_data-N6g9n_I3/lib/python3.8/site-packages (from argon2-cffi->notebook>=4.4.1->widgetsnbextension~=3.5.0->ipywidgets>=7.5.1->pandas-profiling==2.*) (1.14.2)\n",
      "Requirement already satisfied: webencodings in /Users/kellycho/.local/share/virtualenvs/StarKells_Twitch_data-N6g9n_I3/lib/python3.8/site-packages (from bleach->nbconvert->notebook>=4.4.1->widgetsnbextension~=3.5.0->ipywidgets>=7.5.1->pandas-profiling==2.*) (0.5.1)\n",
      "Requirement already satisfied: packaging in /Users/kellycho/.local/share/virtualenvs/StarKells_Twitch_data-N6g9n_I3/lib/python3.8/site-packages (from bleach->nbconvert->notebook>=4.4.1->widgetsnbextension~=3.5.0->ipywidgets>=7.5.1->pandas-profiling==2.*) (20.4)\n",
      "Requirement already satisfied: pycparser in /Users/kellycho/.local/share/virtualenvs/StarKells_Twitch_data-N6g9n_I3/lib/python3.8/site-packages (from cffi>=1.0.0->argon2-cffi->notebook>=4.4.1->widgetsnbextension~=3.5.0->ipywidgets>=7.5.1->pandas-profiling==2.*) (2.20)\n",
      "Installing collected packages: networkx, tangled-up-in-unicode, Pillow, PyWavelets, imagehash, visions, pyyaml, confuse, tqdm, widgetsnbextension, ipywidgets, kiwisolver, cycler, matplotlib, seaborn, missingno, llvmlite, numba, phik, astropy, htmlmin, pandas-profiling\n",
      "Successfully installed Pillow-7.2.0 PyWavelets-1.1.1 astropy-4.0.1.post1 confuse-1.3.0 cycler-0.10.0 htmlmin-0.1.12 imagehash-4.1.0 ipywidgets-7.5.1 kiwisolver-1.2.0 llvmlite-0.34.0 matplotlib-3.3.1 missingno-0.4.2 networkx-2.4 numba-0.51.0 pandas-profiling-2.8.0 phik-0.10.0 pyyaml-5.3.1 seaborn-0.10.1 tangled-up-in-unicode-0.0.6 tqdm-4.48.2 visions-0.4.4 widgetsnbextension-3.5.1\n"
     ]
    }
   ],
   "source": [
    "!pip install category_encoders==2.*\n",
    "!pip install pandas-profiling==2.*"
   ]
  },
  {
   "cell_type": "markdown",
   "metadata": {
    "colab_type": "text",
    "id": "8oTTN-cAfhra"
   },
   "source": [
    "## Import some basic libraries\n"
   ]
  },
  {
   "cell_type": "code",
   "execution_count": 2,
   "metadata": {
    "colab": {
     "base_uri": "https://localhost:8080/",
     "height": 71
    },
    "colab_type": "code",
    "id": "jd0PWhK8fN_z",
    "outputId": "616753cc-94db-4046-fffb-7496c837b9f3"
   },
   "outputs": [],
   "source": [
    "import numpy as np\n",
    "import pandas as pd\n",
    "import matplotlib.pyplot as plt\n",
    "from scipy import stats\n",
    "\n",
    "from datetime import datetime\n",
    "\n",
    "import category_encoders as ce\n",
    "from category_encoders import OrdinalEncoder # encode cats into ordered numbers\n",
    "from category_encoders import OneHotEncoder # splits cat variable \n"
   ]
  },
  {
   "cell_type": "code",
   "execution_count": null,
   "metadata": {
    "colab": {},
    "colab_type": "code",
    "id": "--u0NW8sUEbO"
   },
   "outputs": [],
   "source": [
    "dates = [\"Date\"]\n",
    "twitch_analy_df = pd.read_csv(\"https://raw.githubusercontent.com/ilEnzio/StarKells_Twitch_data/master/starkells_twitch_copy.csv\")\n",
    "donations_df = pd.read_csv(\"https://raw.githubusercontent.com/ilEnzio/StarKells_Twitch_data/master/starkells_twitch_donation.csv\",\n",
    "                           parse_dates=dates)"
   ]
  },
  {
   "cell_type": "code",
   "execution_count": null,
   "metadata": {
    "colab": {
     "base_uri": "https://localhost:8080/",
     "height": 968,
     "referenced_widgets": [
      "995a0d6e40a948629c1e1811d4ed9fc2",
      "f7b88059947243e1affebac735895d47",
      "b88b2dcff19948369f7ba07e89b047f9",
      "232ce00b894d4d3a84e579e96f8b5445",
      "b214b669fd5044fe84e6664c98ee8da6",
      "4389c5c079ee438badcd070c2b0acf90",
      "da4a1205d7cd4ce7ad85202a02fc41a0",
      "41f15bc221794ce8b8e52509fb51cc94",
      "23e8eabf85b24ca8a28b12caa997530a",
      "c0979a334ea04a75b6c7c9ed1033c074",
      "caf8190eab014fccb585e4000bb5cca6",
      "993cc5ef852549589f2cb7e1d45e5be7",
      "fc6f9897a717419cb0f1cdea63810b3a",
      "4390d0aa36b8402bac2698b35d30c8e5",
      "bb38615f439a4f21b1106c6d7f39e392",
      "07758bfc8f644b6fa794b71be2f58083",
      "48b309daecf24ca0876f87c186aeb753",
      "80d4b9d6b75349d99523c750dca12ce6",
      "5ce66d1f7cf64df9b2b549ae015b9d8b",
      "2d72769cd08a474b88a3c695a97bb540",
      "17c3681e385c44ccba0bfeb3f6d8f13f",
      "bcb4709c08cc4652bda2d015d61bdc42",
      "4ced17fac8764ec7b80ea84e42ec88c2",
      "51f50fe6dbd246dda87bfac464c16856"
     ]
    },
    "colab_type": "code",
    "id": "bWFobvbNMLBI",
    "outputId": "9f5578c8-ff86-46b8-ae8d-311818f21b04"
   },
   "outputs": [],
   "source": [
    "# New code for Pandas Profiling version 2.4\n",
    "from pandas_profiling import ProfileReport\n",
    "profile = ProfileReport(twitch_analy_df, minimal=True).to_notebook_iframe()\n",
    "\n",
    "profile"
   ]
  },
  {
   "cell_type": "code",
   "execution_count": 5,
   "metadata": {},
   "outputs": [
    {
     "ename": "URLError",
     "evalue": "<urlopen error [SSL: CERTIFICATE_VERIFY_FAILED] certificate verify failed: unable to get local issuer certificate (_ssl.c:1108)>",
     "output_type": "error",
     "traceback": [
      "\u001b[0;31m---------------------------------------------------------------------------\u001b[0m",
      "\u001b[0;31mSSLCertVerificationError\u001b[0m                  Traceback (most recent call last)",
      "\u001b[0;32m/Library/Frameworks/Python.framework/Versions/3.8/lib/python3.8/urllib/request.py\u001b[0m in \u001b[0;36mdo_open\u001b[0;34m(self, http_class, req, **http_conn_args)\u001b[0m\n\u001b[1;32m   1349\u001b[0m             \u001b[0;32mtry\u001b[0m\u001b[0;34m:\u001b[0m\u001b[0;34m\u001b[0m\u001b[0;34m\u001b[0m\u001b[0m\n\u001b[0;32m-> 1350\u001b[0;31m                 h.request(req.get_method(), req.selector, req.data, headers,\n\u001b[0m\u001b[1;32m   1351\u001b[0m                           encode_chunked=req.has_header('Transfer-encoding'))\n",
      "\u001b[0;32m/Library/Frameworks/Python.framework/Versions/3.8/lib/python3.8/http/client.py\u001b[0m in \u001b[0;36mrequest\u001b[0;34m(self, method, url, body, headers, encode_chunked)\u001b[0m\n\u001b[1;32m   1239\u001b[0m         \u001b[0;34m\"\"\"Send a complete request to the server.\"\"\"\u001b[0m\u001b[0;34m\u001b[0m\u001b[0;34m\u001b[0m\u001b[0m\n\u001b[0;32m-> 1240\u001b[0;31m         \u001b[0mself\u001b[0m\u001b[0;34m.\u001b[0m\u001b[0m_send_request\u001b[0m\u001b[0;34m(\u001b[0m\u001b[0mmethod\u001b[0m\u001b[0;34m,\u001b[0m \u001b[0murl\u001b[0m\u001b[0;34m,\u001b[0m \u001b[0mbody\u001b[0m\u001b[0;34m,\u001b[0m \u001b[0mheaders\u001b[0m\u001b[0;34m,\u001b[0m \u001b[0mencode_chunked\u001b[0m\u001b[0;34m)\u001b[0m\u001b[0;34m\u001b[0m\u001b[0;34m\u001b[0m\u001b[0m\n\u001b[0m\u001b[1;32m   1241\u001b[0m \u001b[0;34m\u001b[0m\u001b[0m\n",
      "\u001b[0;32m/Library/Frameworks/Python.framework/Versions/3.8/lib/python3.8/http/client.py\u001b[0m in \u001b[0;36m_send_request\u001b[0;34m(self, method, url, body, headers, encode_chunked)\u001b[0m\n\u001b[1;32m   1285\u001b[0m             \u001b[0mbody\u001b[0m \u001b[0;34m=\u001b[0m \u001b[0m_encode\u001b[0m\u001b[0;34m(\u001b[0m\u001b[0mbody\u001b[0m\u001b[0;34m,\u001b[0m \u001b[0;34m'body'\u001b[0m\u001b[0;34m)\u001b[0m\u001b[0;34m\u001b[0m\u001b[0;34m\u001b[0m\u001b[0m\n\u001b[0;32m-> 1286\u001b[0;31m         \u001b[0mself\u001b[0m\u001b[0;34m.\u001b[0m\u001b[0mendheaders\u001b[0m\u001b[0;34m(\u001b[0m\u001b[0mbody\u001b[0m\u001b[0;34m,\u001b[0m \u001b[0mencode_chunked\u001b[0m\u001b[0;34m=\u001b[0m\u001b[0mencode_chunked\u001b[0m\u001b[0;34m)\u001b[0m\u001b[0;34m\u001b[0m\u001b[0;34m\u001b[0m\u001b[0m\n\u001b[0m\u001b[1;32m   1287\u001b[0m \u001b[0;34m\u001b[0m\u001b[0m\n",
      "\u001b[0;32m/Library/Frameworks/Python.framework/Versions/3.8/lib/python3.8/http/client.py\u001b[0m in \u001b[0;36mendheaders\u001b[0;34m(self, message_body, encode_chunked)\u001b[0m\n\u001b[1;32m   1234\u001b[0m             \u001b[0;32mraise\u001b[0m \u001b[0mCannotSendHeader\u001b[0m\u001b[0;34m(\u001b[0m\u001b[0;34m)\u001b[0m\u001b[0;34m\u001b[0m\u001b[0;34m\u001b[0m\u001b[0m\n\u001b[0;32m-> 1235\u001b[0;31m         \u001b[0mself\u001b[0m\u001b[0;34m.\u001b[0m\u001b[0m_send_output\u001b[0m\u001b[0;34m(\u001b[0m\u001b[0mmessage_body\u001b[0m\u001b[0;34m,\u001b[0m \u001b[0mencode_chunked\u001b[0m\u001b[0;34m=\u001b[0m\u001b[0mencode_chunked\u001b[0m\u001b[0;34m)\u001b[0m\u001b[0;34m\u001b[0m\u001b[0;34m\u001b[0m\u001b[0m\n\u001b[0m\u001b[1;32m   1236\u001b[0m \u001b[0;34m\u001b[0m\u001b[0m\n",
      "\u001b[0;32m/Library/Frameworks/Python.framework/Versions/3.8/lib/python3.8/http/client.py\u001b[0m in \u001b[0;36m_send_output\u001b[0;34m(self, message_body, encode_chunked)\u001b[0m\n\u001b[1;32m   1005\u001b[0m         \u001b[0;32mdel\u001b[0m \u001b[0mself\u001b[0m\u001b[0;34m.\u001b[0m\u001b[0m_buffer\u001b[0m\u001b[0;34m[\u001b[0m\u001b[0;34m:\u001b[0m\u001b[0;34m]\u001b[0m\u001b[0;34m\u001b[0m\u001b[0;34m\u001b[0m\u001b[0m\n\u001b[0;32m-> 1006\u001b[0;31m         \u001b[0mself\u001b[0m\u001b[0;34m.\u001b[0m\u001b[0msend\u001b[0m\u001b[0;34m(\u001b[0m\u001b[0mmsg\u001b[0m\u001b[0;34m)\u001b[0m\u001b[0;34m\u001b[0m\u001b[0;34m\u001b[0m\u001b[0m\n\u001b[0m\u001b[1;32m   1007\u001b[0m \u001b[0;34m\u001b[0m\u001b[0m\n",
      "\u001b[0;32m/Library/Frameworks/Python.framework/Versions/3.8/lib/python3.8/http/client.py\u001b[0m in \u001b[0;36msend\u001b[0;34m(self, data)\u001b[0m\n\u001b[1;32m    945\u001b[0m             \u001b[0;32mif\u001b[0m \u001b[0mself\u001b[0m\u001b[0;34m.\u001b[0m\u001b[0mauto_open\u001b[0m\u001b[0;34m:\u001b[0m\u001b[0;34m\u001b[0m\u001b[0;34m\u001b[0m\u001b[0m\n\u001b[0;32m--> 946\u001b[0;31m                 \u001b[0mself\u001b[0m\u001b[0;34m.\u001b[0m\u001b[0mconnect\u001b[0m\u001b[0;34m(\u001b[0m\u001b[0;34m)\u001b[0m\u001b[0;34m\u001b[0m\u001b[0;34m\u001b[0m\u001b[0m\n\u001b[0m\u001b[1;32m    947\u001b[0m             \u001b[0;32melse\u001b[0m\u001b[0;34m:\u001b[0m\u001b[0;34m\u001b[0m\u001b[0;34m\u001b[0m\u001b[0m\n",
      "\u001b[0;32m/Library/Frameworks/Python.framework/Versions/3.8/lib/python3.8/http/client.py\u001b[0m in \u001b[0;36mconnect\u001b[0;34m(self)\u001b[0m\n\u001b[1;32m   1408\u001b[0m \u001b[0;34m\u001b[0m\u001b[0m\n\u001b[0;32m-> 1409\u001b[0;31m             self.sock = self._context.wrap_socket(self.sock,\n\u001b[0m\u001b[1;32m   1410\u001b[0m                                                   server_hostname=server_hostname)\n",
      "\u001b[0;32m/Library/Frameworks/Python.framework/Versions/3.8/lib/python3.8/ssl.py\u001b[0m in \u001b[0;36mwrap_socket\u001b[0;34m(self, sock, server_side, do_handshake_on_connect, suppress_ragged_eofs, server_hostname, session)\u001b[0m\n\u001b[1;32m    499\u001b[0m         \u001b[0;31m# ctx._wrap_socket()\u001b[0m\u001b[0;34m\u001b[0m\u001b[0;34m\u001b[0m\u001b[0;34m\u001b[0m\u001b[0m\n\u001b[0;32m--> 500\u001b[0;31m         return self.sslsocket_class._create(\n\u001b[0m\u001b[1;32m    501\u001b[0m             \u001b[0msock\u001b[0m\u001b[0;34m=\u001b[0m\u001b[0msock\u001b[0m\u001b[0;34m,\u001b[0m\u001b[0;34m\u001b[0m\u001b[0;34m\u001b[0m\u001b[0m\n",
      "\u001b[0;32m/Library/Frameworks/Python.framework/Versions/3.8/lib/python3.8/ssl.py\u001b[0m in \u001b[0;36m_create\u001b[0;34m(cls, sock, server_side, do_handshake_on_connect, suppress_ragged_eofs, server_hostname, context, session)\u001b[0m\n\u001b[1;32m   1039\u001b[0m                         \u001b[0;32mraise\u001b[0m \u001b[0mValueError\u001b[0m\u001b[0;34m(\u001b[0m\u001b[0;34m\"do_handshake_on_connect should not be specified for non-blocking sockets\"\u001b[0m\u001b[0;34m)\u001b[0m\u001b[0;34m\u001b[0m\u001b[0;34m\u001b[0m\u001b[0m\n\u001b[0;32m-> 1040\u001b[0;31m                     \u001b[0mself\u001b[0m\u001b[0;34m.\u001b[0m\u001b[0mdo_handshake\u001b[0m\u001b[0;34m(\u001b[0m\u001b[0;34m)\u001b[0m\u001b[0;34m\u001b[0m\u001b[0;34m\u001b[0m\u001b[0m\n\u001b[0m\u001b[1;32m   1041\u001b[0m             \u001b[0;32mexcept\u001b[0m \u001b[0;34m(\u001b[0m\u001b[0mOSError\u001b[0m\u001b[0;34m,\u001b[0m \u001b[0mValueError\u001b[0m\u001b[0;34m)\u001b[0m\u001b[0;34m:\u001b[0m\u001b[0;34m\u001b[0m\u001b[0;34m\u001b[0m\u001b[0m\n",
      "\u001b[0;32m/Library/Frameworks/Python.framework/Versions/3.8/lib/python3.8/ssl.py\u001b[0m in \u001b[0;36mdo_handshake\u001b[0;34m(self, block)\u001b[0m\n\u001b[1;32m   1308\u001b[0m                 \u001b[0mself\u001b[0m\u001b[0;34m.\u001b[0m\u001b[0msettimeout\u001b[0m\u001b[0;34m(\u001b[0m\u001b[0;32mNone\u001b[0m\u001b[0;34m)\u001b[0m\u001b[0;34m\u001b[0m\u001b[0;34m\u001b[0m\u001b[0m\n\u001b[0;32m-> 1309\u001b[0;31m             \u001b[0mself\u001b[0m\u001b[0;34m.\u001b[0m\u001b[0m_sslobj\u001b[0m\u001b[0;34m.\u001b[0m\u001b[0mdo_handshake\u001b[0m\u001b[0;34m(\u001b[0m\u001b[0;34m)\u001b[0m\u001b[0;34m\u001b[0m\u001b[0;34m\u001b[0m\u001b[0m\n\u001b[0m\u001b[1;32m   1310\u001b[0m         \u001b[0;32mfinally\u001b[0m\u001b[0;34m:\u001b[0m\u001b[0;34m\u001b[0m\u001b[0;34m\u001b[0m\u001b[0m\n",
      "\u001b[0;31mSSLCertVerificationError\u001b[0m: [SSL: CERTIFICATE_VERIFY_FAILED] certificate verify failed: unable to get local issuer certificate (_ssl.c:1108)",
      "\nDuring handling of the above exception, another exception occurred:\n",
      "\u001b[0;31mURLError\u001b[0m                                  Traceback (most recent call last)",
      "\u001b[0;32m<ipython-input-5-3ecdc5d96c84>\u001b[0m in \u001b[0;36m<module>\u001b[0;34m\u001b[0m\n\u001b[0;32m----> 1\u001b[0;31m \u001b[0mb\u001b[0m \u001b[0;34m=\u001b[0m \u001b[0mpd\u001b[0m\u001b[0;34m.\u001b[0m\u001b[0mread_csv\u001b[0m\u001b[0;34m(\u001b[0m\u001b[0;34m\"https://raw.githubusercontent.com/ilEnzio/StarKells_Twitch_data/master/starkells_twitch_copy.csv\"\u001b[0m\u001b[0;34m)\u001b[0m\u001b[0;34m\u001b[0m\u001b[0;34m\u001b[0m\u001b[0m\n\u001b[0m\u001b[1;32m      2\u001b[0m \u001b[0mb\u001b[0m\u001b[0;34m.\u001b[0m\u001b[0mhead\u001b[0m\u001b[0;34m(\u001b[0m\u001b[0;34m)\u001b[0m\u001b[0;34m\u001b[0m\u001b[0;34m\u001b[0m\u001b[0m\n",
      "\u001b[0;32m~/.local/share/virtualenvs/StarKells_Twitch_data-N6g9n_I3/lib/python3.8/site-packages/pandas/io/parsers.py\u001b[0m in \u001b[0;36mread_csv\u001b[0;34m(filepath_or_buffer, sep, delimiter, header, names, index_col, usecols, squeeze, prefix, mangle_dupe_cols, dtype, engine, converters, true_values, false_values, skipinitialspace, skiprows, skipfooter, nrows, na_values, keep_default_na, na_filter, verbose, skip_blank_lines, parse_dates, infer_datetime_format, keep_date_col, date_parser, dayfirst, cache_dates, iterator, chunksize, compression, thousands, decimal, lineterminator, quotechar, quoting, doublequote, escapechar, comment, encoding, dialect, error_bad_lines, warn_bad_lines, delim_whitespace, low_memory, memory_map, float_precision)\u001b[0m\n\u001b[1;32m    684\u001b[0m     )\n\u001b[1;32m    685\u001b[0m \u001b[0;34m\u001b[0m\u001b[0m\n\u001b[0;32m--> 686\u001b[0;31m     \u001b[0;32mreturn\u001b[0m \u001b[0m_read\u001b[0m\u001b[0;34m(\u001b[0m\u001b[0mfilepath_or_buffer\u001b[0m\u001b[0;34m,\u001b[0m \u001b[0mkwds\u001b[0m\u001b[0;34m)\u001b[0m\u001b[0;34m\u001b[0m\u001b[0;34m\u001b[0m\u001b[0m\n\u001b[0m\u001b[1;32m    687\u001b[0m \u001b[0;34m\u001b[0m\u001b[0m\n\u001b[1;32m    688\u001b[0m \u001b[0;34m\u001b[0m\u001b[0m\n",
      "\u001b[0;32m~/.local/share/virtualenvs/StarKells_Twitch_data-N6g9n_I3/lib/python3.8/site-packages/pandas/io/parsers.py\u001b[0m in \u001b[0;36m_read\u001b[0;34m(filepath_or_buffer, kwds)\u001b[0m\n\u001b[1;32m    432\u001b[0m     \u001b[0;31m# though mypy handling of conditional imports is difficult.\u001b[0m\u001b[0;34m\u001b[0m\u001b[0;34m\u001b[0m\u001b[0;34m\u001b[0m\u001b[0m\n\u001b[1;32m    433\u001b[0m     \u001b[0;31m# See https://github.com/python/mypy/issues/1297\u001b[0m\u001b[0;34m\u001b[0m\u001b[0;34m\u001b[0m\u001b[0;34m\u001b[0m\u001b[0m\n\u001b[0;32m--> 434\u001b[0;31m     fp_or_buf, _, compression, should_close = get_filepath_or_buffer(\n\u001b[0m\u001b[1;32m    435\u001b[0m         \u001b[0mfilepath_or_buffer\u001b[0m\u001b[0;34m,\u001b[0m \u001b[0mencoding\u001b[0m\u001b[0;34m,\u001b[0m \u001b[0mcompression\u001b[0m\u001b[0;34m\u001b[0m\u001b[0;34m\u001b[0m\u001b[0m\n\u001b[1;32m    436\u001b[0m     )\n",
      "\u001b[0;32m~/.local/share/virtualenvs/StarKells_Twitch_data-N6g9n_I3/lib/python3.8/site-packages/pandas/io/common.py\u001b[0m in \u001b[0;36mget_filepath_or_buffer\u001b[0;34m(filepath_or_buffer, encoding, compression, mode, storage_options)\u001b[0m\n\u001b[1;32m    181\u001b[0m     \u001b[0;32mif\u001b[0m \u001b[0misinstance\u001b[0m\u001b[0;34m(\u001b[0m\u001b[0mfilepath_or_buffer\u001b[0m\u001b[0;34m,\u001b[0m \u001b[0mstr\u001b[0m\u001b[0;34m)\u001b[0m \u001b[0;32mand\u001b[0m \u001b[0mis_url\u001b[0m\u001b[0;34m(\u001b[0m\u001b[0mfilepath_or_buffer\u001b[0m\u001b[0;34m)\u001b[0m\u001b[0;34m:\u001b[0m\u001b[0;34m\u001b[0m\u001b[0;34m\u001b[0m\u001b[0m\n\u001b[1;32m    182\u001b[0m         \u001b[0;31m# TODO: fsspec can also handle HTTP via requests, but leaving this unchanged\u001b[0m\u001b[0;34m\u001b[0m\u001b[0;34m\u001b[0m\u001b[0;34m\u001b[0m\u001b[0m\n\u001b[0;32m--> 183\u001b[0;31m         \u001b[0mreq\u001b[0m \u001b[0;34m=\u001b[0m \u001b[0murlopen\u001b[0m\u001b[0;34m(\u001b[0m\u001b[0mfilepath_or_buffer\u001b[0m\u001b[0;34m)\u001b[0m\u001b[0;34m\u001b[0m\u001b[0;34m\u001b[0m\u001b[0m\n\u001b[0m\u001b[1;32m    184\u001b[0m         \u001b[0mcontent_encoding\u001b[0m \u001b[0;34m=\u001b[0m \u001b[0mreq\u001b[0m\u001b[0;34m.\u001b[0m\u001b[0mheaders\u001b[0m\u001b[0;34m.\u001b[0m\u001b[0mget\u001b[0m\u001b[0;34m(\u001b[0m\u001b[0;34m\"Content-Encoding\"\u001b[0m\u001b[0;34m,\u001b[0m \u001b[0;32mNone\u001b[0m\u001b[0;34m)\u001b[0m\u001b[0;34m\u001b[0m\u001b[0;34m\u001b[0m\u001b[0m\n\u001b[1;32m    185\u001b[0m         \u001b[0;32mif\u001b[0m \u001b[0mcontent_encoding\u001b[0m \u001b[0;34m==\u001b[0m \u001b[0;34m\"gzip\"\u001b[0m\u001b[0;34m:\u001b[0m\u001b[0;34m\u001b[0m\u001b[0;34m\u001b[0m\u001b[0m\n",
      "\u001b[0;32m~/.local/share/virtualenvs/StarKells_Twitch_data-N6g9n_I3/lib/python3.8/site-packages/pandas/io/common.py\u001b[0m in \u001b[0;36murlopen\u001b[0;34m(*args, **kwargs)\u001b[0m\n\u001b[1;32m    135\u001b[0m     \u001b[0;32mimport\u001b[0m \u001b[0murllib\u001b[0m\u001b[0;34m.\u001b[0m\u001b[0mrequest\u001b[0m\u001b[0;34m\u001b[0m\u001b[0;34m\u001b[0m\u001b[0m\n\u001b[1;32m    136\u001b[0m \u001b[0;34m\u001b[0m\u001b[0m\n\u001b[0;32m--> 137\u001b[0;31m     \u001b[0;32mreturn\u001b[0m \u001b[0murllib\u001b[0m\u001b[0;34m.\u001b[0m\u001b[0mrequest\u001b[0m\u001b[0;34m.\u001b[0m\u001b[0murlopen\u001b[0m\u001b[0;34m(\u001b[0m\u001b[0;34m*\u001b[0m\u001b[0margs\u001b[0m\u001b[0;34m,\u001b[0m \u001b[0;34m**\u001b[0m\u001b[0mkwargs\u001b[0m\u001b[0;34m)\u001b[0m\u001b[0;34m\u001b[0m\u001b[0;34m\u001b[0m\u001b[0m\n\u001b[0m\u001b[1;32m    138\u001b[0m \u001b[0;34m\u001b[0m\u001b[0m\n\u001b[1;32m    139\u001b[0m \u001b[0;34m\u001b[0m\u001b[0m\n",
      "\u001b[0;32m/Library/Frameworks/Python.framework/Versions/3.8/lib/python3.8/urllib/request.py\u001b[0m in \u001b[0;36murlopen\u001b[0;34m(url, data, timeout, cafile, capath, cadefault, context)\u001b[0m\n\u001b[1;32m    220\u001b[0m     \u001b[0;32melse\u001b[0m\u001b[0;34m:\u001b[0m\u001b[0;34m\u001b[0m\u001b[0;34m\u001b[0m\u001b[0m\n\u001b[1;32m    221\u001b[0m         \u001b[0mopener\u001b[0m \u001b[0;34m=\u001b[0m \u001b[0m_opener\u001b[0m\u001b[0;34m\u001b[0m\u001b[0;34m\u001b[0m\u001b[0m\n\u001b[0;32m--> 222\u001b[0;31m     \u001b[0;32mreturn\u001b[0m \u001b[0mopener\u001b[0m\u001b[0;34m.\u001b[0m\u001b[0mopen\u001b[0m\u001b[0;34m(\u001b[0m\u001b[0murl\u001b[0m\u001b[0;34m,\u001b[0m \u001b[0mdata\u001b[0m\u001b[0;34m,\u001b[0m \u001b[0mtimeout\u001b[0m\u001b[0;34m)\u001b[0m\u001b[0;34m\u001b[0m\u001b[0;34m\u001b[0m\u001b[0m\n\u001b[0m\u001b[1;32m    223\u001b[0m \u001b[0;34m\u001b[0m\u001b[0m\n\u001b[1;32m    224\u001b[0m \u001b[0;32mdef\u001b[0m \u001b[0minstall_opener\u001b[0m\u001b[0;34m(\u001b[0m\u001b[0mopener\u001b[0m\u001b[0;34m)\u001b[0m\u001b[0;34m:\u001b[0m\u001b[0;34m\u001b[0m\u001b[0;34m\u001b[0m\u001b[0m\n",
      "\u001b[0;32m/Library/Frameworks/Python.framework/Versions/3.8/lib/python3.8/urllib/request.py\u001b[0m in \u001b[0;36mopen\u001b[0;34m(self, fullurl, data, timeout)\u001b[0m\n\u001b[1;32m    523\u001b[0m \u001b[0;34m\u001b[0m\u001b[0m\n\u001b[1;32m    524\u001b[0m         \u001b[0msys\u001b[0m\u001b[0;34m.\u001b[0m\u001b[0maudit\u001b[0m\u001b[0;34m(\u001b[0m\u001b[0;34m'urllib.Request'\u001b[0m\u001b[0;34m,\u001b[0m \u001b[0mreq\u001b[0m\u001b[0;34m.\u001b[0m\u001b[0mfull_url\u001b[0m\u001b[0;34m,\u001b[0m \u001b[0mreq\u001b[0m\u001b[0;34m.\u001b[0m\u001b[0mdata\u001b[0m\u001b[0;34m,\u001b[0m \u001b[0mreq\u001b[0m\u001b[0;34m.\u001b[0m\u001b[0mheaders\u001b[0m\u001b[0;34m,\u001b[0m \u001b[0mreq\u001b[0m\u001b[0;34m.\u001b[0m\u001b[0mget_method\u001b[0m\u001b[0;34m(\u001b[0m\u001b[0;34m)\u001b[0m\u001b[0;34m)\u001b[0m\u001b[0;34m\u001b[0m\u001b[0;34m\u001b[0m\u001b[0m\n\u001b[0;32m--> 525\u001b[0;31m         \u001b[0mresponse\u001b[0m \u001b[0;34m=\u001b[0m \u001b[0mself\u001b[0m\u001b[0;34m.\u001b[0m\u001b[0m_open\u001b[0m\u001b[0;34m(\u001b[0m\u001b[0mreq\u001b[0m\u001b[0;34m,\u001b[0m \u001b[0mdata\u001b[0m\u001b[0;34m)\u001b[0m\u001b[0;34m\u001b[0m\u001b[0;34m\u001b[0m\u001b[0m\n\u001b[0m\u001b[1;32m    526\u001b[0m \u001b[0;34m\u001b[0m\u001b[0m\n\u001b[1;32m    527\u001b[0m         \u001b[0;31m# post-process response\u001b[0m\u001b[0;34m\u001b[0m\u001b[0;34m\u001b[0m\u001b[0;34m\u001b[0m\u001b[0m\n",
      "\u001b[0;32m/Library/Frameworks/Python.framework/Versions/3.8/lib/python3.8/urllib/request.py\u001b[0m in \u001b[0;36m_open\u001b[0;34m(self, req, data)\u001b[0m\n\u001b[1;32m    540\u001b[0m \u001b[0;34m\u001b[0m\u001b[0m\n\u001b[1;32m    541\u001b[0m         \u001b[0mprotocol\u001b[0m \u001b[0;34m=\u001b[0m \u001b[0mreq\u001b[0m\u001b[0;34m.\u001b[0m\u001b[0mtype\u001b[0m\u001b[0;34m\u001b[0m\u001b[0;34m\u001b[0m\u001b[0m\n\u001b[0;32m--> 542\u001b[0;31m         result = self._call_chain(self.handle_open, protocol, protocol +\n\u001b[0m\u001b[1;32m    543\u001b[0m                                   '_open', req)\n\u001b[1;32m    544\u001b[0m         \u001b[0;32mif\u001b[0m \u001b[0mresult\u001b[0m\u001b[0;34m:\u001b[0m\u001b[0;34m\u001b[0m\u001b[0;34m\u001b[0m\u001b[0m\n",
      "\u001b[0;32m/Library/Frameworks/Python.framework/Versions/3.8/lib/python3.8/urllib/request.py\u001b[0m in \u001b[0;36m_call_chain\u001b[0;34m(self, chain, kind, meth_name, *args)\u001b[0m\n\u001b[1;32m    500\u001b[0m         \u001b[0;32mfor\u001b[0m \u001b[0mhandler\u001b[0m \u001b[0;32min\u001b[0m \u001b[0mhandlers\u001b[0m\u001b[0;34m:\u001b[0m\u001b[0;34m\u001b[0m\u001b[0;34m\u001b[0m\u001b[0m\n\u001b[1;32m    501\u001b[0m             \u001b[0mfunc\u001b[0m \u001b[0;34m=\u001b[0m \u001b[0mgetattr\u001b[0m\u001b[0;34m(\u001b[0m\u001b[0mhandler\u001b[0m\u001b[0;34m,\u001b[0m \u001b[0mmeth_name\u001b[0m\u001b[0;34m)\u001b[0m\u001b[0;34m\u001b[0m\u001b[0;34m\u001b[0m\u001b[0m\n\u001b[0;32m--> 502\u001b[0;31m             \u001b[0mresult\u001b[0m \u001b[0;34m=\u001b[0m \u001b[0mfunc\u001b[0m\u001b[0;34m(\u001b[0m\u001b[0;34m*\u001b[0m\u001b[0margs\u001b[0m\u001b[0;34m)\u001b[0m\u001b[0;34m\u001b[0m\u001b[0;34m\u001b[0m\u001b[0m\n\u001b[0m\u001b[1;32m    503\u001b[0m             \u001b[0;32mif\u001b[0m \u001b[0mresult\u001b[0m \u001b[0;32mis\u001b[0m \u001b[0;32mnot\u001b[0m \u001b[0;32mNone\u001b[0m\u001b[0;34m:\u001b[0m\u001b[0;34m\u001b[0m\u001b[0;34m\u001b[0m\u001b[0m\n\u001b[1;32m    504\u001b[0m                 \u001b[0;32mreturn\u001b[0m \u001b[0mresult\u001b[0m\u001b[0;34m\u001b[0m\u001b[0;34m\u001b[0m\u001b[0m\n",
      "\u001b[0;32m/Library/Frameworks/Python.framework/Versions/3.8/lib/python3.8/urllib/request.py\u001b[0m in \u001b[0;36mhttps_open\u001b[0;34m(self, req)\u001b[0m\n\u001b[1;32m   1391\u001b[0m \u001b[0;34m\u001b[0m\u001b[0m\n\u001b[1;32m   1392\u001b[0m         \u001b[0;32mdef\u001b[0m \u001b[0mhttps_open\u001b[0m\u001b[0;34m(\u001b[0m\u001b[0mself\u001b[0m\u001b[0;34m,\u001b[0m \u001b[0mreq\u001b[0m\u001b[0;34m)\u001b[0m\u001b[0;34m:\u001b[0m\u001b[0;34m\u001b[0m\u001b[0;34m\u001b[0m\u001b[0m\n\u001b[0;32m-> 1393\u001b[0;31m             return self.do_open(http.client.HTTPSConnection, req,\n\u001b[0m\u001b[1;32m   1394\u001b[0m                 context=self._context, check_hostname=self._check_hostname)\n\u001b[1;32m   1395\u001b[0m \u001b[0;34m\u001b[0m\u001b[0m\n",
      "\u001b[0;32m/Library/Frameworks/Python.framework/Versions/3.8/lib/python3.8/urllib/request.py\u001b[0m in \u001b[0;36mdo_open\u001b[0;34m(self, http_class, req, **http_conn_args)\u001b[0m\n\u001b[1;32m   1351\u001b[0m                           encode_chunked=req.has_header('Transfer-encoding'))\n\u001b[1;32m   1352\u001b[0m             \u001b[0;32mexcept\u001b[0m \u001b[0mOSError\u001b[0m \u001b[0;32mas\u001b[0m \u001b[0merr\u001b[0m\u001b[0;34m:\u001b[0m \u001b[0;31m# timeout error\u001b[0m\u001b[0;34m\u001b[0m\u001b[0;34m\u001b[0m\u001b[0m\n\u001b[0;32m-> 1353\u001b[0;31m                 \u001b[0;32mraise\u001b[0m \u001b[0mURLError\u001b[0m\u001b[0;34m(\u001b[0m\u001b[0merr\u001b[0m\u001b[0;34m)\u001b[0m\u001b[0;34m\u001b[0m\u001b[0;34m\u001b[0m\u001b[0m\n\u001b[0m\u001b[1;32m   1354\u001b[0m             \u001b[0mr\u001b[0m \u001b[0;34m=\u001b[0m \u001b[0mh\u001b[0m\u001b[0;34m.\u001b[0m\u001b[0mgetresponse\u001b[0m\u001b[0;34m(\u001b[0m\u001b[0;34m)\u001b[0m\u001b[0;34m\u001b[0m\u001b[0;34m\u001b[0m\u001b[0m\n\u001b[1;32m   1355\u001b[0m         \u001b[0;32mexcept\u001b[0m\u001b[0;34m:\u001b[0m\u001b[0;34m\u001b[0m\u001b[0;34m\u001b[0m\u001b[0m\n",
      "\u001b[0;31mURLError\u001b[0m: <urlopen error [SSL: CERTIFICATE_VERIFY_FAILED] certificate verify failed: unable to get local issuer certificate (_ssl.c:1108)>"
     ]
    }
   ],
   "source": [
    "b = pd.read_csv(\"https://raw.githubusercontent.com/ilEnzio/StarKells_Twitch_data/master/starkells_twitch_copy.csv\")\n",
    "b.head()"
   ]
  },
  {
   "cell_type": "code",
   "execution_count": null,
   "metadata": {},
   "outputs": [],
   "source": []
  },
  {
   "cell_type": "code",
   "execution_count": 4,
   "metadata": {},
   "outputs": [
    {
     "data": {
      "text/html": [
       "<div>\n",
       "<style scoped>\n",
       "    .dataframe tbody tr th:only-of-type {\n",
       "        vertical-align: middle;\n",
       "    }\n",
       "\n",
       "    .dataframe tbody tr th {\n",
       "        vertical-align: top;\n",
       "    }\n",
       "\n",
       "    .dataframe thead th {\n",
       "        text-align: right;\n",
       "    }\n",
       "</style>\n",
       "<table border=\"1\" class=\"dataframe\">\n",
       "  <thead>\n",
       "    <tr style=\"text-align: right;\">\n",
       "      <th></th>\n",
       "      <th>Date</th>\n",
       "      <th>Ad Breaks (Minutes)</th>\n",
       "      <th>Ad Time (Seconds) Per Hour</th>\n",
       "      <th>Average Viewers</th>\n",
       "      <th>Chat Messages</th>\n",
       "      <th>Chatters</th>\n",
       "      <th>Clip Views</th>\n",
       "      <th>Clips Created</th>\n",
       "      <th>Follows</th>\n",
       "      <th>Hosts and Raids Viewers (%)</th>\n",
       "      <th>...</th>\n",
       "      <th>Bounties Revenue</th>\n",
       "      <th>Prime Subs</th>\n",
       "      <th>Total Paid Subs</th>\n",
       "      <th>Tier 1 subs</th>\n",
       "      <th>Tier 2 subs</th>\n",
       "      <th>Tier 3 subs</th>\n",
       "      <th>Total Gifted Subs</th>\n",
       "      <th>Gifted Tier 1 subs</th>\n",
       "      <th>Gifted Tier 2 subs</th>\n",
       "      <th>Gifted Tier 3 subs</th>\n",
       "    </tr>\n",
       "  </thead>\n",
       "  <tbody>\n",
       "    <tr>\n",
       "      <th>0</th>\n",
       "      <td>Thu Jun 01 2017</td>\n",
       "      <td>0</td>\n",
       "      <td>0</td>\n",
       "      <td>0.0</td>\n",
       "      <td>0</td>\n",
       "      <td>0</td>\n",
       "      <td>0</td>\n",
       "      <td>0</td>\n",
       "      <td>0</td>\n",
       "      <td>0.0</td>\n",
       "      <td>...</td>\n",
       "      <td>0</td>\n",
       "      <td>0</td>\n",
       "      <td>0</td>\n",
       "      <td>0</td>\n",
       "      <td>0</td>\n",
       "      <td>0</td>\n",
       "      <td>0</td>\n",
       "      <td>0</td>\n",
       "      <td>0</td>\n",
       "      <td>0</td>\n",
       "    </tr>\n",
       "    <tr>\n",
       "      <th>1</th>\n",
       "      <td>Fri Jun 02 2017</td>\n",
       "      <td>0</td>\n",
       "      <td>0</td>\n",
       "      <td>0.0</td>\n",
       "      <td>0</td>\n",
       "      <td>0</td>\n",
       "      <td>0</td>\n",
       "      <td>0</td>\n",
       "      <td>0</td>\n",
       "      <td>0.0</td>\n",
       "      <td>...</td>\n",
       "      <td>0</td>\n",
       "      <td>0</td>\n",
       "      <td>0</td>\n",
       "      <td>0</td>\n",
       "      <td>0</td>\n",
       "      <td>0</td>\n",
       "      <td>0</td>\n",
       "      <td>0</td>\n",
       "      <td>0</td>\n",
       "      <td>0</td>\n",
       "    </tr>\n",
       "    <tr>\n",
       "      <th>2</th>\n",
       "      <td>Sat Jun 03 2017</td>\n",
       "      <td>0</td>\n",
       "      <td>0</td>\n",
       "      <td>0.0</td>\n",
       "      <td>0</td>\n",
       "      <td>0</td>\n",
       "      <td>0</td>\n",
       "      <td>0</td>\n",
       "      <td>0</td>\n",
       "      <td>0.0</td>\n",
       "      <td>...</td>\n",
       "      <td>0</td>\n",
       "      <td>0</td>\n",
       "      <td>0</td>\n",
       "      <td>0</td>\n",
       "      <td>0</td>\n",
       "      <td>0</td>\n",
       "      <td>0</td>\n",
       "      <td>0</td>\n",
       "      <td>0</td>\n",
       "      <td>0</td>\n",
       "    </tr>\n",
       "    <tr>\n",
       "      <th>3</th>\n",
       "      <td>Sun Jun 04 2017</td>\n",
       "      <td>0</td>\n",
       "      <td>0</td>\n",
       "      <td>0.0</td>\n",
       "      <td>0</td>\n",
       "      <td>0</td>\n",
       "      <td>0</td>\n",
       "      <td>0</td>\n",
       "      <td>0</td>\n",
       "      <td>0.0</td>\n",
       "      <td>...</td>\n",
       "      <td>0</td>\n",
       "      <td>0</td>\n",
       "      <td>0</td>\n",
       "      <td>0</td>\n",
       "      <td>0</td>\n",
       "      <td>0</td>\n",
       "      <td>0</td>\n",
       "      <td>0</td>\n",
       "      <td>0</td>\n",
       "      <td>0</td>\n",
       "    </tr>\n",
       "    <tr>\n",
       "      <th>4</th>\n",
       "      <td>Mon Jun 05 2017</td>\n",
       "      <td>0</td>\n",
       "      <td>0</td>\n",
       "      <td>0.0</td>\n",
       "      <td>0</td>\n",
       "      <td>0</td>\n",
       "      <td>0</td>\n",
       "      <td>0</td>\n",
       "      <td>0</td>\n",
       "      <td>0.0</td>\n",
       "      <td>...</td>\n",
       "      <td>0</td>\n",
       "      <td>0</td>\n",
       "      <td>0</td>\n",
       "      <td>0</td>\n",
       "      <td>0</td>\n",
       "      <td>0</td>\n",
       "      <td>0</td>\n",
       "      <td>0</td>\n",
       "      <td>0</td>\n",
       "      <td>0</td>\n",
       "    </tr>\n",
       "  </tbody>\n",
       "</table>\n",
       "<p>5 rows × 32 columns</p>\n",
       "</div>"
      ],
      "text/plain": [
       "              Date  Ad Breaks (Minutes)  Ad Time (Seconds) Per Hour  \\\n",
       "0  Thu Jun 01 2017                    0                           0   \n",
       "1  Fri Jun 02 2017                    0                           0   \n",
       "2  Sat Jun 03 2017                    0                           0   \n",
       "3  Sun Jun 04 2017                    0                           0   \n",
       "4  Mon Jun 05 2017                    0                           0   \n",
       "\n",
       "   Average Viewers  Chat Messages  Chatters  Clip Views  Clips Created  \\\n",
       "0              0.0              0         0           0              0   \n",
       "1              0.0              0         0           0              0   \n",
       "2              0.0              0         0           0              0   \n",
       "3              0.0              0         0           0              0   \n",
       "4              0.0              0         0           0              0   \n",
       "\n",
       "   Follows  Hosts and Raids Viewers (%)  ...  Bounties Revenue  Prime Subs  \\\n",
       "0        0                          0.0  ...                 0           0   \n",
       "1        0                          0.0  ...                 0           0   \n",
       "2        0                          0.0  ...                 0           0   \n",
       "3        0                          0.0  ...                 0           0   \n",
       "4        0                          0.0  ...                 0           0   \n",
       "\n",
       "   Total Paid Subs  Tier 1 subs  Tier 2 subs  Tier 3 subs  Total Gifted Subs  \\\n",
       "0                0            0            0            0                  0   \n",
       "1                0            0            0            0                  0   \n",
       "2                0            0            0            0                  0   \n",
       "3                0            0            0            0                  0   \n",
       "4                0            0            0            0                  0   \n",
       "\n",
       "   Gifted Tier 1 subs  Gifted Tier 2 subs  Gifted Tier 3 subs  \n",
       "0                   0                   0                   0  \n",
       "1                   0                   0                   0  \n",
       "2                   0                   0                   0  \n",
       "3                   0                   0                   0  \n",
       "4                   0                   0                   0  \n",
       "\n",
       "[5 rows x 32 columns]"
      ]
     },
     "execution_count": 4,
     "metadata": {},
     "output_type": "execute_result"
    }
   ],
   "source": [
    "a = pd.read_csv(\"starkells_twitch_copy.csv\")\n",
    "a.head()"
   ]
  },
  {
   "cell_type": "code",
   "execution_count": null,
   "metadata": {},
   "outputs": [],
   "source": []
  },
  {
   "cell_type": "code",
   "execution_count": null,
   "metadata": {
    "colab": {
     "base_uri": "https://localhost:8080/",
     "height": 51
    },
    "colab_type": "code",
    "id": "LFL6yx2BoE7C",
    "outputId": "439a07bd-07e2-4e7a-c35b-4403d14b6d6c"
   },
   "outputs": [],
   "source": [
    "print(twitch_analy_df.shape)\n",
    "print(donations_df.shape)"
   ]
  },
  {
   "cell_type": "code",
   "execution_count": null,
   "metadata": {
    "colab": {},
    "colab_type": "code",
    "id": "EMDVDDJNiK4q"
   },
   "outputs": [],
   "source": [
    "twitch_orginal = twitch_analy_df.copy()\n",
    "donation_orginal = donations_df.copy()"
   ]
  },
  {
   "cell_type": "code",
   "execution_count": 7,
   "metadata": {
    "colab": {
     "base_uri": "https://localhost:8080/",
     "height": 680
    },
    "colab_type": "code",
    "id": "agoO8UPRicf0",
    "outputId": "4dcffb03-1f5c-4a67-8744-6d1d9dee4641"
   },
   "outputs": [
    {
     "name": "stdout",
     "output_type": "stream",
     "text": [
      "<class 'pandas.core.frame.DataFrame'>\n",
      "RangeIndex: 1171 entries, 0 to 1170\n",
      "Data columns (total 32 columns):\n",
      " #   Column                       Non-Null Count  Dtype  \n",
      "---  ------                       --------------  -----  \n",
      " 0   Date                         1171 non-null   object \n",
      " 1   Ad Breaks (Minutes)          1171 non-null   int64  \n",
      " 2   Ad Time (Seconds) Per Hour   1171 non-null   int64  \n",
      " 3   Average Viewers              1171 non-null   float64\n",
      " 4   Chat Messages                1171 non-null   int64  \n",
      " 5   Chatters                     1171 non-null   int64  \n",
      " 6   Clip Views                   1171 non-null   int64  \n",
      " 7   Clips Created                1171 non-null   int64  \n",
      " 8   Follows                      1171 non-null   int64  \n",
      " 9   Hosts and Raids Viewers (%)  1171 non-null   float64\n",
      " 10  Live Views                   1171 non-null   int64  \n",
      " 11  Max Viewers                  1171 non-null   int64  \n",
      " 12  Minutes Watched              1171 non-null   int64  \n",
      " 13  Minutes Streamed             1171 non-null   int64  \n",
      " 14  Unique Viewers               1171 non-null   int64  \n",
      " 15  Sub Revenue                  1171 non-null   float64\n",
      " 16  Prime Revenue                1171 non-null   float64\n",
      " 17  Gifted Subs Revenue          1171 non-null   float64\n",
      " 18  Bits Revenue                 1171 non-null   float64\n",
      " 19  Ad Revenue                   1171 non-null   float64\n",
      " 20  Game Sales Revenue           1171 non-null   int64  \n",
      " 21  Extensions Revenue           1171 non-null   float64\n",
      " 22  Bounties Revenue             1171 non-null   int64  \n",
      " 23  Prime Subs                   1171 non-null   int64  \n",
      " 24  Total Paid Subs              1171 non-null   int64  \n",
      " 25  Tier 1 subs                  1171 non-null   int64  \n",
      " 26  Tier 2 subs                  1171 non-null   int64  \n",
      " 27  Tier 3 subs                  1171 non-null   int64  \n",
      " 28  Total Gifted Subs            1171 non-null   int64  \n",
      " 29  Gifted Tier 1 subs           1171 non-null   int64  \n",
      " 30  Gifted Tier 2 subs           1171 non-null   int64  \n",
      " 31  Gifted Tier 3 subs           1171 non-null   int64  \n",
      "dtypes: float64(8), int64(23), object(1)\n",
      "memory usage: 292.9+ KB\n"
     ]
    }
   ],
   "source": [
    "twitch_analy_df.info()"
   ]
  },
  {
   "cell_type": "code",
   "execution_count": null,
   "metadata": {},
   "outputs": [],
   "source": []
  },
  {
   "cell_type": "code",
   "execution_count": 8,
   "metadata": {
    "colab": {
     "base_uri": "https://localhost:8080/",
     "height": 221
    },
    "colab_type": "code",
    "id": "XYhCYiEUhhh-",
    "outputId": "eb048f46-2ddc-4c46-9138-06f1c1e571da"
   },
   "outputs": [
    {
     "data": {
      "text/plain": [
       "0.000    580\n",
       "2.320     81\n",
       "2.270     63\n",
       "4.700     27\n",
       "2.380     25\n",
       "        ... \n",
       "2.830      1\n",
       "2.610      1\n",
       "6.215      1\n",
       "9.255      1\n",
       "4.780      1\n",
       "Name: Sub Revenue, Length: 162, dtype: int64"
      ]
     },
     "execution_count": 8,
     "metadata": {
      "tags": []
     },
     "output_type": "execute_result"
    }
   ],
   "source": [
    "twitch_analy_df[\"Sub Revenue\"].value_counts()"
   ]
  },
  {
   "cell_type": "code",
   "execution_count": 9,
   "metadata": {
    "colab": {
     "base_uri": "https://localhost:8080/",
     "height": 187
    },
    "colab_type": "code",
    "id": "Zb8UTBmokCSH",
    "outputId": "dffea00f-e72a-4e5e-b277-edab7be74472"
   },
   "outputs": [
    {
     "data": {
      "text/plain": [
       "Index(['Date', 'Ad Breaks (Minutes)', 'Ad Time (Seconds) Per Hour',\n",
       "       'Average Viewers', 'Chat Messages', 'Chatters', 'Clip Views',\n",
       "       'Clips Created', 'Follows', 'Hosts and Raids Viewers (%)', 'Live Views',\n",
       "       'Max Viewers', 'Minutes Watched', 'Minutes Streamed', 'Unique Viewers',\n",
       "       'Sub Revenue', 'Prime Revenue', 'Gifted Subs Revenue', 'Bits Revenue',\n",
       "       'Ad Revenue', 'Game Sales Revenue', 'Extensions Revenue',\n",
       "       'Bounties Revenue', 'Prime Subs', 'Total Paid Subs', 'Tier 1 subs',\n",
       "       'Tier 2 subs', 'Tier 3 subs', 'Total Gifted Subs', 'Gifted Tier 1 subs',\n",
       "       'Gifted Tier 2 subs', 'Gifted Tier 3 subs'],\n",
       "      dtype='object')"
      ]
     },
     "execution_count": 9,
     "metadata": {
      "tags": []
     },
     "output_type": "execute_result"
    }
   ],
   "source": [
    "twitch_analy_df.columns"
   ]
  },
  {
   "cell_type": "code",
   "execution_count": 9,
   "metadata": {
    "colab": {},
    "colab_type": "code",
    "id": "T0PRvvxZkEsc"
   },
   "outputs": [],
   "source": []
  },
  {
   "cell_type": "code",
   "execution_count": 9,
   "metadata": {
    "colab": {},
    "colab_type": "code",
    "id": "NUN99re1kcv2"
   },
   "outputs": [],
   "source": []
  },
  {
   "cell_type": "code",
   "execution_count": 10,
   "metadata": {
    "colab": {
     "base_uri": "https://localhost:8080/",
     "height": 85
    },
    "colab_type": "code",
    "id": "xbT1mvyPisD8",
    "outputId": "17beae0b-8ad1-449d-9450-5041e8be2ff1"
   },
   "outputs": [
    {
     "data": {
      "text/plain": [
       "0    1081\n",
       "1      79\n",
       "2      11\n",
       "Name: Tier 2 subs, dtype: int64"
      ]
     },
     "execution_count": 10,
     "metadata": {
      "tags": []
     },
     "output_type": "execute_result"
    }
   ],
   "source": [
    "# how many Tier 2 subs and what are they worth. \n",
    "twitch_analy_df['Tier 2 subs'].value_counts()"
   ]
  },
  {
   "cell_type": "code",
   "execution_count": 11,
   "metadata": {
    "colab": {
     "base_uri": "https://localhost:8080/",
     "height": 221
    },
    "colab_type": "code",
    "id": "IGSSZBHSkNJj",
    "outputId": "8a43156f-7b73-464b-c837-80155d56bb4c"
   },
   "outputs": [
    {
     "data": {
      "text/plain": [
       "0       False\n",
       "1       False\n",
       "2       False\n",
       "3       False\n",
       "4       False\n",
       "        ...  \n",
       "1166    False\n",
       "1167    False\n",
       "1168    False\n",
       "1169    False\n",
       "1170    False\n",
       "Name: Tier 2 subs, Length: 1171, dtype: bool"
      ]
     },
     "execution_count": 11,
     "metadata": {
      "tags": []
     },
     "output_type": "execute_result"
    }
   ],
   "source": [
    "cond_t2 = twitch_analy_df['Tier 2 subs'] > 0\n",
    "cond_t2"
   ]
  },
  {
   "cell_type": "code",
   "execution_count": 12,
   "metadata": {
    "colab": {
     "base_uri": "https://localhost:8080/",
     "height": 68
    },
    "colab_type": "code",
    "id": "DtWMYq-MkstJ",
    "outputId": "efe62bb5-8dea-4389-a058-ad3dd2590eba"
   },
   "outputs": [
    {
     "data": {
      "text/plain": [
       "1    79\n",
       "2    11\n",
       "Name: Tier 2 subs, dtype: int64"
      ]
     },
     "execution_count": 12,
     "metadata": {
      "tags": []
     },
     "output_type": "execute_result"
    }
   ],
   "source": [
    "t2_subs_only_df = twitch_analy_df[cond_t2]\n",
    "t2_subs_only_df['Tier 2 subs'].value_counts()"
   ]
  },
  {
   "cell_type": "code",
   "execution_count": 13,
   "metadata": {
    "colab": {
     "base_uri": "https://localhost:8080/",
     "height": 957
    },
    "colab_type": "code",
    "id": "DbM64DJwkyl-",
    "outputId": "39716e33-439a-4e14-ec78-f964b1094e23"
   },
   "outputs": [
    {
     "data": {
      "text/html": [
       "<div>\n",
       "<style scoped>\n",
       "    .dataframe tbody tr th:only-of-type {\n",
       "        vertical-align: middle;\n",
       "    }\n",
       "\n",
       "    .dataframe tbody tr th {\n",
       "        vertical-align: top;\n",
       "    }\n",
       "\n",
       "    .dataframe thead th {\n",
       "        text-align: right;\n",
       "    }\n",
       "</style>\n",
       "<table border=\"1\" class=\"dataframe\">\n",
       "  <thead>\n",
       "    <tr style=\"text-align: right;\">\n",
       "      <th></th>\n",
       "      <th>Date</th>\n",
       "      <th>Ad Breaks (Minutes)</th>\n",
       "      <th>Ad Time (Seconds) Per Hour</th>\n",
       "      <th>Average Viewers</th>\n",
       "      <th>Chat Messages</th>\n",
       "      <th>Chatters</th>\n",
       "      <th>Clip Views</th>\n",
       "      <th>Clips Created</th>\n",
       "      <th>Follows</th>\n",
       "      <th>Hosts and Raids Viewers (%)</th>\n",
       "      <th>Live Views</th>\n",
       "      <th>Max Viewers</th>\n",
       "      <th>Minutes Watched</th>\n",
       "      <th>Minutes Streamed</th>\n",
       "      <th>Unique Viewers</th>\n",
       "      <th>Sub Revenue</th>\n",
       "      <th>Prime Revenue</th>\n",
       "      <th>Gifted Subs Revenue</th>\n",
       "      <th>Bits Revenue</th>\n",
       "      <th>Ad Revenue</th>\n",
       "      <th>Game Sales Revenue</th>\n",
       "      <th>Extensions Revenue</th>\n",
       "      <th>Bounties Revenue</th>\n",
       "      <th>Prime Subs</th>\n",
       "      <th>Total Paid Subs</th>\n",
       "      <th>Tier 1 subs</th>\n",
       "      <th>Tier 2 subs</th>\n",
       "      <th>Tier 3 subs</th>\n",
       "      <th>Total Gifted Subs</th>\n",
       "      <th>Gifted Tier 1 subs</th>\n",
       "      <th>Gifted Tier 2 subs</th>\n",
       "      <th>Gifted Tier 3 subs</th>\n",
       "    </tr>\n",
       "  </thead>\n",
       "  <tbody>\n",
       "    <tr>\n",
       "      <th>1041</th>\n",
       "      <td>Tue Apr 07 2020</td>\n",
       "      <td>0</td>\n",
       "      <td>0</td>\n",
       "      <td>0.00</td>\n",
       "      <td>9</td>\n",
       "      <td>1</td>\n",
       "      <td>2</td>\n",
       "      <td>0</td>\n",
       "      <td>0</td>\n",
       "      <td>0.00</td>\n",
       "      <td>0</td>\n",
       "      <td>0</td>\n",
       "      <td>0</td>\n",
       "      <td>0</td>\n",
       "      <td>0</td>\n",
       "      <td>6.91</td>\n",
       "      <td>0.000</td>\n",
       "      <td>0.000</td>\n",
       "      <td>0.0</td>\n",
       "      <td>0.0000</td>\n",
       "      <td>0</td>\n",
       "      <td>0.0</td>\n",
       "      <td>0</td>\n",
       "      <td>0</td>\n",
       "      <td>2</td>\n",
       "      <td>1</td>\n",
       "      <td>1</td>\n",
       "      <td>0</td>\n",
       "      <td>0</td>\n",
       "      <td>0</td>\n",
       "      <td>0</td>\n",
       "      <td>0</td>\n",
       "    </tr>\n",
       "    <tr>\n",
       "      <th>1042</th>\n",
       "      <td>Wed Apr 08 2020</td>\n",
       "      <td>0</td>\n",
       "      <td>0</td>\n",
       "      <td>24.80</td>\n",
       "      <td>952</td>\n",
       "      <td>42</td>\n",
       "      <td>1</td>\n",
       "      <td>1</td>\n",
       "      <td>3</td>\n",
       "      <td>0.60</td>\n",
       "      <td>222</td>\n",
       "      <td>35</td>\n",
       "      <td>4688</td>\n",
       "      <td>189</td>\n",
       "      <td>160</td>\n",
       "      <td>9.53</td>\n",
       "      <td>0.000</td>\n",
       "      <td>0.000</td>\n",
       "      <td>0.0</td>\n",
       "      <td>0.1225</td>\n",
       "      <td>0</td>\n",
       "      <td>0.0</td>\n",
       "      <td>0</td>\n",
       "      <td>0</td>\n",
       "      <td>2</td>\n",
       "      <td>0</td>\n",
       "      <td>2</td>\n",
       "      <td>0</td>\n",
       "      <td>0</td>\n",
       "      <td>0</td>\n",
       "      <td>0</td>\n",
       "      <td>0</td>\n",
       "    </tr>\n",
       "    <tr>\n",
       "      <th>1071</th>\n",
       "      <td>Thu May 07 2020</td>\n",
       "      <td>0</td>\n",
       "      <td>0</td>\n",
       "      <td>24.58</td>\n",
       "      <td>847</td>\n",
       "      <td>48</td>\n",
       "      <td>2</td>\n",
       "      <td>0</td>\n",
       "      <td>2</td>\n",
       "      <td>2.90</td>\n",
       "      <td>141</td>\n",
       "      <td>56</td>\n",
       "      <td>3834</td>\n",
       "      <td>157</td>\n",
       "      <td>114</td>\n",
       "      <td>6.91</td>\n",
       "      <td>0.000</td>\n",
       "      <td>0.000</td>\n",
       "      <td>0.0</td>\n",
       "      <td>0.0735</td>\n",
       "      <td>0</td>\n",
       "      <td>0.0</td>\n",
       "      <td>0</td>\n",
       "      <td>0</td>\n",
       "      <td>2</td>\n",
       "      <td>1</td>\n",
       "      <td>1</td>\n",
       "      <td>0</td>\n",
       "      <td>0</td>\n",
       "      <td>0</td>\n",
       "      <td>0</td>\n",
       "      <td>0</td>\n",
       "    </tr>\n",
       "    <tr>\n",
       "      <th>1072</th>\n",
       "      <td>Fri May 08 2020</td>\n",
       "      <td>0</td>\n",
       "      <td>0</td>\n",
       "      <td>42.43</td>\n",
       "      <td>222</td>\n",
       "      <td>25</td>\n",
       "      <td>0</td>\n",
       "      <td>0</td>\n",
       "      <td>3</td>\n",
       "      <td>22.11</td>\n",
       "      <td>80</td>\n",
       "      <td>62</td>\n",
       "      <td>3225</td>\n",
       "      <td>76</td>\n",
       "      <td>67</td>\n",
       "      <td>11.85</td>\n",
       "      <td>2.495</td>\n",
       "      <td>4.650</td>\n",
       "      <td>1.0</td>\n",
       "      <td>0.0000</td>\n",
       "      <td>0</td>\n",
       "      <td>0.0</td>\n",
       "      <td>0</td>\n",
       "      <td>1</td>\n",
       "      <td>3</td>\n",
       "      <td>1</td>\n",
       "      <td>2</td>\n",
       "      <td>0</td>\n",
       "      <td>2</td>\n",
       "      <td>2</td>\n",
       "      <td>0</td>\n",
       "      <td>0</td>\n",
       "    </tr>\n",
       "    <tr>\n",
       "      <th>1102</th>\n",
       "      <td>Sun Jun 07 2020</td>\n",
       "      <td>0</td>\n",
       "      <td>0</td>\n",
       "      <td>0.00</td>\n",
       "      <td>13</td>\n",
       "      <td>1</td>\n",
       "      <td>0</td>\n",
       "      <td>0</td>\n",
       "      <td>0</td>\n",
       "      <td>0.00</td>\n",
       "      <td>0</td>\n",
       "      <td>0</td>\n",
       "      <td>0</td>\n",
       "      <td>0</td>\n",
       "      <td>0</td>\n",
       "      <td>6.91</td>\n",
       "      <td>0.000</td>\n",
       "      <td>0.000</td>\n",
       "      <td>0.0</td>\n",
       "      <td>0.0000</td>\n",
       "      <td>0</td>\n",
       "      <td>0.0</td>\n",
       "      <td>0</td>\n",
       "      <td>0</td>\n",
       "      <td>2</td>\n",
       "      <td>1</td>\n",
       "      <td>1</td>\n",
       "      <td>0</td>\n",
       "      <td>0</td>\n",
       "      <td>0</td>\n",
       "      <td>0</td>\n",
       "      <td>0</td>\n",
       "    </tr>\n",
       "    <tr>\n",
       "      <th>1103</th>\n",
       "      <td>Mon Jun 08 2020</td>\n",
       "      <td>0</td>\n",
       "      <td>0</td>\n",
       "      <td>0.00</td>\n",
       "      <td>0</td>\n",
       "      <td>0</td>\n",
       "      <td>0</td>\n",
       "      <td>0</td>\n",
       "      <td>0</td>\n",
       "      <td>0.00</td>\n",
       "      <td>1</td>\n",
       "      <td>0</td>\n",
       "      <td>0</td>\n",
       "      <td>0</td>\n",
       "      <td>1</td>\n",
       "      <td>11.85</td>\n",
       "      <td>0.000</td>\n",
       "      <td>0.000</td>\n",
       "      <td>0.0</td>\n",
       "      <td>0.0000</td>\n",
       "      <td>0</td>\n",
       "      <td>0.0</td>\n",
       "      <td>0</td>\n",
       "      <td>0</td>\n",
       "      <td>3</td>\n",
       "      <td>1</td>\n",
       "      <td>2</td>\n",
       "      <td>0</td>\n",
       "      <td>0</td>\n",
       "      <td>0</td>\n",
       "      <td>0</td>\n",
       "      <td>0</td>\n",
       "    </tr>\n",
       "    <tr>\n",
       "      <th>1132</th>\n",
       "      <td>Tue Jul 07 2020</td>\n",
       "      <td>0</td>\n",
       "      <td>0</td>\n",
       "      <td>0.00</td>\n",
       "      <td>16</td>\n",
       "      <td>1</td>\n",
       "      <td>0</td>\n",
       "      <td>0</td>\n",
       "      <td>0</td>\n",
       "      <td>0.00</td>\n",
       "      <td>0</td>\n",
       "      <td>0</td>\n",
       "      <td>0</td>\n",
       "      <td>0</td>\n",
       "      <td>0</td>\n",
       "      <td>6.91</td>\n",
       "      <td>0.000</td>\n",
       "      <td>0.000</td>\n",
       "      <td>0.0</td>\n",
       "      <td>0.0000</td>\n",
       "      <td>0</td>\n",
       "      <td>0.0</td>\n",
       "      <td>0</td>\n",
       "      <td>0</td>\n",
       "      <td>2</td>\n",
       "      <td>1</td>\n",
       "      <td>1</td>\n",
       "      <td>0</td>\n",
       "      <td>0</td>\n",
       "      <td>0</td>\n",
       "      <td>0</td>\n",
       "      <td>0</td>\n",
       "    </tr>\n",
       "    <tr>\n",
       "      <th>1133</th>\n",
       "      <td>Wed Jul 08 2020</td>\n",
       "      <td>0</td>\n",
       "      <td>0</td>\n",
       "      <td>23.77</td>\n",
       "      <td>946</td>\n",
       "      <td>41</td>\n",
       "      <td>0</td>\n",
       "      <td>3</td>\n",
       "      <td>0</td>\n",
       "      <td>5.90</td>\n",
       "      <td>140</td>\n",
       "      <td>44</td>\n",
       "      <td>3780</td>\n",
       "      <td>168</td>\n",
       "      <td>120</td>\n",
       "      <td>11.85</td>\n",
       "      <td>0.000</td>\n",
       "      <td>0.000</td>\n",
       "      <td>0.0</td>\n",
       "      <td>0.0700</td>\n",
       "      <td>0</td>\n",
       "      <td>0.0</td>\n",
       "      <td>0</td>\n",
       "      <td>0</td>\n",
       "      <td>3</td>\n",
       "      <td>1</td>\n",
       "      <td>2</td>\n",
       "      <td>0</td>\n",
       "      <td>0</td>\n",
       "      <td>0</td>\n",
       "      <td>0</td>\n",
       "      <td>0</td>\n",
       "    </tr>\n",
       "    <tr>\n",
       "      <th>1163</th>\n",
       "      <td>Fri Aug 07 2020</td>\n",
       "      <td>0</td>\n",
       "      <td>0</td>\n",
       "      <td>23.81</td>\n",
       "      <td>1545</td>\n",
       "      <td>36</td>\n",
       "      <td>0</td>\n",
       "      <td>0</td>\n",
       "      <td>2</td>\n",
       "      <td>11.34</td>\n",
       "      <td>160</td>\n",
       "      <td>34</td>\n",
       "      <td>5310</td>\n",
       "      <td>222</td>\n",
       "      <td>108</td>\n",
       "      <td>9.23</td>\n",
       "      <td>0.000</td>\n",
       "      <td>23.250</td>\n",
       "      <td>1.0</td>\n",
       "      <td>0.0455</td>\n",
       "      <td>0</td>\n",
       "      <td>0.0</td>\n",
       "      <td>0</td>\n",
       "      <td>0</td>\n",
       "      <td>3</td>\n",
       "      <td>2</td>\n",
       "      <td>1</td>\n",
       "      <td>0</td>\n",
       "      <td>10</td>\n",
       "      <td>10</td>\n",
       "      <td>0</td>\n",
       "      <td>0</td>\n",
       "    </tr>\n",
       "    <tr>\n",
       "      <th>1164</th>\n",
       "      <td>Sat Aug 08 2020</td>\n",
       "      <td>0</td>\n",
       "      <td>0</td>\n",
       "      <td>25.52</td>\n",
       "      <td>73</td>\n",
       "      <td>18</td>\n",
       "      <td>0</td>\n",
       "      <td>0</td>\n",
       "      <td>0</td>\n",
       "      <td>13.57</td>\n",
       "      <td>28</td>\n",
       "      <td>31</td>\n",
       "      <td>1710</td>\n",
       "      <td>67</td>\n",
       "      <td>25</td>\n",
       "      <td>11.85</td>\n",
       "      <td>0.000</td>\n",
       "      <td>11.985</td>\n",
       "      <td>1.0</td>\n",
       "      <td>0.0000</td>\n",
       "      <td>0</td>\n",
       "      <td>0.0</td>\n",
       "      <td>0</td>\n",
       "      <td>0</td>\n",
       "      <td>3</td>\n",
       "      <td>1</td>\n",
       "      <td>2</td>\n",
       "      <td>0</td>\n",
       "      <td>5</td>\n",
       "      <td>5</td>\n",
       "      <td>0</td>\n",
       "      <td>0</td>\n",
       "    </tr>\n",
       "  </tbody>\n",
       "</table>\n",
       "</div>"
      ],
      "text/plain": [
       "                 Date  ...  Gifted Tier 3 subs\n",
       "1041  Tue Apr 07 2020  ...                   0\n",
       "1042  Wed Apr 08 2020  ...                   0\n",
       "1071  Thu May 07 2020  ...                   0\n",
       "1072  Fri May 08 2020  ...                   0\n",
       "1102  Sun Jun 07 2020  ...                   0\n",
       "1103  Mon Jun 08 2020  ...                   0\n",
       "1132  Tue Jul 07 2020  ...                   0\n",
       "1133  Wed Jul 08 2020  ...                   0\n",
       "1163  Fri Aug 07 2020  ...                   0\n",
       "1164  Sat Aug 08 2020  ...                   0\n",
       "\n",
       "[10 rows x 32 columns]"
      ]
     },
     "execution_count": 13,
     "metadata": {
      "tags": []
     },
     "output_type": "execute_result"
    }
   ],
   "source": [
    "t2_subs_only_df.tail(10)"
   ]
  },
  {
   "cell_type": "markdown",
   "metadata": {
    "colab_type": "text",
    "id": "ea4ZjuRnqJS6"
   },
   "source": [
    "### After looking at this data is became clear that the **payout fee** was cutting a significant amount of profit.  How much??  This speaks to how important is to become a partner.  **Partners do not pay the payout fee.**  They"
   ]
  },
  {
   "cell_type": "code",
   "execution_count": 14,
   "metadata": {
    "colab": {
     "base_uri": "https://localhost:8080/",
     "height": 34
    },
    "colab_type": "code",
    "id": "6ZXlkqv4lLqM",
    "outputId": "234450fd-6df8-4702-b3dd-bfb0e5cc6950"
   },
   "outputs": [
    {
     "data": {
      "text/plain": [
       "(337, 32)"
      ]
     },
     "execution_count": 14,
     "metadata": {
      "tags": []
     },
     "output_type": "execute_result"
    }
   ],
   "source": [
    "# number of days she's had 45 or more viewers\n",
    "cond_45_viewers = twitch_analy_df['Max Viewers'] >=45\n",
    "max_viewers45_df = twitch_analy_df[cond_45_viewers]\n",
    "max_viewers45_df.shape"
   ]
  },
  {
   "cell_type": "code",
   "execution_count": 15,
   "metadata": {
    "colab": {
     "base_uri": "https://localhost:8080/",
     "height": 170
    },
    "colab_type": "code",
    "id": "WBI1z5fZpMNa",
    "outputId": "a17ea397-9a1a-4e00-e2f4-317dfc5a9724"
   },
   "outputs": [
    {
     "data": {
      "text/plain": [
       "count    337.000000\n",
       "mean       2.851884\n",
       "std        3.086241\n",
       "min        0.000000\n",
       "25%        0.000000\n",
       "50%        2.270000\n",
       "75%        4.615000\n",
       "max       16.795000\n",
       "Name: Sub Revenue, dtype: float64"
      ]
     },
     "execution_count": 15,
     "metadata": {
      "tags": []
     },
     "output_type": "execute_result"
    }
   ],
   "source": [
    "max_viewers45_df['Sub Revenue'].describe()"
   ]
  },
  {
   "cell_type": "code",
   "execution_count": 16,
   "metadata": {
    "colab": {
     "base_uri": "https://localhost:8080/",
     "height": 350
    },
    "colab_type": "code",
    "id": "ixycWzMTrNM8",
    "outputId": "7c0a12f7-440c-4619-b484-3373a0362600"
   },
   "outputs": [
    {
     "data": {
      "image/png": "[encoded data removed]",
      "text/plain": [
       "<Figure size 576x396 with 1 Axes>"
      ]
     },
     "metadata": {
      "tags": []
     },
     "output_type": "display_data"
    }
   ],
   "source": [
    "max_viewers45_df['Sub Revenue'].hist(bins=50);"
   ]
  },
  {
   "cell_type": "code",
   "execution_count": 17,
   "metadata": {
    "colab": {
     "base_uri": "https://localhost:8080/",
     "height": 352
    },
    "colab_type": "code",
    "id": "37ihSlEztzvZ",
    "outputId": "85f1dad1-72e4-42f3-e984-771c8a0ad62e"
   },
   "outputs": [
    {
     "data": {
      "image/png": "[encoded data removed]",
      "text/plain": [
       "<Figure size 576x396 with 1 Axes>"
      ]
     },
     "metadata": {
      "tags": []
     },
     "output_type": "display_data"
    }
   ],
   "source": [
    "# I want a scatter with Max Viewers vs Sub Revenue\n",
    "plt.scatter(twitch_analy_df[\"Max Viewers\"],\n",
    "            twitch_analy_df[\"Sub Revenue\"], alpha=.2)\n",
    "plt.show()"
   ]
  },
  {
   "cell_type": "code",
   "execution_count": 18,
   "metadata": {
    "colab": {
     "base_uri": "https://localhost:8080/",
     "height": 221
    },
    "colab_type": "code",
    "id": "fyB0zrSrwuNR",
    "outputId": "116e59be-9e50-477c-c157-806f54ddf508"
   },
   "outputs": [
    {
     "data": {
      "text/plain": [
       "0.00     627\n",
       "1.00      27\n",
       "0.10      17\n",
       "0.05      10\n",
       "1.10       9\n",
       "        ... \n",
       "35.10      1\n",
       "1.27       1\n",
       "1.97       1\n",
       "6.87       1\n",
       "27.96      1\n",
       "Name: Bits Revenue, Length: 351, dtype: int64"
      ]
     },
     "execution_count": 18,
     "metadata": {
      "tags": []
     },
     "output_type": "execute_result"
    }
   ],
   "source": [
    "twitch_analy_df['Bits Revenue'].value_counts()"
   ]
  },
  {
   "cell_type": "code",
   "execution_count": 18,
   "metadata": {
    "colab": {},
    "colab_type": "code",
    "id": "4CC9rtR1wzJe"
   },
   "outputs": [],
   "source": []
  },
  {
   "cell_type": "code",
   "execution_count": 19,
   "metadata": {
    "colab": {
     "base_uri": "https://localhost:8080/",
     "height": 187
    },
    "colab_type": "code",
    "id": "HxwzDAecuS_t",
    "outputId": "0b811f16-72e5-460c-875e-99aae67d3822"
   },
   "outputs": [
    {
     "data": {
      "text/plain": [
       "Index(['Date', 'Ad Breaks (Minutes)', 'Ad Time (Seconds) Per Hour',\n",
       "       'Average Viewers', 'Chat Messages', 'Chatters', 'Clip Views',\n",
       "       'Clips Created', 'Follows', 'Hosts and Raids Viewers (%)', 'Live Views',\n",
       "       'Max Viewers', 'Minutes Watched', 'Minutes Streamed', 'Unique Viewers',\n",
       "       'Sub Revenue', 'Prime Revenue', 'Gifted Subs Revenue', 'Bits Revenue',\n",
       "       'Ad Revenue', 'Game Sales Revenue', 'Extensions Revenue',\n",
       "       'Bounties Revenue', 'Prime Subs', 'Total Paid Subs', 'Tier 1 subs',\n",
       "       'Tier 2 subs', 'Tier 3 subs', 'Total Gifted Subs', 'Gifted Tier 1 subs',\n",
       "       'Gifted Tier 2 subs', 'Gifted Tier 3 subs'],\n",
       "      dtype='object')"
      ]
     },
     "execution_count": 19,
     "metadata": {
      "tags": []
     },
     "output_type": "execute_result"
    }
   ],
   "source": [
    "# Let's stop taking pot shots and do a correlation matrix...\n",
    "# first pick some features of interest\n",
    "twitch_analy_df.columns"
   ]
  },
  {
   "cell_type": "code",
   "execution_count": 20,
   "metadata": {
    "colab": {
     "base_uri": "https://localhost:8080/",
     "height": 34
    },
    "colab_type": "code",
    "id": "_i7XOo2_zNoR",
    "outputId": "2a4dc971-06b2-4f25-a542-fa494cde4dad"
   },
   "outputs": [
    {
     "data": {
      "text/plain": [
       "(1171, 32)"
      ]
     },
     "execution_count": 20,
     "metadata": {
      "tags": []
     },
     "output_type": "execute_result"
    }
   ],
   "source": [
    "twitch_analy_df.shape"
   ]
  },
  {
   "cell_type": "code",
   "execution_count": 20,
   "metadata": {
    "colab": {},
    "colab_type": "code",
    "id": "YshnA6vbru2I"
   },
   "outputs": [],
   "source": []
  },
  {
   "cell_type": "code",
   "execution_count": 20,
   "metadata": {
    "colab": {},
    "colab_type": "code",
    "id": "1GM24kgYy8kf"
   },
   "outputs": [],
   "source": []
  },
  {
   "cell_type": "markdown",
   "metadata": {
    "colab_type": "text",
    "id": "n9n-RBECzuQb"
   },
   "source": [
    "## Total Revenue feature - Put in wrangle function"
   ]
  },
  {
   "cell_type": "code",
   "execution_count": 21,
   "metadata": {
    "colab": {},
    "colab_type": "code",
    "id": "npB3AndYv-sv"
   },
   "outputs": [],
   "source": [
    "# Create a new Total_Revenue column \n",
    "twitch_analy_df[\"Total_Sub_Revenue\"] = twitch_analy_df[\"Sub Revenue\"] + twitch_analy_df['Prime Revenue'] + twitch_analy_df['Gifted Subs Revenue'] + twitch_analy_df['Bits Revenue'] + twitch_analy_df['Ad Revenue'] + twitch_analy_df['Extensions Revenue']"
   ]
  },
  {
   "cell_type": "code",
   "execution_count": 22,
   "metadata": {
    "colab": {
     "base_uri": "https://localhost:8080/",
     "height": 119
    },
    "colab_type": "code",
    "id": "icnfF6FVnuFy",
    "outputId": "fd061955-da16-4bb5-a89a-e3d6aec64b73"
   },
   "outputs": [
    {
     "data": {
      "text/plain": [
       "0    Thu Jun 01 2017\n",
       "1    Fri Jun 02 2017\n",
       "2    Sat Jun 03 2017\n",
       "3    Sun Jun 04 2017\n",
       "4    Mon Jun 05 2017\n",
       "Name: Date, dtype: object"
      ]
     },
     "execution_count": 22,
     "metadata": {
      "tags": []
     },
     "output_type": "execute_result"
    }
   ],
   "source": [
    "twitch_analy_df[\"Date\"].head()"
   ]
  },
  {
   "cell_type": "code",
   "execution_count": 23,
   "metadata": {
    "colab": {
     "base_uri": "https://localhost:8080/",
     "height": 35
    },
    "colab_type": "code",
    "id": "vQPsBFwzkI0n",
    "outputId": "f767bbbf-98b1-4096-cc77-09fc4590a31b"
   },
   "outputs": [
    {
     "data": {
      "application/vnd.google.colaboratory.intrinsic+json": {
       "type": "string"
      },
      "text/plain": [
       "'Thu Jun 01 2017'"
      ]
     },
     "execution_count": 23,
     "metadata": {
      "tags": []
     },
     "output_type": "execute_result"
    }
   ],
   "source": [
    "# Create a new column Day of Weeek\n",
    "# twitch_analy_df[\"day_of_week\"]\n",
    "x = twitch_analy_df.iloc[0,0]\n",
    "x"
   ]
  },
  {
   "cell_type": "code",
   "execution_count": 24,
   "metadata": {
    "colab": {
     "base_uri": "https://localhost:8080/",
     "height": 34
    },
    "colab_type": "code",
    "id": "3Ofwh8f3sW0M",
    "outputId": "f0b659c2-bbb8-4ca6-9c83-f0dcd5f44fe0"
   },
   "outputs": [
    {
     "data": {
      "text/plain": [
       "['Thu', 'Jun', '01', '2017']"
      ]
     },
     "execution_count": 24,
     "metadata": {
      "tags": []
     },
     "output_type": "execute_result"
    }
   ],
   "source": [
    "x_date = x.split()\n",
    "x_date"
   ]
  },
  {
   "cell_type": "code",
   "execution_count": 25,
   "metadata": {
    "colab": {
     "base_uri": "https://localhost:8080/",
     "height": 35
    },
    "colab_type": "code",
    "id": "scYtPihVsogN",
    "outputId": "97bdebde-06f2-4873-da66-4e1db081055e"
   },
   "outputs": [
    {
     "data": {
      "application/vnd.google.colaboratory.intrinsic+json": {
       "type": "string"
      },
      "text/plain": [
       "'Thu'"
      ]
     },
     "execution_count": 25,
     "metadata": {
      "tags": []
     },
     "output_type": "execute_result"
    }
   ],
   "source": [
    "day = x_date[0]\n",
    "day"
   ]
  },
  {
   "cell_type": "code",
   "execution_count": 26,
   "metadata": {
    "colab": {
     "base_uri": "https://localhost:8080/",
     "height": 35
    },
    "colab_type": "code",
    "id": "1RJL287EUUlX",
    "outputId": "6c371cc1-b0ab-4284-937f-9745b352ee32"
   },
   "outputs": [
    {
     "data": {
      "application/vnd.google.colaboratory.intrinsic+json": {
       "type": "string"
      },
      "text/plain": [
       "'Jun'"
      ]
     },
     "execution_count": 26,
     "metadata": {
      "tags": []
     },
     "output_type": "execute_result"
    }
   ],
   "source": [
    "month = x_date[1]\n",
    "month"
   ]
  },
  {
   "cell_type": "code",
   "execution_count": 27,
   "metadata": {
    "colab": {
     "base_uri": "https://localhost:8080/",
     "height": 35
    },
    "colab_type": "code",
    "id": "HSZULF1xW9Zh",
    "outputId": "865e43c2-dd55-4afb-933d-0792b6246a9c"
   },
   "outputs": [
    {
     "data": {
      "application/vnd.google.colaboratory.intrinsic+json": {
       "type": "string"
      },
      "text/plain": [
       "'2017'"
      ]
     },
     "execution_count": 27,
     "metadata": {
      "tags": []
     },
     "output_type": "execute_result"
    }
   ],
   "source": [
    "year = x_date[3]\n",
    "year"
   ]
  },
  {
   "cell_type": "code",
   "execution_count": 28,
   "metadata": {
    "colab": {
     "base_uri": "https://localhost:8080/",
     "height": 34
    },
    "colab_type": "code",
    "id": "X1wBqUtfaDFd",
    "outputId": "216a87a6-cbe5-4313-ba27-3bde35e6b130"
   },
   "outputs": [
    {
     "data": {
      "text/plain": [
       "['Thu', 'Jun', '01', '2017']"
      ]
     },
     "execution_count": 28,
     "metadata": {
      "tags": []
     },
     "output_type": "execute_result"
    }
   ],
   "source": [
    "x_date"
   ]
  },
  {
   "cell_type": "code",
   "execution_count": 29,
   "metadata": {
    "colab": {
     "base_uri": "https://localhost:8080/",
     "height": 35
    },
    "colab_type": "code",
    "id": "yrdloFRLbuiS",
    "outputId": "a333638f-67b6-4fde-87a2-a34be47a666f"
   },
   "outputs": [
    {
     "data": {
      "application/vnd.google.colaboratory.intrinsic+json": {
       "type": "string"
      },
      "text/plain": [
       "'Jun'"
      ]
     },
     "execution_count": 29,
     "metadata": {
      "tags": []
     },
     "output_type": "execute_result"
    }
   ],
   "source": [
    "x = month\n",
    "x"
   ]
  },
  {
   "cell_type": "code",
   "execution_count": 30,
   "metadata": {
    "colab": {
     "base_uri": "https://localhost:8080/",
     "height": 35
    },
    "colab_type": "code",
    "id": "ylXJwygPXig3",
    "outputId": "d6db9271-d1f6-4511-f015-d2f9ce5c76b6"
   },
   "outputs": [
    {
     "data": {
      "application/vnd.google.colaboratory.intrinsic+json": {
       "type": "string"
      },
      "text/plain": [
       "'06'"
      ]
     },
     "execution_count": 30,
     "metadata": {
      "tags": []
     },
     "output_type": "execute_result"
    }
   ],
   "source": [
    "\n",
    "if x == \"Jan\":\n",
    "  x = \"01\"\n",
    "if x == \"Feb\":\n",
    "  x = \"02\"\n",
    "if x == \"Mar\":\n",
    "  x = \"03\"\n",
    "if x == \"Apr\":\n",
    "  x = \"04\"\n",
    "if x == \"May\":\n",
    "  x = \"05\"\n",
    "if x == \"Jun\":\n",
    "  x = \"06\"\n",
    "if x == \"Jul\":\n",
    "  x = \"07\"\n",
    "if x == \"Aug\":\n",
    "  x = \"08\"\n",
    "if x == \"Sep\":\n",
    "  x = \"09\"\n",
    "if x == \"Oct\":\n",
    "  x = \"10\"\n",
    "if x == \"Nov\":\n",
    "  x = \"11\"\n",
    "if x == \"Dec\":\n",
    "  x = \"12\"\n",
    "x_date[1] = x\n",
    "x_date[1]"
   ]
  },
  {
   "cell_type": "code",
   "execution_count": 31,
   "metadata": {
    "colab": {
     "base_uri": "https://localhost:8080/",
     "height": 35
    },
    "colab_type": "code",
    "id": "3bgAr1ErSCU1",
    "outputId": "3b04fdf1-09c9-488e-84f3-3d8123045c13"
   },
   "outputs": [
    {
     "data": {
      "application/vnd.google.colaboratory.intrinsic+json": {
       "type": "string"
      },
      "text/plain": [
       "'2017/06/01'"
      ]
     },
     "execution_count": 31,
     "metadata": {
      "tags": []
     },
     "output_type": "execute_result"
    }
   ],
   "source": [
    "final_date = x_date[3]+\"/\"+x_date[1] + \"/\" + x_date[2]\n",
    "final_date"
   ]
  },
  {
   "cell_type": "code",
   "execution_count": 31,
   "metadata": {
    "colab": {},
    "colab_type": "code",
    "id": "1wi2bNDqTs7t"
   },
   "outputs": [],
   "source": []
  },
  {
   "cell_type": "code",
   "execution_count": 32,
   "metadata": {
    "colab": {
     "base_uri": "https://localhost:8080/",
     "height": 34
    },
    "colab_type": "code",
    "id": "RxAB6jpdTWWf",
    "outputId": "223e7864-6409-47d3-d1f1-70d123765eb4"
   },
   "outputs": [
    {
     "name": "stdout",
     "output_type": "stream",
     "text": [
      "2017-06-01 00:00:00\n"
     ]
    }
   ],
   "source": [
    "final_date = datetime.strptime(final_date, \"%Y/%m/%d\")\n",
    "print(final_date)"
   ]
  },
  {
   "cell_type": "markdown",
   "metadata": {
    "colab_type": "text",
    "id": "TlHjARAah3BE"
   },
   "source": [
    "## Convert the date - add to wrangle function "
   ]
  },
  {
   "cell_type": "code",
   "execution_count": 33,
   "metadata": {
    "colab": {},
    "colab_type": "code",
    "id": "Y9vOB_m5Xf7g"
   },
   "outputs": [],
   "source": [
    " def convert_twitch_date(twitch_df):\n",
    "   # create list of dates to change\n",
    "  date_list = twitch_df.iloc[:,0]\n",
    "\n",
    "  # create empty new list for the converted dates\n",
    "  new_date = []\n",
    "\n",
    "  for date in date_list:\n",
    "    x_date = date.split()\n",
    "    day, month, year  = x_date[2],x_date[1], x_date[3]\n",
    "    x = month\n",
    "    if x == \"Jan\":\n",
    "      x = \"01\"\n",
    "    if x == \"Feb\":\n",
    "      x = \"02\"\n",
    "    if x == \"Mar\":\n",
    "      x = \"03\"\n",
    "    if x == \"Apr\":\n",
    "      x = \"04\"\n",
    "    if x == \"May\":\n",
    "      x = \"05\"\n",
    "    if x == \"Jun\":\n",
    "      x = \"06\"\n",
    "    if x == \"Jul\":\n",
    "      x = \"07\"\n",
    "    if x == \"Aug\":\n",
    "      x = \"08\"\n",
    "    if x == \"Sep\":\n",
    "      x = \"09\"\n",
    "    if x == \"Oct\":\n",
    "      x = \"10\"\n",
    "    if x == \"Nov\":\n",
    "      x = \"11\"\n",
    "    if x == \"Dec\":\n",
    "      x = \"12\"\n",
    "    month = x\n",
    "\n",
    "    final_date = year + \"/\" + month + \"/\" + day\n",
    "    # convert the string to a datetime\n",
    "    final_date = datetime.strptime(final_date, \"%Y/%m/%d\")\n",
    "\n",
    "    new_date.append(final_date)\n",
    "  \n",
    "  twitch_df[\"new_date\"] = new_date\n",
    "\n",
    "  return twitch_df"
   ]
  },
  {
   "cell_type": "code",
   "execution_count": 34,
   "metadata": {
    "colab": {
     "base_uri": "https://localhost:8080/",
     "height": 301
    },
    "colab_type": "code",
    "id": "YvMfz5BJcIC0",
    "outputId": "c89bf321-d680-4f44-bd9c-08723b1c6354"
   },
   "outputs": [
    {
     "data": {
      "text/html": [
       "<div>\n",
       "<style scoped>\n",
       "    .dataframe tbody tr th:only-of-type {\n",
       "        vertical-align: middle;\n",
       "    }\n",
       "\n",
       "    .dataframe tbody tr th {\n",
       "        vertical-align: top;\n",
       "    }\n",
       "\n",
       "    .dataframe thead th {\n",
       "        text-align: right;\n",
       "    }\n",
       "</style>\n",
       "<table border=\"1\" class=\"dataframe\">\n",
       "  <thead>\n",
       "    <tr style=\"text-align: right;\">\n",
       "      <th></th>\n",
       "      <th>Date</th>\n",
       "      <th>Ad Breaks (Minutes)</th>\n",
       "      <th>Ad Time (Seconds) Per Hour</th>\n",
       "      <th>Average Viewers</th>\n",
       "      <th>Chat Messages</th>\n",
       "      <th>Chatters</th>\n",
       "      <th>Clip Views</th>\n",
       "      <th>Clips Created</th>\n",
       "      <th>Follows</th>\n",
       "      <th>Hosts and Raids Viewers (%)</th>\n",
       "      <th>Live Views</th>\n",
       "      <th>Max Viewers</th>\n",
       "      <th>Minutes Watched</th>\n",
       "      <th>Minutes Streamed</th>\n",
       "      <th>Unique Viewers</th>\n",
       "      <th>Sub Revenue</th>\n",
       "      <th>Prime Revenue</th>\n",
       "      <th>Gifted Subs Revenue</th>\n",
       "      <th>Bits Revenue</th>\n",
       "      <th>Ad Revenue</th>\n",
       "      <th>Game Sales Revenue</th>\n",
       "      <th>Extensions Revenue</th>\n",
       "      <th>Bounties Revenue</th>\n",
       "      <th>Prime Subs</th>\n",
       "      <th>Total Paid Subs</th>\n",
       "      <th>Tier 1 subs</th>\n",
       "      <th>Tier 2 subs</th>\n",
       "      <th>Tier 3 subs</th>\n",
       "      <th>Total Gifted Subs</th>\n",
       "      <th>Gifted Tier 1 subs</th>\n",
       "      <th>Gifted Tier 2 subs</th>\n",
       "      <th>Gifted Tier 3 subs</th>\n",
       "      <th>Total_Sub_Revenue</th>\n",
       "      <th>new_date</th>\n",
       "    </tr>\n",
       "  </thead>\n",
       "  <tbody>\n",
       "    <tr>\n",
       "      <th>0</th>\n",
       "      <td>Thu Jun 01 2017</td>\n",
       "      <td>0</td>\n",
       "      <td>0</td>\n",
       "      <td>0.0</td>\n",
       "      <td>0</td>\n",
       "      <td>0</td>\n",
       "      <td>0</td>\n",
       "      <td>0</td>\n",
       "      <td>0</td>\n",
       "      <td>0.0</td>\n",
       "      <td>0</td>\n",
       "      <td>0</td>\n",
       "      <td>0</td>\n",
       "      <td>0</td>\n",
       "      <td>0</td>\n",
       "      <td>0.0</td>\n",
       "      <td>0.0</td>\n",
       "      <td>0.0</td>\n",
       "      <td>0.0</td>\n",
       "      <td>0.0</td>\n",
       "      <td>0</td>\n",
       "      <td>0.0</td>\n",
       "      <td>0</td>\n",
       "      <td>0</td>\n",
       "      <td>0</td>\n",
       "      <td>0</td>\n",
       "      <td>0</td>\n",
       "      <td>0</td>\n",
       "      <td>0</td>\n",
       "      <td>0</td>\n",
       "      <td>0</td>\n",
       "      <td>0</td>\n",
       "      <td>0.0</td>\n",
       "      <td>2017-06-01</td>\n",
       "    </tr>\n",
       "    <tr>\n",
       "      <th>1</th>\n",
       "      <td>Fri Jun 02 2017</td>\n",
       "      <td>0</td>\n",
       "      <td>0</td>\n",
       "      <td>0.0</td>\n",
       "      <td>0</td>\n",
       "      <td>0</td>\n",
       "      <td>0</td>\n",
       "      <td>0</td>\n",
       "      <td>0</td>\n",
       "      <td>0.0</td>\n",
       "      <td>0</td>\n",
       "      <td>0</td>\n",
       "      <td>0</td>\n",
       "      <td>0</td>\n",
       "      <td>0</td>\n",
       "      <td>0.0</td>\n",
       "      <td>0.0</td>\n",
       "      <td>0.0</td>\n",
       "      <td>0.0</td>\n",
       "      <td>0.0</td>\n",
       "      <td>0</td>\n",
       "      <td>0.0</td>\n",
       "      <td>0</td>\n",
       "      <td>0</td>\n",
       "      <td>0</td>\n",
       "      <td>0</td>\n",
       "      <td>0</td>\n",
       "      <td>0</td>\n",
       "      <td>0</td>\n",
       "      <td>0</td>\n",
       "      <td>0</td>\n",
       "      <td>0</td>\n",
       "      <td>0.0</td>\n",
       "      <td>2017-06-02</td>\n",
       "    </tr>\n",
       "  </tbody>\n",
       "</table>\n",
       "</div>"
      ],
      "text/plain": [
       "              Date  Ad Breaks (Minutes)  ...  Total_Sub_Revenue   new_date\n",
       "0  Thu Jun 01 2017                    0  ...                0.0 2017-06-01\n",
       "1  Fri Jun 02 2017                    0  ...                0.0 2017-06-02\n",
       "\n",
       "[2 rows x 34 columns]"
      ]
     },
     "execution_count": 34,
     "metadata": {
      "tags": []
     },
     "output_type": "execute_result"
    }
   ],
   "source": [
    "test_wrangle_df = convert_twitch_date(twitch_analy_df)\n",
    "test_wrangle_df.head(2)"
   ]
  },
  {
   "cell_type": "code",
   "execution_count": 35,
   "metadata": {
    "colab": {
     "base_uri": "https://localhost:8080/",
     "height": 714
    },
    "colab_type": "code",
    "id": "mBEK0uLBhAO5",
    "outputId": "432d0494-c456-47f9-cc1e-0d1c7c885506"
   },
   "outputs": [
    {
     "name": "stdout",
     "output_type": "stream",
     "text": [
      "<class 'pandas.core.frame.DataFrame'>\n",
      "RangeIndex: 1171 entries, 0 to 1170\n",
      "Data columns (total 34 columns):\n",
      " #   Column                       Non-Null Count  Dtype         \n",
      "---  ------                       --------------  -----         \n",
      " 0   Date                         1171 non-null   object        \n",
      " 1   Ad Breaks (Minutes)          1171 non-null   int64         \n",
      " 2   Ad Time (Seconds) Per Hour   1171 non-null   int64         \n",
      " 3   Average Viewers              1171 non-null   float64       \n",
      " 4   Chat Messages                1171 non-null   int64         \n",
      " 5   Chatters                     1171 non-null   int64         \n",
      " 6   Clip Views                   1171 non-null   int64         \n",
      " 7   Clips Created                1171 non-null   int64         \n",
      " 8   Follows                      1171 non-null   int64         \n",
      " 9   Hosts and Raids Viewers (%)  1171 non-null   float64       \n",
      " 10  Live Views                   1171 non-null   int64         \n",
      " 11  Max Viewers                  1171 non-null   int64         \n",
      " 12  Minutes Watched              1171 non-null   int64         \n",
      " 13  Minutes Streamed             1171 non-null   int64         \n",
      " 14  Unique Viewers               1171 non-null   int64         \n",
      " 15  Sub Revenue                  1171 non-null   float64       \n",
      " 16  Prime Revenue                1171 non-null   float64       \n",
      " 17  Gifted Subs Revenue          1171 non-null   float64       \n",
      " 18  Bits Revenue                 1171 non-null   float64       \n",
      " 19  Ad Revenue                   1171 non-null   float64       \n",
      " 20  Game Sales Revenue           1171 non-null   int64         \n",
      " 21  Extensions Revenue           1171 non-null   float64       \n",
      " 22  Bounties Revenue             1171 non-null   int64         \n",
      " 23  Prime Subs                   1171 non-null   int64         \n",
      " 24  Total Paid Subs              1171 non-null   int64         \n",
      " 25  Tier 1 subs                  1171 non-null   int64         \n",
      " 26  Tier 2 subs                  1171 non-null   int64         \n",
      " 27  Tier 3 subs                  1171 non-null   int64         \n",
      " 28  Total Gifted Subs            1171 non-null   int64         \n",
      " 29  Gifted Tier 1 subs           1171 non-null   int64         \n",
      " 30  Gifted Tier 2 subs           1171 non-null   int64         \n",
      " 31  Gifted Tier 3 subs           1171 non-null   int64         \n",
      " 32  Total_Sub_Revenue            1171 non-null   float64       \n",
      " 33  new_date                     1171 non-null   datetime64[ns]\n",
      "dtypes: datetime64[ns](1), float64(9), int64(23), object(1)\n",
      "memory usage: 311.2+ KB\n"
     ]
    }
   ],
   "source": [
    "test_wrangle_df.info()"
   ]
  },
  {
   "cell_type": "code",
   "execution_count": 35,
   "metadata": {
    "colab": {},
    "colab_type": "code",
    "id": "BH6opsilhDE5"
   },
   "outputs": [],
   "source": []
  },
  {
   "cell_type": "code",
   "execution_count": 36,
   "metadata": {
    "colab": {
     "base_uri": "https://localhost:8080/",
     "height": 34
    },
    "colab_type": "code",
    "id": "0nzGBW03UabD",
    "outputId": "2b2020cf-dd3f-48c5-82b5-8fbeef0c56ff"
   },
   "outputs": [
    {
     "data": {
      "text/plain": [
       "(1171, 1)"
      ]
     },
     "execution_count": 36,
     "metadata": {
      "tags": []
     },
     "output_type": "execute_result"
    }
   ],
   "source": [
    "date_list = twitch_analy_df.iloc[:,0]\n",
    "month_of_year = []\n",
    "for row in date_list:\n",
    "  x_date = row.split()\n",
    "  day = x_date[1]\n",
    "  month_of_year.append(day)\n",
    "month_of_year_df=pd.DataFrame(month_of_year)\n",
    "month_of_year_df.shape\n"
   ]
  },
  {
   "cell_type": "code",
   "execution_count": 37,
   "metadata": {
    "colab": {
     "base_uri": "https://localhost:8080/",
     "height": 68
    },
    "colab_type": "code",
    "id": "bQqzX7mPVfaX",
    "outputId": "c58bdaea-bd97-4104-a8be-bf0ad146b7f0"
   },
   "outputs": [
    {
     "data": {
      "text/plain": [
       "Index(['Jul', 'Jun', 'Aug', 'Mar', 'Jan', 'Oct', 'Dec', 'May', 'Sep', 'Apr',\n",
       "       'Nov', 'Feb'],\n",
       "      dtype='object')"
      ]
     },
     "execution_count": 37,
     "metadata": {
      "tags": []
     },
     "output_type": "execute_result"
    }
   ],
   "source": [
    "month_of_year_df[0].value_counts().index"
   ]
  },
  {
   "cell_type": "code",
   "execution_count": 38,
   "metadata": {
    "colab": {
     "base_uri": "https://localhost:8080/",
     "height": 68
    },
    "colab_type": "code",
    "id": "jm9w7DKrQ8s4",
    "outputId": "8f77fdd3-f6a8-4300-eeee-ab1a3dbc6bf5"
   },
   "outputs": [
    {
     "data": {
      "text/plain": [
       "0   2020-04-20\n",
       "1   2020-04-01\n",
       "Name: Date, dtype: datetime64[ns]"
      ]
     },
     "execution_count": 38,
     "metadata": {
      "tags": []
     },
     "output_type": "execute_result"
    }
   ],
   "source": [
    "donations_df.Date.head(2)"
   ]
  },
  {
   "cell_type": "code",
   "execution_count": 39,
   "metadata": {
    "colab": {
     "base_uri": "https://localhost:8080/",
     "height": 68
    },
    "colab_type": "code",
    "id": "mCVEsW25RShf",
    "outputId": "ea86aee5-77fb-4b69-dbb8-fd6988c4aed2"
   },
   "outputs": [
    {
     "data": {
      "text/plain": [
       "0    Thu Jun 01 2017\n",
       "1    Fri Jun 02 2017\n",
       "Name: Date, dtype: object"
      ]
     },
     "execution_count": 39,
     "metadata": {
      "tags": []
     },
     "output_type": "execute_result"
    }
   ],
   "source": [
    "twitch_analy_df.Date.head(2)"
   ]
  },
  {
   "cell_type": "code",
   "execution_count": 40,
   "metadata": {
    "colab": {
     "base_uri": "https://localhost:8080/",
     "height": 34
    },
    "colab_type": "code",
    "id": "67NN7T1qULD0",
    "outputId": "5ff0cbd0-fcef-4101-c96f-4d0867f87fc0"
   },
   "outputs": [
    {
     "name": "stdout",
     "output_type": "stream",
     "text": [
      "2017-06-01 00:00:00\n"
     ]
    }
   ],
   "source": [
    "print(final_date)"
   ]
  },
  {
   "cell_type": "code",
   "execution_count": 40,
   "metadata": {
    "colab": {},
    "colab_type": "code",
    "id": "aig7qNscTqtJ"
   },
   "outputs": [],
   "source": []
  },
  {
   "cell_type": "code",
   "execution_count": 40,
   "metadata": {
    "colab": {},
    "colab_type": "code",
    "id": "_gjBocE0SmfP"
   },
   "outputs": [],
   "source": []
  },
  {
   "cell_type": "markdown",
   "metadata": {
    "colab_type": "text",
    "id": "z41vSxomzaoO"
   },
   "source": [
    "## function to create the day_of_week feature.  Put this in the wrangle function"
   ]
  },
  {
   "cell_type": "code",
   "execution_count": 41,
   "metadata": {
    "colab": {},
    "colab_type": "code",
    "id": "WH3oskq7s3c9"
   },
   "outputs": [],
   "source": [
    "def create_day_of_week_list(df):\n",
    "  date_list = twitch_analy_df.iloc[:,0]\n",
    "  day_of_week = []\n",
    "  for row in date_list:\n",
    "    x_date = row.split()\n",
    "    day = x_date[0]\n",
    "    day_of_week.append(day)\n",
    "  df[\"day_of_week\"] = day_of_week\n",
    "  temp_list = [\"day_of_week\"]\n",
    "  ohe = OneHotEncoder(cols=temp_list)\n",
    "  df = ohe.fit_transform(df)\n",
    "\n",
    "  return df\n"
   ]
  },
  {
   "cell_type": "code",
   "execution_count": 42,
   "metadata": {
    "colab": {},
    "colab_type": "code",
    "id": "dPtIbDkwxQqU"
   },
   "outputs": [],
   "source": [
    "twitch_analy_df= create_day_of_week_list(twitch_analy_df)"
   ]
  },
  {
   "cell_type": "code",
   "execution_count": 42,
   "metadata": {
    "colab": {},
    "colab_type": "code",
    "id": "VER5gXKS7RtX"
   },
   "outputs": [],
   "source": []
  },
  {
   "cell_type": "code",
   "execution_count": 43,
   "metadata": {
    "colab": {
     "base_uri": "https://localhost:8080/",
     "height": 301
    },
    "colab_type": "code",
    "id": "2J8uPHcvsKA1",
    "outputId": "b0b02e05-7094-4e9f-d712-6f245d1a531e"
   },
   "outputs": [
    {
     "data": {
      "text/html": [
       "<div>\n",
       "<style scoped>\n",
       "    .dataframe tbody tr th:only-of-type {\n",
       "        vertical-align: middle;\n",
       "    }\n",
       "\n",
       "    .dataframe tbody tr th {\n",
       "        vertical-align: top;\n",
       "    }\n",
       "\n",
       "    .dataframe thead th {\n",
       "        text-align: right;\n",
       "    }\n",
       "</style>\n",
       "<table border=\"1\" class=\"dataframe\">\n",
       "  <thead>\n",
       "    <tr style=\"text-align: right;\">\n",
       "      <th></th>\n",
       "      <th>Date</th>\n",
       "      <th>Ad Breaks (Minutes)</th>\n",
       "      <th>Ad Time (Seconds) Per Hour</th>\n",
       "      <th>Average Viewers</th>\n",
       "      <th>Chat Messages</th>\n",
       "      <th>Chatters</th>\n",
       "      <th>Clip Views</th>\n",
       "      <th>Clips Created</th>\n",
       "      <th>Follows</th>\n",
       "      <th>Hosts and Raids Viewers (%)</th>\n",
       "      <th>Live Views</th>\n",
       "      <th>Max Viewers</th>\n",
       "      <th>Minutes Watched</th>\n",
       "      <th>Minutes Streamed</th>\n",
       "      <th>Unique Viewers</th>\n",
       "      <th>Sub Revenue</th>\n",
       "      <th>Prime Revenue</th>\n",
       "      <th>Gifted Subs Revenue</th>\n",
       "      <th>Bits Revenue</th>\n",
       "      <th>Ad Revenue</th>\n",
       "      <th>Game Sales Revenue</th>\n",
       "      <th>Extensions Revenue</th>\n",
       "      <th>Bounties Revenue</th>\n",
       "      <th>Prime Subs</th>\n",
       "      <th>Total Paid Subs</th>\n",
       "      <th>Tier 1 subs</th>\n",
       "      <th>Tier 2 subs</th>\n",
       "      <th>Tier 3 subs</th>\n",
       "      <th>Total Gifted Subs</th>\n",
       "      <th>Gifted Tier 1 subs</th>\n",
       "      <th>Gifted Tier 2 subs</th>\n",
       "      <th>Gifted Tier 3 subs</th>\n",
       "      <th>Total_Sub_Revenue</th>\n",
       "      <th>new_date</th>\n",
       "      <th>day_of_week_1</th>\n",
       "      <th>day_of_week_2</th>\n",
       "      <th>day_of_week_3</th>\n",
       "      <th>day_of_week_4</th>\n",
       "      <th>day_of_week_5</th>\n",
       "      <th>day_of_week_6</th>\n",
       "      <th>day_of_week_7</th>\n",
       "    </tr>\n",
       "  </thead>\n",
       "  <tbody>\n",
       "    <tr>\n",
       "      <th>0</th>\n",
       "      <td>Thu Jun 01 2017</td>\n",
       "      <td>0</td>\n",
       "      <td>0</td>\n",
       "      <td>0.0</td>\n",
       "      <td>0</td>\n",
       "      <td>0</td>\n",
       "      <td>0</td>\n",
       "      <td>0</td>\n",
       "      <td>0</td>\n",
       "      <td>0.0</td>\n",
       "      <td>0</td>\n",
       "      <td>0</td>\n",
       "      <td>0</td>\n",
       "      <td>0</td>\n",
       "      <td>0</td>\n",
       "      <td>0.0</td>\n",
       "      <td>0.0</td>\n",
       "      <td>0.0</td>\n",
       "      <td>0.0</td>\n",
       "      <td>0.0</td>\n",
       "      <td>0</td>\n",
       "      <td>0.0</td>\n",
       "      <td>0</td>\n",
       "      <td>0</td>\n",
       "      <td>0</td>\n",
       "      <td>0</td>\n",
       "      <td>0</td>\n",
       "      <td>0</td>\n",
       "      <td>0</td>\n",
       "      <td>0</td>\n",
       "      <td>0</td>\n",
       "      <td>0</td>\n",
       "      <td>0.0</td>\n",
       "      <td>2017-06-01</td>\n",
       "      <td>1</td>\n",
       "      <td>0</td>\n",
       "      <td>0</td>\n",
       "      <td>0</td>\n",
       "      <td>0</td>\n",
       "      <td>0</td>\n",
       "      <td>0</td>\n",
       "    </tr>\n",
       "    <tr>\n",
       "      <th>1</th>\n",
       "      <td>Fri Jun 02 2017</td>\n",
       "      <td>0</td>\n",
       "      <td>0</td>\n",
       "      <td>0.0</td>\n",
       "      <td>0</td>\n",
       "      <td>0</td>\n",
       "      <td>0</td>\n",
       "      <td>0</td>\n",
       "      <td>0</td>\n",
       "      <td>0.0</td>\n",
       "      <td>0</td>\n",
       "      <td>0</td>\n",
       "      <td>0</td>\n",
       "      <td>0</td>\n",
       "      <td>0</td>\n",
       "      <td>0.0</td>\n",
       "      <td>0.0</td>\n",
       "      <td>0.0</td>\n",
       "      <td>0.0</td>\n",
       "      <td>0.0</td>\n",
       "      <td>0</td>\n",
       "      <td>0.0</td>\n",
       "      <td>0</td>\n",
       "      <td>0</td>\n",
       "      <td>0</td>\n",
       "      <td>0</td>\n",
       "      <td>0</td>\n",
       "      <td>0</td>\n",
       "      <td>0</td>\n",
       "      <td>0</td>\n",
       "      <td>0</td>\n",
       "      <td>0</td>\n",
       "      <td>0.0</td>\n",
       "      <td>2017-06-02</td>\n",
       "      <td>0</td>\n",
       "      <td>1</td>\n",
       "      <td>0</td>\n",
       "      <td>0</td>\n",
       "      <td>0</td>\n",
       "      <td>0</td>\n",
       "      <td>0</td>\n",
       "    </tr>\n",
       "  </tbody>\n",
       "</table>\n",
       "</div>"
      ],
      "text/plain": [
       "              Date  Ad Breaks (Minutes)  ...  day_of_week_6  day_of_week_7\n",
       "0  Thu Jun 01 2017                    0  ...              0              0\n",
       "1  Fri Jun 02 2017                    0  ...              0              0\n",
       "\n",
       "[2 rows x 41 columns]"
      ]
     },
     "execution_count": 43,
     "metadata": {
      "tags": []
     },
     "output_type": "execute_result"
    }
   ],
   "source": [
    "twitch_analy_df.head(2)"
   ]
  },
  {
   "cell_type": "code",
   "execution_count": 43,
   "metadata": {
    "colab": {},
    "colab_type": "code",
    "id": "KwZ0C_utR5Pi"
   },
   "outputs": [],
   "source": []
  },
  {
   "cell_type": "code",
   "execution_count": 43,
   "metadata": {
    "colab": {},
    "colab_type": "code",
    "id": "EFI39xunR4R6"
   },
   "outputs": [],
   "source": []
  },
  {
   "cell_type": "code",
   "execution_count": 44,
   "metadata": {
    "colab": {},
    "colab_type": "code",
    "id": "6zJ5Lu7B96TB"
   },
   "outputs": [],
   "source": [
    "# cond_did_stream = twitch_analy_df[\"Minutes Streamed\"] > 0\n",
    "# cond_did_stream"
   ]
  },
  {
   "cell_type": "code",
   "execution_count": 45,
   "metadata": {
    "colab": {},
    "colab_type": "code",
    "id": "fyM9RP5j-Iwg"
   },
   "outputs": [],
   "source": [
    "# twitch_ana_subset01_df = twitch_analy_df[cond_did_stream]\n",
    "# twitch_ana_subset01_df.shape"
   ]
  },
  {
   "cell_type": "code",
   "execution_count": 46,
   "metadata": {
    "colab": {
     "base_uri": "https://localhost:8080/",
     "height": 221
    },
    "colab_type": "code",
    "id": "aGOF_34NP60t",
    "outputId": "dec5e33d-f72c-4c29-9618-66dd438bca19"
   },
   "outputs": [
    {
     "data": {
      "text/plain": [
       "Index(['Date', 'Ad Breaks (Minutes)', 'Ad Time (Seconds) Per Hour',\n",
       "       'Average Viewers', 'Chat Messages', 'Chatters', 'Clip Views',\n",
       "       'Clips Created', 'Follows', 'Hosts and Raids Viewers (%)', 'Live Views',\n",
       "       'Max Viewers', 'Minutes Watched', 'Minutes Streamed', 'Unique Viewers',\n",
       "       'Sub Revenue', 'Prime Revenue', 'Gifted Subs Revenue', 'Bits Revenue',\n",
       "       'Ad Revenue', 'Game Sales Revenue', 'Extensions Revenue',\n",
       "       'Bounties Revenue', 'Prime Subs', 'Total Paid Subs', 'Tier 1 subs',\n",
       "       'Tier 2 subs', 'Tier 3 subs', 'Total Gifted Subs', 'Gifted Tier 1 subs',\n",
       "       'Gifted Tier 2 subs', 'Gifted Tier 3 subs', 'Total_Sub_Revenue',\n",
       "       'new_date', 'day_of_week_1', 'day_of_week_2', 'day_of_week_3',\n",
       "       'day_of_week_4', 'day_of_week_5', 'day_of_week_6', 'day_of_week_7'],\n",
       "      dtype='object')"
      ]
     },
     "execution_count": 46,
     "metadata": {
      "tags": []
     },
     "output_type": "execute_result"
    }
   ],
   "source": [
    "twitch_analy_df.columns"
   ]
  },
  {
   "cell_type": "code",
   "execution_count": 47,
   "metadata": {
    "colab": {},
    "colab_type": "code",
    "id": "vlYEsrQhrmAN"
   },
   "outputs": [],
   "source": [
    "short_list = ['Average Viewers', 'Chat Messages', 'Chatters', 'Clip Views',\n",
    "       'Clips Created', 'Follows', 'Hosts and Raids Viewers (%)', 'Live Views',\n",
    "       'Max Viewers', 'Minutes Watched', 'Minutes Streamed', 'Unique Viewers',\n",
    "        \"Total_Sub_Revenue\",'Bits Revenue', 'Ad Revenue', 'Extensions Revenue',\n",
    "       'Bounties Revenue', 'Prime Subs', 'Total Paid Subs', 'Tier 1 subs',\n",
    "       'Tier 2 subs', 'Tier 3 subs', 'Total Gifted Subs', 'Gifted Tier 1 subs',\n",
    "       'Gifted Tier 2 subs', 'Gifted Tier 3 subs', 'day_of_week_1',\n",
    "        'day_of_week_2', 'day_of_week_3', 'day_of_week_4',\n",
    "       'day_of_week_5', 'day_of_week_6', 'day_of_week_7']"
   ]
  },
  {
   "cell_type": "code",
   "execution_count": 48,
   "metadata": {
    "colab": {
     "base_uri": "https://localhost:8080/",
     "height": 34
    },
    "colab_type": "code",
    "id": "KyFnPC5grWT8",
    "outputId": "ea44eefb-463f-4d75-c3f1-9672b222f6be"
   },
   "outputs": [
    {
     "data": {
      "text/plain": [
       "(1171, 33)"
      ]
     },
     "execution_count": 48,
     "metadata": {
      "tags": []
     },
     "output_type": "execute_result"
    }
   ],
   "source": [
    "twitch_ana_subset01_df = twitch_analy_df[short_list]\n",
    "twitch_ana_subset01_df.shape"
   ]
  },
  {
   "cell_type": "code",
   "execution_count": 49,
   "metadata": {
    "colab": {
     "base_uri": "https://localhost:8080/",
     "height": 187
    },
    "colab_type": "code",
    "id": "KWOYiqMp0dN-",
    "outputId": "a295dbf7-029a-4271-888a-4e1460ace5ac"
   },
   "outputs": [
    {
     "data": {
      "text/plain": [
       "Index(['Average Viewers', 'Chat Messages', 'Chatters', 'Clip Views',\n",
       "       'Clips Created', 'Follows', 'Hosts and Raids Viewers (%)', 'Live Views',\n",
       "       'Max Viewers', 'Minutes Watched', 'Minutes Streamed', 'Unique Viewers',\n",
       "       'Total_Sub_Revenue', 'Bits Revenue', 'Ad Revenue', 'Extensions Revenue',\n",
       "       'Bounties Revenue', 'Prime Subs', 'Total Paid Subs', 'Tier 1 subs',\n",
       "       'Tier 2 subs', 'Tier 3 subs', 'Total Gifted Subs', 'Gifted Tier 1 subs',\n",
       "       'Gifted Tier 2 subs', 'Gifted Tier 3 subs', 'day_of_week_1',\n",
       "       'day_of_week_2', 'day_of_week_3', 'day_of_week_4', 'day_of_week_5',\n",
       "       'day_of_week_6', 'day_of_week_7'],\n",
       "      dtype='object')"
      ]
     },
     "execution_count": 49,
     "metadata": {
      "tags": []
     },
     "output_type": "execute_result"
    }
   ],
   "source": [
    "twitch_ana_subset01_df.columns"
   ]
  },
  {
   "cell_type": "code",
   "execution_count": 49,
   "metadata": {
    "colab": {},
    "colab_type": "code",
    "id": "RlUwM2mC0fG7"
   },
   "outputs": [],
   "source": []
  },
  {
   "cell_type": "code",
   "execution_count": 50,
   "metadata": {
    "colab": {},
    "colab_type": "code",
    "id": "EoXiB9YE1ejd"
   },
   "outputs": [],
   "source": [
    "corr_matrix = twitch_ana_subset01_df.corr()"
   ]
  },
  {
   "cell_type": "code",
   "execution_count": 51,
   "metadata": {
    "colab": {
     "base_uri": "https://localhost:8080/",
     "height": 595
    },
    "colab_type": "code",
    "id": "c_7znxy61s6S",
    "outputId": "c54c5aa3-0aaa-4730-d430-2ed3381ac285"
   },
   "outputs": [
    {
     "data": {
      "text/plain": [
       "Total_Sub_Revenue              1.000000\n",
       "Bits Revenue                   0.918278\n",
       "Gifted Tier 1 subs             0.605396\n",
       "Total Gifted Subs              0.605359\n",
       "Chatters                       0.284489\n",
       "Minutes Watched                0.280295\n",
       "Hosts and Raids Viewers (%)    0.261548\n",
       "Unique Viewers                 0.255082\n",
       "Live Views                     0.247871\n",
       "Chat Messages                  0.245808\n",
       "Total Paid Subs                0.230627\n",
       "Max Viewers                    0.228739\n",
       "Average Viewers                0.221550\n",
       "Clips Created                  0.218121\n",
       "Prime Subs                     0.213728\n",
       "Tier 1 subs                    0.212382\n",
       "Minutes Streamed               0.196380\n",
       "day_of_week_3                  0.169071\n",
       "day_of_week_2                  0.096968\n",
       "Tier 2 subs                    0.087933\n",
       "Extensions Revenue             0.065496\n",
       "Ad Revenue                     0.059688\n",
       "Gifted Tier 3 subs             0.058112\n",
       "Clip Views                     0.051551\n",
       "Tier 3 subs                    0.040670\n",
       "day_of_week_1                  0.027678\n",
       "Gifted Tier 2 subs             0.020170\n",
       "Follows                        0.019162\n",
       "Bounties Revenue               0.004150\n",
       "day_of_week_6                 -0.057385\n",
       "day_of_week_5                 -0.068099\n",
       "day_of_week_4                 -0.071527\n",
       "day_of_week_7                 -0.097017\n",
       "Name: Total_Sub_Revenue, dtype: float64"
      ]
     },
     "execution_count": 51,
     "metadata": {
      "tags": []
     },
     "output_type": "execute_result"
    }
   ],
   "source": [
    "corr_matrix[\"Total_Sub_Revenue\"].sort_values(ascending=False)"
   ]
  },
  {
   "cell_type": "code",
   "execution_count": 52,
   "metadata": {
    "colab": {
     "base_uri": "https://localhost:8080/",
     "height": 367
    },
    "colab_type": "code",
    "id": "5NnQE5Vr1Wvv",
    "outputId": "814d8c69-4ca5-44f3-c44b-0e1c9efbea0e"
   },
   "outputs": [
    {
     "data": {
      "text/plain": [
       "<matplotlib.axes._subplots.AxesSubplot at 0x7fbc664d7400>"
      ]
     },
     "execution_count": 52,
     "metadata": {
      "tags": []
     },
     "output_type": "execute_result"
    },
    {
     "data": {
      "image/png": "[encoded data removed]",
      "text/plain": [
       "<Figure size 576x396 with 1 Axes>"
      ]
     },
     "metadata": {
      "tags": []
     },
     "output_type": "display_data"
    }
   ],
   "source": [
    "corr_matrix[\"Total_Sub_Revenue\"].sort_values().plot.barh()"
   ]
  },
  {
   "cell_type": "code",
   "execution_count": 53,
   "metadata": {
    "colab": {
     "base_uri": "https://localhost:8080/",
     "height": 34
    },
    "colab_type": "code",
    "id": "xAjiuypd71qr",
    "outputId": "9281d63b-3df5-4974-9ed8-a46de14e6c12"
   },
   "outputs": [
    {
     "data": {
      "text/plain": [
       "7551.610000000001"
      ]
     },
     "execution_count": 53,
     "metadata": {
      "tags": []
     },
     "output_type": "execute_result"
    }
   ],
   "source": [
    "twitch_ana_subset01_df['Bits Revenue'].sum()"
   ]
  },
  {
   "cell_type": "code",
   "execution_count": 54,
   "metadata": {
    "colab": {
     "base_uri": "https://localhost:8080/",
     "height": 34
    },
    "colab_type": "code",
    "id": "FsJvfLkX_uOI",
    "outputId": "e391949a-f3a1-4ec9-8ed5-f20b2c4ca83e"
   },
   "outputs": [
    {
     "data": {
      "text/plain": [
       "16344.231000000002"
      ]
     },
     "execution_count": 54,
     "metadata": {
      "tags": []
     },
     "output_type": "execute_result"
    }
   ],
   "source": [
    "twitch_ana_subset01_df['Total_Sub_Revenue'].sum()"
   ]
  },
  {
   "cell_type": "code",
   "execution_count": 55,
   "metadata": {
    "colab": {
     "base_uri": "https://localhost:8080/",
     "height": 170
    },
    "colab_type": "code",
    "id": "X9VnZbplUzK0",
    "outputId": "e1664a74-4e0c-4f3d-e313-bc626e2b647e"
   },
   "outputs": [
    {
     "name": "stdout",
     "output_type": "stream",
     "text": [
      "<class 'pandas.core.frame.DataFrame'>\n",
      "RangeIndex: 176 entries, 0 to 175\n",
      "Data columns (total 2 columns):\n",
      " #   Column    Non-Null Count  Dtype         \n",
      "---  ------    --------------  -----         \n",
      " 0   Date      176 non-null    datetime64[ns]\n",
      " 1   Donation  176 non-null    float64       \n",
      "dtypes: datetime64[ns](1), float64(1)\n",
      "memory usage: 2.9 KB\n"
     ]
    }
   ],
   "source": [
    "donations_df.info()"
   ]
  },
  {
   "cell_type": "code",
   "execution_count": 56,
   "metadata": {
    "colab": {
     "base_uri": "https://localhost:8080/",
     "height": 204
    },
    "colab_type": "code",
    "id": "mXEF-HMAU1w3",
    "outputId": "93fe5fcb-5c5b-4daf-cf9d-bfbc0658425e"
   },
   "outputs": [
    {
     "data": {
      "text/html": [
       "<div>\n",
       "<style scoped>\n",
       "    .dataframe tbody tr th:only-of-type {\n",
       "        vertical-align: middle;\n",
       "    }\n",
       "\n",
       "    .dataframe tbody tr th {\n",
       "        vertical-align: top;\n",
       "    }\n",
       "\n",
       "    .dataframe thead th {\n",
       "        text-align: right;\n",
       "    }\n",
       "</style>\n",
       "<table border=\"1\" class=\"dataframe\">\n",
       "  <thead>\n",
       "    <tr style=\"text-align: right;\">\n",
       "      <th></th>\n",
       "      <th>Date</th>\n",
       "      <th>Donation</th>\n",
       "    </tr>\n",
       "  </thead>\n",
       "  <tbody>\n",
       "    <tr>\n",
       "      <th>0</th>\n",
       "      <td>2020-04-20</td>\n",
       "      <td>100.69</td>\n",
       "    </tr>\n",
       "    <tr>\n",
       "      <th>1</th>\n",
       "      <td>2020-04-01</td>\n",
       "      <td>100.00</td>\n",
       "    </tr>\n",
       "    <tr>\n",
       "      <th>2</th>\n",
       "      <td>2020-03-27</td>\n",
       "      <td>100.00</td>\n",
       "    </tr>\n",
       "    <tr>\n",
       "      <th>3</th>\n",
       "      <td>2020-02-29</td>\n",
       "      <td>10.00</td>\n",
       "    </tr>\n",
       "    <tr>\n",
       "      <th>4</th>\n",
       "      <td>2020-02-21</td>\n",
       "      <td>5.00</td>\n",
       "    </tr>\n",
       "  </tbody>\n",
       "</table>\n",
       "</div>"
      ],
      "text/plain": [
       "        Date  Donation\n",
       "0 2020-04-20    100.69\n",
       "1 2020-04-01    100.00\n",
       "2 2020-03-27    100.00\n",
       "3 2020-02-29     10.00\n",
       "4 2020-02-21      5.00"
      ]
     },
     "execution_count": 56,
     "metadata": {
      "tags": []
     },
     "output_type": "execute_result"
    }
   ],
   "source": [
    "donations_df.head()"
   ]
  },
  {
   "cell_type": "code",
   "execution_count": 57,
   "metadata": {
    "colab": {
     "base_uri": "https://localhost:8080/",
     "height": 119
    },
    "colab_type": "code",
    "id": "MFsR3hEgjFZe",
    "outputId": "a3d6756c-f17f-4038-8dff-92c764aa8dc2"
   },
   "outputs": [
    {
     "data": {
      "text/plain": [
       "0   2017-06-01\n",
       "1   2017-06-02\n",
       "2   2017-06-03\n",
       "3   2017-06-04\n",
       "4   2017-06-05\n",
       "Name: new_date, dtype: datetime64[ns]"
      ]
     },
     "execution_count": 57,
     "metadata": {
      "tags": []
     },
     "output_type": "execute_result"
    }
   ],
   "source": [
    "test_wrangle_df.new_date.head()"
   ]
  },
  {
   "cell_type": "code",
   "execution_count": 57,
   "metadata": {
    "colab": {},
    "colab_type": "code",
    "id": "32Af4uBTjZgu"
   },
   "outputs": [],
   "source": []
  },
  {
   "cell_type": "code",
   "execution_count": 57,
   "metadata": {
    "colab": {},
    "colab_type": "code",
    "id": "ZfMKVVIKjBXA"
   },
   "outputs": [],
   "source": []
  },
  {
   "cell_type": "code",
   "execution_count": 57,
   "metadata": {
    "colab": {},
    "colab_type": "code",
    "id": "xLCUgpOFU01I"
   },
   "outputs": [],
   "source": []
  },
  {
   "cell_type": "markdown",
   "metadata": {
    "colab_type": "text",
    "id": "0O95jV5jjIEx"
   },
   "source": []
  },
  {
   "cell_type": "markdown",
   "metadata": {
    "colab_type": "text",
    "id": "gkCNZqWkleJJ"
   },
   "source": [
    "### Additional data Request\n",
    "\n",
    "#### Time permitting I would like to source additional data.  The site:\n",
    " **sullygnome.com**\n",
    "#### collects data from twitch on **which actual games are being stream**.  I would like to **merge** some of this data with **feature engeering**.  \n",
    "\n",
    "####To that end, I will compose an **email request** for starkells data today.  "
   ]
  },
  {
   "cell_type": "code",
   "execution_count": 58,
   "metadata": {
    "colab": {
     "base_uri": "https://localhost:8080/",
     "height": 368
    },
    "colab_type": "code",
    "id": "PS3sbUGiizch",
    "outputId": "ed1c5baa-dd83-4db4-a487-e2392b6e1440"
   },
   "outputs": [
    {
     "data": {
      "text/html": [
       "<div>\n",
       "<style scoped>\n",
       "    .dataframe tbody tr th:only-of-type {\n",
       "        vertical-align: middle;\n",
       "    }\n",
       "\n",
       "    .dataframe tbody tr th {\n",
       "        vertical-align: top;\n",
       "    }\n",
       "\n",
       "    .dataframe thead th {\n",
       "        text-align: right;\n",
       "    }\n",
       "</style>\n",
       "<table border=\"1\" class=\"dataframe\">\n",
       "  <thead>\n",
       "    <tr style=\"text-align: right;\">\n",
       "      <th></th>\n",
       "      <th>Ad Breaks (Minutes)</th>\n",
       "      <th>Ad Time (Seconds) Per Hour</th>\n",
       "      <th>Average Viewers</th>\n",
       "      <th>Chat Messages</th>\n",
       "      <th>Chatters</th>\n",
       "      <th>Clip Views</th>\n",
       "      <th>Clips Created</th>\n",
       "      <th>Follows</th>\n",
       "      <th>Hosts and Raids Viewers (%)</th>\n",
       "      <th>Live Views</th>\n",
       "      <th>Max Viewers</th>\n",
       "      <th>Minutes Watched</th>\n",
       "      <th>Minutes Streamed</th>\n",
       "      <th>Unique Viewers</th>\n",
       "      <th>Sub Revenue</th>\n",
       "      <th>Prime Revenue</th>\n",
       "      <th>Gifted Subs Revenue</th>\n",
       "      <th>Bits Revenue</th>\n",
       "      <th>Ad Revenue</th>\n",
       "      <th>Game Sales Revenue</th>\n",
       "      <th>Extensions Revenue</th>\n",
       "      <th>Bounties Revenue</th>\n",
       "      <th>Prime Subs</th>\n",
       "      <th>Total Paid Subs</th>\n",
       "      <th>Tier 1 subs</th>\n",
       "      <th>Tier 2 subs</th>\n",
       "      <th>Tier 3 subs</th>\n",
       "      <th>Total Gifted Subs</th>\n",
       "      <th>Gifted Tier 1 subs</th>\n",
       "      <th>Gifted Tier 2 subs</th>\n",
       "      <th>Gifted Tier 3 subs</th>\n",
       "      <th>Total_Sub_Revenue</th>\n",
       "      <th>day_of_week_1</th>\n",
       "      <th>day_of_week_2</th>\n",
       "      <th>day_of_week_3</th>\n",
       "      <th>day_of_week_4</th>\n",
       "      <th>day_of_week_5</th>\n",
       "      <th>day_of_week_6</th>\n",
       "      <th>day_of_week_7</th>\n",
       "    </tr>\n",
       "  </thead>\n",
       "  <tbody>\n",
       "    <tr>\n",
       "      <th>count</th>\n",
       "      <td>1171.0</td>\n",
       "      <td>1171.0</td>\n",
       "      <td>1171.000000</td>\n",
       "      <td>1171.000000</td>\n",
       "      <td>1171.000000</td>\n",
       "      <td>1171.000000</td>\n",
       "      <td>1171.000000</td>\n",
       "      <td>1171.000000</td>\n",
       "      <td>1171.000000</td>\n",
       "      <td>1171.000000</td>\n",
       "      <td>1171.000000</td>\n",
       "      <td>1171.000000</td>\n",
       "      <td>1171.000000</td>\n",
       "      <td>1171.000000</td>\n",
       "      <td>1171.000000</td>\n",
       "      <td>1171.000000</td>\n",
       "      <td>1171.000000</td>\n",
       "      <td>1171.000000</td>\n",
       "      <td>1171.000000</td>\n",
       "      <td>1171.0</td>\n",
       "      <td>1171.000000</td>\n",
       "      <td>1171.000000</td>\n",
       "      <td>1171.000000</td>\n",
       "      <td>1171.000000</td>\n",
       "      <td>1171.000000</td>\n",
       "      <td>1171.000000</td>\n",
       "      <td>1171.000000</td>\n",
       "      <td>1171.000000</td>\n",
       "      <td>1171.000000</td>\n",
       "      <td>1171.000000</td>\n",
       "      <td>1171.000000</td>\n",
       "      <td>1171.000000</td>\n",
       "      <td>1171.000000</td>\n",
       "      <td>1171.000000</td>\n",
       "      <td>1171.000000</td>\n",
       "      <td>1171.000000</td>\n",
       "      <td>1171.000000</td>\n",
       "      <td>1171.000000</td>\n",
       "      <td>1171.000000</td>\n",
       "    </tr>\n",
       "    <tr>\n",
       "      <th>mean</th>\n",
       "      <td>0.0</td>\n",
       "      <td>0.0</td>\n",
       "      <td>21.617276</td>\n",
       "      <td>1151.332195</td>\n",
       "      <td>32.520922</td>\n",
       "      <td>9.452605</td>\n",
       "      <td>1.600342</td>\n",
       "      <td>6.058070</td>\n",
       "      <td>5.183723</td>\n",
       "      <td>169.387703</td>\n",
       "      <td>38.640478</td>\n",
       "      <td>4812.817250</td>\n",
       "      <td>168.687447</td>\n",
       "      <td>111.516652</td>\n",
       "      <td>2.173386</td>\n",
       "      <td>0.560363</td>\n",
       "      <td>4.760636</td>\n",
       "      <td>6.448856</td>\n",
       "      <td>0.010808</td>\n",
       "      <td>0.0</td>\n",
       "      <td>0.003450</td>\n",
       "      <td>0.036721</td>\n",
       "      <td>0.224594</td>\n",
       "      <td>0.841161</td>\n",
       "      <td>0.751494</td>\n",
       "      <td>0.086251</td>\n",
       "      <td>0.003416</td>\n",
       "      <td>2.005978</td>\n",
       "      <td>1.997438</td>\n",
       "      <td>0.005978</td>\n",
       "      <td>0.002562</td>\n",
       "      <td>13.957499</td>\n",
       "      <td>0.143467</td>\n",
       "      <td>0.143467</td>\n",
       "      <td>0.142613</td>\n",
       "      <td>0.142613</td>\n",
       "      <td>0.142613</td>\n",
       "      <td>0.142613</td>\n",
       "      <td>0.142613</td>\n",
       "    </tr>\n",
       "    <tr>\n",
       "      <th>std</th>\n",
       "      <td>0.0</td>\n",
       "      <td>0.0</td>\n",
       "      <td>30.188681</td>\n",
       "      <td>1197.929623</td>\n",
       "      <td>26.555541</td>\n",
       "      <td>27.733810</td>\n",
       "      <td>2.413806</td>\n",
       "      <td>15.492652</td>\n",
       "      <td>7.412363</td>\n",
       "      <td>184.691959</td>\n",
       "      <td>57.142345</td>\n",
       "      <td>5797.838972</td>\n",
       "      <td>146.385429</td>\n",
       "      <td>122.997020</td>\n",
       "      <td>2.783492</td>\n",
       "      <td>1.304687</td>\n",
       "      <td>14.385364</td>\n",
       "      <td>30.591884</td>\n",
       "      <td>0.042316</td>\n",
       "      <td>0.0</td>\n",
       "      <td>0.084265</td>\n",
       "      <td>1.256580</td>\n",
       "      <td>0.522921</td>\n",
       "      <td>1.010397</td>\n",
       "      <td>0.956617</td>\n",
       "      <td>0.312542</td>\n",
       "      <td>0.058371</td>\n",
       "      <td>6.033876</td>\n",
       "      <td>6.026082</td>\n",
       "      <td>0.077118</td>\n",
       "      <td>0.050572</td>\n",
       "      <td>37.722930</td>\n",
       "      <td>0.350698</td>\n",
       "      <td>0.350698</td>\n",
       "      <td>0.349827</td>\n",
       "      <td>0.349827</td>\n",
       "      <td>0.349827</td>\n",
       "      <td>0.349827</td>\n",
       "      <td>0.349827</td>\n",
       "    </tr>\n",
       "    <tr>\n",
       "      <th>min</th>\n",
       "      <td>0.0</td>\n",
       "      <td>0.0</td>\n",
       "      <td>0.000000</td>\n",
       "      <td>0.000000</td>\n",
       "      <td>0.000000</td>\n",
       "      <td>0.000000</td>\n",
       "      <td>0.000000</td>\n",
       "      <td>0.000000</td>\n",
       "      <td>0.000000</td>\n",
       "      <td>0.000000</td>\n",
       "      <td>0.000000</td>\n",
       "      <td>0.000000</td>\n",
       "      <td>0.000000</td>\n",
       "      <td>0.000000</td>\n",
       "      <td>0.000000</td>\n",
       "      <td>0.000000</td>\n",
       "      <td>0.000000</td>\n",
       "      <td>0.000000</td>\n",
       "      <td>0.000000</td>\n",
       "      <td>0.0</td>\n",
       "      <td>0.000000</td>\n",
       "      <td>0.000000</td>\n",
       "      <td>0.000000</td>\n",
       "      <td>-1.000000</td>\n",
       "      <td>-1.000000</td>\n",
       "      <td>0.000000</td>\n",
       "      <td>0.000000</td>\n",
       "      <td>0.000000</td>\n",
       "      <td>0.000000</td>\n",
       "      <td>0.000000</td>\n",
       "      <td>0.000000</td>\n",
       "      <td>0.000000</td>\n",
       "      <td>0.000000</td>\n",
       "      <td>0.000000</td>\n",
       "      <td>0.000000</td>\n",
       "      <td>0.000000</td>\n",
       "      <td>0.000000</td>\n",
       "      <td>0.000000</td>\n",
       "      <td>0.000000</td>\n",
       "    </tr>\n",
       "    <tr>\n",
       "      <th>25%</th>\n",
       "      <td>0.0</td>\n",
       "      <td>0.0</td>\n",
       "      <td>0.000000</td>\n",
       "      <td>21.500000</td>\n",
       "      <td>2.000000</td>\n",
       "      <td>0.000000</td>\n",
       "      <td>0.000000</td>\n",
       "      <td>0.000000</td>\n",
       "      <td>0.000000</td>\n",
       "      <td>0.000000</td>\n",
       "      <td>0.000000</td>\n",
       "      <td>0.000000</td>\n",
       "      <td>0.000000</td>\n",
       "      <td>0.000000</td>\n",
       "      <td>0.000000</td>\n",
       "      <td>0.000000</td>\n",
       "      <td>0.000000</td>\n",
       "      <td>0.000000</td>\n",
       "      <td>0.000000</td>\n",
       "      <td>0.0</td>\n",
       "      <td>0.000000</td>\n",
       "      <td>0.000000</td>\n",
       "      <td>0.000000</td>\n",
       "      <td>0.000000</td>\n",
       "      <td>0.000000</td>\n",
       "      <td>0.000000</td>\n",
       "      <td>0.000000</td>\n",
       "      <td>0.000000</td>\n",
       "      <td>0.000000</td>\n",
       "      <td>0.000000</td>\n",
       "      <td>0.000000</td>\n",
       "      <td>0.030750</td>\n",
       "      <td>0.000000</td>\n",
       "      <td>0.000000</td>\n",
       "      <td>0.000000</td>\n",
       "      <td>0.000000</td>\n",
       "      <td>0.000000</td>\n",
       "      <td>0.000000</td>\n",
       "      <td>0.000000</td>\n",
       "    </tr>\n",
       "    <tr>\n",
       "      <th>50%</th>\n",
       "      <td>0.0</td>\n",
       "      <td>0.0</td>\n",
       "      <td>23.070000</td>\n",
       "      <td>852.000000</td>\n",
       "      <td>33.000000</td>\n",
       "      <td>4.000000</td>\n",
       "      <td>1.000000</td>\n",
       "      <td>2.000000</td>\n",
       "      <td>2.510000</td>\n",
       "      <td>154.000000</td>\n",
       "      <td>34.000000</td>\n",
       "      <td>4058.000000</td>\n",
       "      <td>178.000000</td>\n",
       "      <td>100.000000</td>\n",
       "      <td>2.035000</td>\n",
       "      <td>0.000000</td>\n",
       "      <td>0.000000</td>\n",
       "      <td>0.000000</td>\n",
       "      <td>0.000000</td>\n",
       "      <td>0.0</td>\n",
       "      <td>0.000000</td>\n",
       "      <td>0.000000</td>\n",
       "      <td>0.000000</td>\n",
       "      <td>1.000000</td>\n",
       "      <td>0.000000</td>\n",
       "      <td>0.000000</td>\n",
       "      <td>0.000000</td>\n",
       "      <td>0.000000</td>\n",
       "      <td>0.000000</td>\n",
       "      <td>0.000000</td>\n",
       "      <td>0.000000</td>\n",
       "      <td>3.545500</td>\n",
       "      <td>0.000000</td>\n",
       "      <td>0.000000</td>\n",
       "      <td>0.000000</td>\n",
       "      <td>0.000000</td>\n",
       "      <td>0.000000</td>\n",
       "      <td>0.000000</td>\n",
       "      <td>0.000000</td>\n",
       "    </tr>\n",
       "    <tr>\n",
       "      <th>75%</th>\n",
       "      <td>0.0</td>\n",
       "      <td>0.0</td>\n",
       "      <td>29.745000</td>\n",
       "      <td>1910.500000</td>\n",
       "      <td>53.000000</td>\n",
       "      <td>11.000000</td>\n",
       "      <td>2.000000</td>\n",
       "      <td>6.000000</td>\n",
       "      <td>7.705000</td>\n",
       "      <td>267.000000</td>\n",
       "      <td>48.000000</td>\n",
       "      <td>7088.500000</td>\n",
       "      <td>285.500000</td>\n",
       "      <td>170.000000</td>\n",
       "      <td>4.497500</td>\n",
       "      <td>0.000000</td>\n",
       "      <td>2.320000</td>\n",
       "      <td>1.520000</td>\n",
       "      <td>0.000000</td>\n",
       "      <td>0.0</td>\n",
       "      <td>0.000000</td>\n",
       "      <td>0.000000</td>\n",
       "      <td>0.000000</td>\n",
       "      <td>1.000000</td>\n",
       "      <td>1.000000</td>\n",
       "      <td>0.000000</td>\n",
       "      <td>0.000000</td>\n",
       "      <td>1.000000</td>\n",
       "      <td>1.000000</td>\n",
       "      <td>0.000000</td>\n",
       "      <td>0.000000</td>\n",
       "      <td>12.127500</td>\n",
       "      <td>0.000000</td>\n",
       "      <td>0.000000</td>\n",
       "      <td>0.000000</td>\n",
       "      <td>0.000000</td>\n",
       "      <td>0.000000</td>\n",
       "      <td>0.000000</td>\n",
       "      <td>0.000000</td>\n",
       "    </tr>\n",
       "    <tr>\n",
       "      <th>max</th>\n",
       "      <td>0.0</td>\n",
       "      <td>0.0</td>\n",
       "      <td>603.940000</td>\n",
       "      <td>7537.000000</td>\n",
       "      <td>141.000000</td>\n",
       "      <td>743.000000</td>\n",
       "      <td>18.000000</td>\n",
       "      <td>358.000000</td>\n",
       "      <td>67.240000</td>\n",
       "      <td>1953.000000</td>\n",
       "      <td>875.000000</td>\n",
       "      <td>66715.000000</td>\n",
       "      <td>1197.000000</td>\n",
       "      <td>1448.000000</td>\n",
       "      <td>16.795000</td>\n",
       "      <td>12.475000</td>\n",
       "      <td>239.390000</td>\n",
       "      <td>576.710000</td>\n",
       "      <td>0.581000</td>\n",
       "      <td>0.0</td>\n",
       "      <td>2.400000</td>\n",
       "      <td>43.000000</td>\n",
       "      <td>5.000000</td>\n",
       "      <td>5.000000</td>\n",
       "      <td>5.000000</td>\n",
       "      <td>2.000000</td>\n",
       "      <td>1.000000</td>\n",
       "      <td>101.000000</td>\n",
       "      <td>101.000000</td>\n",
       "      <td>1.000000</td>\n",
       "      <td>1.000000</td>\n",
       "      <td>588.365000</td>\n",
       "      <td>1.000000</td>\n",
       "      <td>1.000000</td>\n",
       "      <td>1.000000</td>\n",
       "      <td>1.000000</td>\n",
       "      <td>1.000000</td>\n",
       "      <td>1.000000</td>\n",
       "      <td>1.000000</td>\n",
       "    </tr>\n",
       "  </tbody>\n",
       "</table>\n",
       "</div>"
      ],
      "text/plain": [
       "       Ad Breaks (Minutes)  ...  day_of_week_7\n",
       "count               1171.0  ...    1171.000000\n",
       "mean                   0.0  ...       0.142613\n",
       "std                    0.0  ...       0.349827\n",
       "min                    0.0  ...       0.000000\n",
       "25%                    0.0  ...       0.000000\n",
       "50%                    0.0  ...       0.000000\n",
       "75%                    0.0  ...       0.000000\n",
       "max                    0.0  ...       1.000000\n",
       "\n",
       "[8 rows x 39 columns]"
      ]
     },
     "execution_count": 58,
     "metadata": {
      "tags": []
     },
     "output_type": "execute_result"
    }
   ],
   "source": [
    "twitch_analy_df.describe()"
   ]
  },
  {
   "cell_type": "code",
   "execution_count": 59,
   "metadata": {
    "colab": {
     "base_uri": "https://localhost:8080/",
     "height": 401
    },
    "colab_type": "code",
    "id": "D3VgkLMrKZd2",
    "outputId": "3651b667-898e-4a78-ef26-ca932f4361bb"
   },
   "outputs": [
    {
     "name": "stdout",
     "output_type": "stream",
     "text": [
      "mean = 5.18372331340735\n",
      "median = 2.51\n",
      "mode = 0.0\n"
     ]
    },
    {
     "data": {
      "image/png": "[encoded data removed]",
      "text/plain": [
       "<Figure size 576x396 with 1 Axes>"
      ]
     },
     "metadata": {
      "tags": []
     },
     "output_type": "display_data"
    }
   ],
   "source": [
    "twitch_analy_df['Hosts and Raids Viewers (%)'].plot.density();\n",
    "\n",
    "\n",
    "print(\"mean = \" + str(np.mean(twitch_analy_df['Hosts and Raids Viewers (%)'])))\n",
    "print(\"median = \" + str(np.median(twitch_analy_df['Hosts and Raids Viewers (%)'])))\n",
    "print(\"mode = \" + str(twitch_analy_df['Hosts and Raids Viewers (%)'].mode().iloc[0]))\n"
   ]
  },
  {
   "cell_type": "code",
   "execution_count": 60,
   "metadata": {
    "colab": {
     "base_uri": "https://localhost:8080/",
     "height": 221
    },
    "colab_type": "code",
    "id": "DPkLj-Z6KAW8",
    "outputId": "1508ba60-b519-4929-87d8-df6f371ddf5a"
   },
   "outputs": [
    {
     "data": {
      "text/plain": [
       "0.00     397\n",
       "0.02       8\n",
       "0.07       5\n",
       "0.15       4\n",
       "0.03       4\n",
       "        ... \n",
       "17.21      1\n",
       "22.47      1\n",
       "21.70      1\n",
       "4.16       1\n",
       "4.80       1\n",
       "Name: Hosts and Raids Viewers (%), Length: 622, dtype: int64"
      ]
     },
     "execution_count": 60,
     "metadata": {
      "tags": []
     },
     "output_type": "execute_result"
    }
   ],
   "source": [
    "twitch_analy_df['Hosts and Raids Viewers (%)'].value_counts()"
   ]
  },
  {
   "cell_type": "code",
   "execution_count": 60,
   "metadata": {
    "colab": {},
    "colab_type": "code",
    "id": "JWqYRB1jKMCs"
   },
   "outputs": [],
   "source": []
  },
  {
   "cell_type": "code",
   "execution_count": 61,
   "metadata": {
    "colab": {
     "base_uri": "https://localhost:8080/",
     "height": 170
    },
    "colab_type": "code",
    "id": "svKm5bwcSRMe",
    "outputId": "9536a9bf-6caf-41e6-a98c-a2ae9632fe7d"
   },
   "outputs": [
    {
     "data": {
      "text/plain": [
       "count    1171.000000\n",
       "mean        5.183723\n",
       "std         7.412363\n",
       "min         0.000000\n",
       "25%         0.000000\n",
       "50%         2.510000\n",
       "75%         7.705000\n",
       "max        67.240000\n",
       "Name: Hosts and Raids Viewers (%), dtype: float64"
      ]
     },
     "execution_count": 61,
     "metadata": {
      "tags": []
     },
     "output_type": "execute_result"
    }
   ],
   "source": [
    "twitch_analy_df['Hosts and Raids Viewers (%)'].describe()"
   ]
  },
  {
   "cell_type": "code",
   "execution_count": 62,
   "metadata": {
    "colab": {
     "base_uri": "https://localhost:8080/",
     "height": 367
    },
    "colab_type": "code",
    "id": "pxCgGnObSTUO",
    "outputId": "9f6f2e20-a6b8-4315-9483-880fac1f3d5a"
   },
   "outputs": [
    {
     "data": {
      "text/plain": [
       "<matplotlib.axes._subplots.AxesSubplot at 0x7fbc651544e0>"
      ]
     },
     "execution_count": 62,
     "metadata": {
      "tags": []
     },
     "output_type": "execute_result"
    },
    {
     "data": {
      "image/png": "[encoded data removed]",
      "text/plain": [
       "<Figure size 576x396 with 1 Axes>"
      ]
     },
     "metadata": {
      "tags": []
     },
     "output_type": "display_data"
    }
   ],
   "source": [
    "twitch_analy_df['Hosts and Raids Viewers (%)'].value_counts().hist(bins=10)"
   ]
  },
  {
   "cell_type": "code",
   "execution_count": 62,
   "metadata": {
    "colab": {},
    "colab_type": "code",
    "id": "jdvpQkgjKERU"
   },
   "outputs": [],
   "source": []
  },
  {
   "cell_type": "code",
   "execution_count": 63,
   "metadata": {
    "colab": {
     "base_uri": "https://localhost:8080/",
     "height": 34
    },
    "colab_type": "code",
    "id": "cuvvWbe_Q3Vq",
    "outputId": "e18f02f6-6121-4e13-84ab-331c0f2f3c3e"
   },
   "outputs": [
    {
     "data": {
      "text/plain": [
       "(176, 2)"
      ]
     },
     "execution_count": 63,
     "metadata": {
      "tags": []
     },
     "output_type": "execute_result"
    }
   ],
   "source": [
    "donations_df.shape"
   ]
  },
  {
   "cell_type": "code",
   "execution_count": 64,
   "metadata": {
    "colab": {
     "base_uri": "https://localhost:8080/",
     "height": 153
    },
    "colab_type": "code",
    "id": "4OPLX4Q36iSD",
    "outputId": "a0d313a8-9433-47f4-f0e5-10a37da2a4cb"
   },
   "outputs": [
    {
     "data": {
      "text/plain": [
       "DatetimeIndex(['2018-05-05', '2018-11-13', '2019-11-16', '2018-04-05',\n",
       "               '2018-11-15', '2018-12-15', '2017-12-23', '2018-08-18',\n",
       "               '2019-02-26', '2018-08-17',\n",
       "               ...\n",
       "               '2019-01-17', '2018-06-14', '2019-09-05', '2019-11-22',\n",
       "               '2018-06-01', '2020-04-01', '2018-06-09', '2018-01-17',\n",
       "               '2018-06-22', '2020-01-23'],\n",
       "              dtype='datetime64[ns]', length=116, freq=None)"
      ]
     },
     "execution_count": 64,
     "metadata": {
      "tags": []
     },
     "output_type": "execute_result"
    }
   ],
   "source": [
    "donation_dates = donations_df.Date.value_counts().index\n",
    "donation_dates"
   ]
  },
  {
   "cell_type": "code",
   "execution_count": 65,
   "metadata": {
    "colab": {
     "base_uri": "https://localhost:8080/",
     "height": 34
    },
    "colab_type": "code",
    "id": "WYv50reD5gYn",
    "outputId": "c74e9ffc-be4e-4dfc-9cea-2be436a89d84"
   },
   "outputs": [
    {
     "data": {
      "text/plain": [
       "Timestamp('2020-04-20 00:00:00')"
      ]
     },
     "execution_count": 65,
     "metadata": {
      "tags": []
     },
     "output_type": "execute_result"
    }
   ],
   "source": [
    "donations_df.Date.iloc[0]"
   ]
  },
  {
   "cell_type": "code",
   "execution_count": 66,
   "metadata": {
    "colab": {
     "base_uri": "https://localhost:8080/",
     "height": 359
    },
    "colab_type": "code",
    "id": "XTo1YF6n4MoF",
    "outputId": "ed614d99-bcc3-4534-aa81-98d61b4f9fa6"
   },
   "outputs": [
    {
     "data": {
      "text/html": [
       "<div>\n",
       "<style scoped>\n",
       "    .dataframe tbody tr th:only-of-type {\n",
       "        vertical-align: middle;\n",
       "    }\n",
       "\n",
       "    .dataframe tbody tr th {\n",
       "        vertical-align: top;\n",
       "    }\n",
       "\n",
       "    .dataframe thead th {\n",
       "        text-align: right;\n",
       "    }\n",
       "</style>\n",
       "<table border=\"1\" class=\"dataframe\">\n",
       "  <thead>\n",
       "    <tr style=\"text-align: right;\">\n",
       "      <th></th>\n",
       "      <th>Date</th>\n",
       "      <th>Donation</th>\n",
       "    </tr>\n",
       "  </thead>\n",
       "  <tbody>\n",
       "    <tr>\n",
       "      <th>134</th>\n",
       "      <td>2018-05-05</td>\n",
       "      <td>5.0</td>\n",
       "    </tr>\n",
       "    <tr>\n",
       "      <th>135</th>\n",
       "      <td>2018-05-05</td>\n",
       "      <td>5.0</td>\n",
       "    </tr>\n",
       "    <tr>\n",
       "      <th>136</th>\n",
       "      <td>2018-05-05</td>\n",
       "      <td>5.0</td>\n",
       "    </tr>\n",
       "    <tr>\n",
       "      <th>137</th>\n",
       "      <td>2018-05-05</td>\n",
       "      <td>100.0</td>\n",
       "    </tr>\n",
       "    <tr>\n",
       "      <th>138</th>\n",
       "      <td>2018-05-05</td>\n",
       "      <td>5.0</td>\n",
       "    </tr>\n",
       "    <tr>\n",
       "      <th>139</th>\n",
       "      <td>2018-05-05</td>\n",
       "      <td>5.0</td>\n",
       "    </tr>\n",
       "    <tr>\n",
       "      <th>140</th>\n",
       "      <td>2018-05-05</td>\n",
       "      <td>5.0</td>\n",
       "    </tr>\n",
       "    <tr>\n",
       "      <th>141</th>\n",
       "      <td>2018-05-05</td>\n",
       "      <td>5.0</td>\n",
       "    </tr>\n",
       "    <tr>\n",
       "      <th>142</th>\n",
       "      <td>2018-05-05</td>\n",
       "      <td>5.0</td>\n",
       "    </tr>\n",
       "    <tr>\n",
       "      <th>143</th>\n",
       "      <td>2018-05-05</td>\n",
       "      <td>5.0</td>\n",
       "    </tr>\n",
       "  </tbody>\n",
       "</table>\n",
       "</div>"
      ],
      "text/plain": [
       "          Date  Donation\n",
       "134 2018-05-05       5.0\n",
       "135 2018-05-05       5.0\n",
       "136 2018-05-05       5.0\n",
       "137 2018-05-05     100.0\n",
       "138 2018-05-05       5.0\n",
       "139 2018-05-05       5.0\n",
       "140 2018-05-05       5.0\n",
       "141 2018-05-05       5.0\n",
       "142 2018-05-05       5.0\n",
       "143 2018-05-05       5.0"
      ]
     },
     "execution_count": 66,
     "metadata": {
      "tags": []
     },
     "output_type": "execute_result"
    }
   ],
   "source": [
    "condition_date = (donations_df[\"Date\"] == '2018-05-05')\n",
    "donations_df[condition_date]"
   ]
  },
  {
   "cell_type": "code",
   "execution_count": 67,
   "metadata": {
    "colab": {
     "base_uri": "https://localhost:8080/",
     "height": 34
    },
    "colab_type": "code",
    "id": "mVuiW01TQ1PD",
    "outputId": "c54c9636-43b7-48b2-863f-bf7b239a917e"
   },
   "outputs": [
    {
     "data": {
      "text/plain": [
       "145.0"
      ]
     },
     "execution_count": 67,
     "metadata": {
      "tags": []
     },
     "output_type": "execute_result"
    }
   ],
   "source": [
    "donations_df[condition_date].Donation.sum()"
   ]
  },
  {
   "cell_type": "code",
   "execution_count": 67,
   "metadata": {
    "colab": {},
    "colab_type": "code",
    "id": "t4kITH8MuHgD"
   },
   "outputs": [],
   "source": []
  },
  {
   "cell_type": "markdown",
   "metadata": {
    "colab_type": "text",
    "id": "3NJSYHpfapIE"
   },
   "source": [
    "## Create the Streak feature - consecutive days streamed.  "
   ]
  },
  {
   "cell_type": "code",
   "execution_count": 78,
   "metadata": {
    "colab": {},
    "colab_type": "code",
    "id": "VCHmvfbdZkMT"
   },
   "outputs": [],
   "source": [
    "#create a streak feature.  how many consecutive days streamed\n",
    "def create_streak_feature(df):\n",
    "\n",
    "  streak_df = pd.DataFrame({\"streak\": [0 for x in range(0,1171)] })\n",
    "  df[\"streak\"] = streak_df[\"streak\"]\n",
    "\n",
    "  streak_list = []\n",
    "  curr_streak = 0\n",
    "  for x in range(0,1171):\n",
    " \n",
    "    if df.iloc[x, 10]> 0:\n",
    "      curr_streak = curr_streak +1\n",
    "      streak_list.append(curr_streak)\n",
    "    \n",
    "    elif df.iloc[x, 10]== 0:\n",
    "      curr_streak = 0\n",
    "      streak_list.append(curr_streak)\n",
    "\n",
    "  df[\"streak\"] = streak_list\n",
    "  \n",
    "  return df\n",
    "  "
   ]
  },
  {
   "cell_type": "code",
   "execution_count": 69,
   "metadata": {
    "colab": {},
    "colab_type": "code",
    "id": "RfoQHDvz7wD3"
   },
   "outputs": [],
   "source": [
    "#create new df\n",
    "# new_donations_df = (pd.DataFrame({\"Date\" : donation_dates,\n",
    "#                                  \"donations\": [0 for x in donation_dates]}))\\\n",
    "#                                  .set_index(\"Date\")\n",
    "# for x in donation_dates:\n",
    "\n",
    "#   cond_date = donations_df[\"Date\"] == x\n",
    "#   new_donations_df.loc[x, \"donations\" ]= donations_df[cond_date].Donation.sum()\n",
    "#   print(new_donations_df.loc[x, \"donations\"])\n"
   ]
  },
  {
   "cell_type": "markdown",
   "metadata": {
    "colab_type": "text",
    "id": "9NTK2wKD0LL9"
   },
   "source": [
    "### This is the mini wrangle for the Donations DataFrame from streamlabs \n",
    "\n",
    "#### I am summing up all the donations for a given date. "
   ]
  },
  {
   "cell_type": "code",
   "execution_count": 70,
   "metadata": {
    "colab": {},
    "colab_type": "code",
    "id": "0moQ9bzMyGsw"
   },
   "outputs": [],
   "source": [
    "def donation_mini_wrangle(df):\n",
    "  #create a condition the gets all the dates of donations\n",
    "  donation_dates = df.Date.value_counts().index\n",
    "\n",
    "  # create a dataframe that has the dates index, and 0 as donation values\n",
    "  new_donations_df = (pd.DataFrame({\"Date\" : donation_dates,\n",
    "                                 \"donations\": [0 for x in donation_dates]}))\\\n",
    "                                 .set_index(\"Date\")\n",
    "\n",
    "  # fill in the values with the sum of donations for that date\n",
    "  for x in donation_dates:\n",
    "    cond_date = donations_df[\"Date\"] == x\n",
    "    new_donations_df.loc[x, \"donations\" ]= df[cond_date].Donation.sum()\n",
    "  \n",
    "\n",
    "  return new_donations_df"
   ]
  },
  {
   "cell_type": "code",
   "execution_count": 70,
   "metadata": {
    "colab": {},
    "colab_type": "code",
    "id": "7zqfB9qguyfk"
   },
   "outputs": [],
   "source": [
    "# new_donations_df = donation_mini_wrangle(donations_df)"
   ]
  },
  {
   "cell_type": "code",
   "execution_count": 71,
   "metadata": {
    "colab": {},
    "colab_type": "code",
    "id": "U6vccv_Su0__"
   },
   "outputs": [],
   "source": [
    "# new_donations_df.head()"
   ]
  },
  {
   "cell_type": "code",
   "execution_count": 72,
   "metadata": {
    "colab": {},
    "colab_type": "code",
    "id": "EKfxDVGHu2Kd"
   },
   "outputs": [],
   "source": [
    "# new_donations_df[\"donations\"].value_counts()"
   ]
  },
  {
   "cell_type": "markdown",
   "metadata": {
    "colab_type": "text",
    "id": "qKLT_h0sotdo"
   },
   "source": [
    "##** TODO:** \n",
    "\n",
    "#### Drop: \n",
    "*  'Ad Breaks (Minutes)', 'Ad Time (Seconds) Per Hour', 'Game Sales Revenue'\n",
    "\n",
    "#### parse the Date feature for twitch main df\n",
    "*   stretch - check current events or game release dates\n",
    "\n",
    "\n",
    "\n",
    "#### add a total revenue feature \n",
    "*   just combine all the revenue features - this is more for explanatory - not for the model. \n",
    "\n",
    "### From collapse Donations df \n",
    "* get the sum of donation for a single day in one row. \n",
    "\n",
    "#### Merge donations df into twitch main by Date\n",
    "\n",
    "\n",
    "#### Engineer\n",
    "* add total sub revenue column\n",
    "* create total revenue column - maybe\n",
    "* create Day of the week\n",
    "* create streak column - number of consecutive days streamed.\n",
    "* Average minutes watched per viewers (Total minutes watched/ Average viewer  \n",
    "\n"
   ]
  },
  {
   "cell_type": "code",
   "execution_count": 75,
   "metadata": {
    "colab": {},
    "colab_type": "code",
    "id": "2d1h3Kk4os3T"
   },
   "outputs": [],
   "source": [
    "def wrangle_starkells_data(t_df, s_df):\n",
    "  #drop the features\n",
    "  drop_list = ['Ad Breaks (Minutes)', 'Ad Time (Seconds) Per Hour',\n",
    "               'Game Sales Revenue']\n",
    "  t_df = t_df.drop(columns=drop_list)\n",
    "\n",
    "  # separate day of week to new feature\n",
    "  t_df = create_day_of_week_list(t_df)\n",
    "\n",
    "  # convert date to datetime type\n",
    "  t_df = convert_twitch_date(t_df)\n",
    "\n",
    "  # combine all the revenue features\n",
    "  t_df[\"Total_Sub_Revenue\"] = (\n",
    "      t_df[\"Sub Revenue\"] + t_df['Prime Revenue'] \\\n",
    "      + t_df['Gifted Subs Revenue'] + t_df['Bits Revenue'] + \\\n",
    "      t_df['Ad Revenue'] + t_df['Extensions Revenue']\n",
    "      )\n",
    "  \n",
    "  #rename the date\n",
    "  t_df = t_df.drop(columns=\"Date\", axis=1)\n",
    "  t_df[\"Date\"] = t_df[\"new_date\"]\n",
    "  t_df = t_df.drop(columns=\"new_date\", axis=1)\n",
    "\n",
    "\n",
    "  #bring in the streamlabs dataframe and prepare it for merge \n",
    "  s_df = donation_mini_wrangle(s_df)\n",
    "\n",
    "  #merge the two dataframe\n",
    "  merge_df = t_df.merge(s_df, how=\"outer\", left_on=\"Date\", right_on=\"Date\")\n",
    "\n",
    "  #replace the null donations with 0\n",
    "  merge_df = merge_df.fillna(0)\n",
    "\n",
    "  #create Total Earnings feature\n",
    "  merge_df[\"Total_Earnings\"] = merge_df[\"Total_Sub_Revenue\"] + merge_df[\"donations\"]\n",
    "\n",
    "  #create Streak Feature\n",
    "  merge_df = create_streak_feature(merge_df)\n",
    "\n",
    "  # set the index to the date \n",
    "  merge_df = merge_df.set_index(\"Date\")\n",
    "\n",
    "  return merge_df\n"
   ]
  },
  {
   "cell_type": "code",
   "execution_count": 73,
   "metadata": {
    "colab": {
     "base_uri": "https://localhost:8080/",
     "height": 1000
    },
    "colab_type": "code",
    "id": "TqznLjkGoeIF",
    "outputId": "15815336-5b96-44ba-ea7e-366384e82ec5"
   },
   "outputs": [
    {
     "name": "stdout",
     "output_type": "stream",
     "text": [
      "(1171, 32)\n"
     ]
    },
    {
     "data": {
      "text/html": [
       "<div>\n",
       "<style scoped>\n",
       "    .dataframe tbody tr th:only-of-type {\n",
       "        vertical-align: middle;\n",
       "    }\n",
       "\n",
       "    .dataframe tbody tr th {\n",
       "        vertical-align: top;\n",
       "    }\n",
       "\n",
       "    .dataframe thead th {\n",
       "        text-align: right;\n",
       "    }\n",
       "</style>\n",
       "<table border=\"1\" class=\"dataframe\">\n",
       "  <thead>\n",
       "    <tr style=\"text-align: right;\">\n",
       "      <th></th>\n",
       "      <th>Date</th>\n",
       "      <th>Ad Breaks (Minutes)</th>\n",
       "      <th>Ad Time (Seconds) Per Hour</th>\n",
       "      <th>Average Viewers</th>\n",
       "      <th>Chat Messages</th>\n",
       "      <th>Chatters</th>\n",
       "      <th>Clip Views</th>\n",
       "      <th>Clips Created</th>\n",
       "      <th>Follows</th>\n",
       "      <th>Hosts and Raids Viewers (%)</th>\n",
       "      <th>Live Views</th>\n",
       "      <th>Max Viewers</th>\n",
       "      <th>Minutes Watched</th>\n",
       "      <th>Minutes Streamed</th>\n",
       "      <th>Unique Viewers</th>\n",
       "      <th>Sub Revenue</th>\n",
       "      <th>Prime Revenue</th>\n",
       "      <th>Gifted Subs Revenue</th>\n",
       "      <th>Bits Revenue</th>\n",
       "      <th>Ad Revenue</th>\n",
       "      <th>Game Sales Revenue</th>\n",
       "      <th>Extensions Revenue</th>\n",
       "      <th>Bounties Revenue</th>\n",
       "      <th>Prime Subs</th>\n",
       "      <th>Total Paid Subs</th>\n",
       "      <th>Tier 1 subs</th>\n",
       "      <th>Tier 2 subs</th>\n",
       "      <th>Tier 3 subs</th>\n",
       "      <th>Total Gifted Subs</th>\n",
       "      <th>Gifted Tier 1 subs</th>\n",
       "      <th>Gifted Tier 2 subs</th>\n",
       "      <th>Gifted Tier 3 subs</th>\n",
       "    </tr>\n",
       "  </thead>\n",
       "  <tbody>\n",
       "    <tr>\n",
       "      <th>1141</th>\n",
       "      <td>Thu Jul 16 2020</td>\n",
       "      <td>0</td>\n",
       "      <td>0</td>\n",
       "      <td>29.59</td>\n",
       "      <td>1393</td>\n",
       "      <td>43</td>\n",
       "      <td>0</td>\n",
       "      <td>3</td>\n",
       "      <td>3</td>\n",
       "      <td>3.59</td>\n",
       "      <td>209</td>\n",
       "      <td>44</td>\n",
       "      <td>7517</td>\n",
       "      <td>254</td>\n",
       "      <td>152</td>\n",
       "      <td>6.905</td>\n",
       "      <td>0.000</td>\n",
       "      <td>14.425</td>\n",
       "      <td>13.0</td>\n",
       "      <td>0.0525</td>\n",
       "      <td>0</td>\n",
       "      <td>0.0</td>\n",
       "      <td>0</td>\n",
       "      <td>0</td>\n",
       "      <td>3</td>\n",
       "      <td>3</td>\n",
       "      <td>0</td>\n",
       "      <td>0</td>\n",
       "      <td>6</td>\n",
       "      <td>6</td>\n",
       "      <td>0</td>\n",
       "      <td>0</td>\n",
       "    </tr>\n",
       "    <tr>\n",
       "      <th>1142</th>\n",
       "      <td>Fri Jul 17 2020</td>\n",
       "      <td>0</td>\n",
       "      <td>0</td>\n",
       "      <td>24.55</td>\n",
       "      <td>1238</td>\n",
       "      <td>41</td>\n",
       "      <td>1</td>\n",
       "      <td>0</td>\n",
       "      <td>3</td>\n",
       "      <td>2.76</td>\n",
       "      <td>150</td>\n",
       "      <td>38</td>\n",
       "      <td>4960</td>\n",
       "      <td>202</td>\n",
       "      <td>114</td>\n",
       "      <td>14.335</td>\n",
       "      <td>0.000</td>\n",
       "      <td>36.320</td>\n",
       "      <td>2.0</td>\n",
       "      <td>0.0420</td>\n",
       "      <td>0</td>\n",
       "      <td>0.0</td>\n",
       "      <td>0</td>\n",
       "      <td>0</td>\n",
       "      <td>2</td>\n",
       "      <td>1</td>\n",
       "      <td>0</td>\n",
       "      <td>1</td>\n",
       "      <td>15</td>\n",
       "      <td>15</td>\n",
       "      <td>0</td>\n",
       "      <td>0</td>\n",
       "    </tr>\n",
       "    <tr>\n",
       "      <th>1143</th>\n",
       "      <td>Sat Jul 18 2020</td>\n",
       "      <td>0</td>\n",
       "      <td>0</td>\n",
       "      <td>27.36</td>\n",
       "      <td>263</td>\n",
       "      <td>27</td>\n",
       "      <td>0</td>\n",
       "      <td>1</td>\n",
       "      <td>0</td>\n",
       "      <td>3.72</td>\n",
       "      <td>37</td>\n",
       "      <td>35</td>\n",
       "      <td>1505</td>\n",
       "      <td>55</td>\n",
       "      <td>35</td>\n",
       "      <td>0.000</td>\n",
       "      <td>0.000</td>\n",
       "      <td>11.740</td>\n",
       "      <td>1.0</td>\n",
       "      <td>0.0035</td>\n",
       "      <td>0</td>\n",
       "      <td>0.0</td>\n",
       "      <td>0</td>\n",
       "      <td>0</td>\n",
       "      <td>0</td>\n",
       "      <td>0</td>\n",
       "      <td>0</td>\n",
       "      <td>0</td>\n",
       "      <td>5</td>\n",
       "      <td>5</td>\n",
       "      <td>0</td>\n",
       "      <td>0</td>\n",
       "    </tr>\n",
       "    <tr>\n",
       "      <th>1144</th>\n",
       "      <td>Sun Jul 19 2020</td>\n",
       "      <td>0</td>\n",
       "      <td>0</td>\n",
       "      <td>0.00</td>\n",
       "      <td>16</td>\n",
       "      <td>2</td>\n",
       "      <td>0</td>\n",
       "      <td>0</td>\n",
       "      <td>0</td>\n",
       "      <td>0.00</td>\n",
       "      <td>0</td>\n",
       "      <td>0</td>\n",
       "      <td>0</td>\n",
       "      <td>0</td>\n",
       "      <td>0</td>\n",
       "      <td>4.585</td>\n",
       "      <td>0.000</td>\n",
       "      <td>0.000</td>\n",
       "      <td>0.0</td>\n",
       "      <td>0.0000</td>\n",
       "      <td>0</td>\n",
       "      <td>0.0</td>\n",
       "      <td>0</td>\n",
       "      <td>0</td>\n",
       "      <td>2</td>\n",
       "      <td>2</td>\n",
       "      <td>0</td>\n",
       "      <td>0</td>\n",
       "      <td>0</td>\n",
       "      <td>0</td>\n",
       "      <td>0</td>\n",
       "      <td>0</td>\n",
       "    </tr>\n",
       "    <tr>\n",
       "      <th>1145</th>\n",
       "      <td>Mon Jul 20 2020</td>\n",
       "      <td>0</td>\n",
       "      <td>0</td>\n",
       "      <td>0.00</td>\n",
       "      <td>10</td>\n",
       "      <td>1</td>\n",
       "      <td>0</td>\n",
       "      <td>0</td>\n",
       "      <td>0</td>\n",
       "      <td>0.00</td>\n",
       "      <td>0</td>\n",
       "      <td>0</td>\n",
       "      <td>0</td>\n",
       "      <td>0</td>\n",
       "      <td>0</td>\n",
       "      <td>4.700</td>\n",
       "      <td>2.495</td>\n",
       "      <td>0.000</td>\n",
       "      <td>0.0</td>\n",
       "      <td>0.0000</td>\n",
       "      <td>0</td>\n",
       "      <td>0.0</td>\n",
       "      <td>0</td>\n",
       "      <td>1</td>\n",
       "      <td>2</td>\n",
       "      <td>2</td>\n",
       "      <td>0</td>\n",
       "      <td>0</td>\n",
       "      <td>0</td>\n",
       "      <td>0</td>\n",
       "      <td>0</td>\n",
       "      <td>0</td>\n",
       "    </tr>\n",
       "    <tr>\n",
       "      <th>1146</th>\n",
       "      <td>Tue Jul 21 2020</td>\n",
       "      <td>0</td>\n",
       "      <td>0</td>\n",
       "      <td>0.00</td>\n",
       "      <td>15</td>\n",
       "      <td>1</td>\n",
       "      <td>0</td>\n",
       "      <td>0</td>\n",
       "      <td>0</td>\n",
       "      <td>0.00</td>\n",
       "      <td>0</td>\n",
       "      <td>0</td>\n",
       "      <td>0</td>\n",
       "      <td>0</td>\n",
       "      <td>0</td>\n",
       "      <td>4.600</td>\n",
       "      <td>2.495</td>\n",
       "      <td>0.000</td>\n",
       "      <td>0.0</td>\n",
       "      <td>0.0000</td>\n",
       "      <td>0</td>\n",
       "      <td>0.0</td>\n",
       "      <td>0</td>\n",
       "      <td>1</td>\n",
       "      <td>2</td>\n",
       "      <td>2</td>\n",
       "      <td>0</td>\n",
       "      <td>0</td>\n",
       "      <td>0</td>\n",
       "      <td>0</td>\n",
       "      <td>0</td>\n",
       "      <td>0</td>\n",
       "    </tr>\n",
       "    <tr>\n",
       "      <th>1147</th>\n",
       "      <td>Wed Jul 22 2020</td>\n",
       "      <td>0</td>\n",
       "      <td>0</td>\n",
       "      <td>23.07</td>\n",
       "      <td>779</td>\n",
       "      <td>35</td>\n",
       "      <td>0</td>\n",
       "      <td>0</td>\n",
       "      <td>1</td>\n",
       "      <td>1.90</td>\n",
       "      <td>191</td>\n",
       "      <td>35</td>\n",
       "      <td>4567</td>\n",
       "      <td>198</td>\n",
       "      <td>128</td>\n",
       "      <td>0.000</td>\n",
       "      <td>0.000</td>\n",
       "      <td>0.000</td>\n",
       "      <td>0.0</td>\n",
       "      <td>0.1015</td>\n",
       "      <td>0</td>\n",
       "      <td>0.0</td>\n",
       "      <td>0</td>\n",
       "      <td>0</td>\n",
       "      <td>0</td>\n",
       "      <td>0</td>\n",
       "      <td>0</td>\n",
       "      <td>0</td>\n",
       "      <td>0</td>\n",
       "      <td>0</td>\n",
       "      <td>0</td>\n",
       "      <td>0</td>\n",
       "    </tr>\n",
       "    <tr>\n",
       "      <th>1148</th>\n",
       "      <td>Thu Jul 23 2020</td>\n",
       "      <td>0</td>\n",
       "      <td>0</td>\n",
       "      <td>26.24</td>\n",
       "      <td>224</td>\n",
       "      <td>16</td>\n",
       "      <td>4</td>\n",
       "      <td>2</td>\n",
       "      <td>0</td>\n",
       "      <td>3.81</td>\n",
       "      <td>43</td>\n",
       "      <td>32</td>\n",
       "      <td>2178</td>\n",
       "      <td>83</td>\n",
       "      <td>38</td>\n",
       "      <td>0.000</td>\n",
       "      <td>2.495</td>\n",
       "      <td>0.000</td>\n",
       "      <td>1.0</td>\n",
       "      <td>0.0035</td>\n",
       "      <td>0</td>\n",
       "      <td>0.0</td>\n",
       "      <td>0</td>\n",
       "      <td>1</td>\n",
       "      <td>0</td>\n",
       "      <td>0</td>\n",
       "      <td>0</td>\n",
       "      <td>0</td>\n",
       "      <td>0</td>\n",
       "      <td>0</td>\n",
       "      <td>0</td>\n",
       "      <td>0</td>\n",
       "    </tr>\n",
       "    <tr>\n",
       "      <th>1149</th>\n",
       "      <td>Fri Jul 24 2020</td>\n",
       "      <td>0</td>\n",
       "      <td>0</td>\n",
       "      <td>26.29</td>\n",
       "      <td>965</td>\n",
       "      <td>33</td>\n",
       "      <td>0</td>\n",
       "      <td>0</td>\n",
       "      <td>1</td>\n",
       "      <td>14.20</td>\n",
       "      <td>160</td>\n",
       "      <td>80</td>\n",
       "      <td>3654</td>\n",
       "      <td>140</td>\n",
       "      <td>119</td>\n",
       "      <td>2.320</td>\n",
       "      <td>0.000</td>\n",
       "      <td>0.000</td>\n",
       "      <td>0.0</td>\n",
       "      <td>0.1155</td>\n",
       "      <td>0</td>\n",
       "      <td>0.0</td>\n",
       "      <td>0</td>\n",
       "      <td>0</td>\n",
       "      <td>1</td>\n",
       "      <td>1</td>\n",
       "      <td>0</td>\n",
       "      <td>0</td>\n",
       "      <td>0</td>\n",
       "      <td>0</td>\n",
       "      <td>0</td>\n",
       "      <td>0</td>\n",
       "    </tr>\n",
       "    <tr>\n",
       "      <th>1150</th>\n",
       "      <td>Sat Jul 25 2020</td>\n",
       "      <td>0</td>\n",
       "      <td>0</td>\n",
       "      <td>33.02</td>\n",
       "      <td>311</td>\n",
       "      <td>25</td>\n",
       "      <td>2</td>\n",
       "      <td>1</td>\n",
       "      <td>0</td>\n",
       "      <td>22.15</td>\n",
       "      <td>115</td>\n",
       "      <td>47</td>\n",
       "      <td>5779</td>\n",
       "      <td>175</td>\n",
       "      <td>79</td>\n",
       "      <td>0.000</td>\n",
       "      <td>0.000</td>\n",
       "      <td>2.325</td>\n",
       "      <td>1.0</td>\n",
       "      <td>0.0000</td>\n",
       "      <td>0</td>\n",
       "      <td>0.0</td>\n",
       "      <td>0</td>\n",
       "      <td>0</td>\n",
       "      <td>0</td>\n",
       "      <td>0</td>\n",
       "      <td>0</td>\n",
       "      <td>0</td>\n",
       "      <td>1</td>\n",
       "      <td>1</td>\n",
       "      <td>0</td>\n",
       "      <td>0</td>\n",
       "    </tr>\n",
       "    <tr>\n",
       "      <th>1151</th>\n",
       "      <td>Sun Jul 26 2020</td>\n",
       "      <td>0</td>\n",
       "      <td>0</td>\n",
       "      <td>0.00</td>\n",
       "      <td>27</td>\n",
       "      <td>2</td>\n",
       "      <td>0</td>\n",
       "      <td>0</td>\n",
       "      <td>1</td>\n",
       "      <td>0.00</td>\n",
       "      <td>0</td>\n",
       "      <td>0</td>\n",
       "      <td>0</td>\n",
       "      <td>0</td>\n",
       "      <td>0</td>\n",
       "      <td>0.000</td>\n",
       "      <td>0.000</td>\n",
       "      <td>0.000</td>\n",
       "      <td>0.0</td>\n",
       "      <td>0.0000</td>\n",
       "      <td>0</td>\n",
       "      <td>0.0</td>\n",
       "      <td>0</td>\n",
       "      <td>0</td>\n",
       "      <td>0</td>\n",
       "      <td>0</td>\n",
       "      <td>0</td>\n",
       "      <td>0</td>\n",
       "      <td>0</td>\n",
       "      <td>0</td>\n",
       "      <td>0</td>\n",
       "      <td>0</td>\n",
       "    </tr>\n",
       "    <tr>\n",
       "      <th>1152</th>\n",
       "      <td>Mon Jul 27 2020</td>\n",
       "      <td>0</td>\n",
       "      <td>0</td>\n",
       "      <td>0.00</td>\n",
       "      <td>20</td>\n",
       "      <td>1</td>\n",
       "      <td>0</td>\n",
       "      <td>0</td>\n",
       "      <td>0</td>\n",
       "      <td>0.00</td>\n",
       "      <td>0</td>\n",
       "      <td>0</td>\n",
       "      <td>0</td>\n",
       "      <td>0</td>\n",
       "      <td>0</td>\n",
       "      <td>0.000</td>\n",
       "      <td>0.000</td>\n",
       "      <td>0.000</td>\n",
       "      <td>0.0</td>\n",
       "      <td>0.0070</td>\n",
       "      <td>0</td>\n",
       "      <td>0.0</td>\n",
       "      <td>0</td>\n",
       "      <td>0</td>\n",
       "      <td>0</td>\n",
       "      <td>0</td>\n",
       "      <td>0</td>\n",
       "      <td>0</td>\n",
       "      <td>0</td>\n",
       "      <td>0</td>\n",
       "      <td>0</td>\n",
       "      <td>0</td>\n",
       "    </tr>\n",
       "    <tr>\n",
       "      <th>1153</th>\n",
       "      <td>Tue Jul 28 2020</td>\n",
       "      <td>0</td>\n",
       "      <td>0</td>\n",
       "      <td>0.00</td>\n",
       "      <td>15</td>\n",
       "      <td>1</td>\n",
       "      <td>0</td>\n",
       "      <td>0</td>\n",
       "      <td>0</td>\n",
       "      <td>0.00</td>\n",
       "      <td>0</td>\n",
       "      <td>0</td>\n",
       "      <td>0</td>\n",
       "      <td>0</td>\n",
       "      <td>0</td>\n",
       "      <td>0.000</td>\n",
       "      <td>0.000</td>\n",
       "      <td>0.000</td>\n",
       "      <td>0.0</td>\n",
       "      <td>0.0000</td>\n",
       "      <td>0</td>\n",
       "      <td>0.0</td>\n",
       "      <td>0</td>\n",
       "      <td>0</td>\n",
       "      <td>0</td>\n",
       "      <td>0</td>\n",
       "      <td>0</td>\n",
       "      <td>0</td>\n",
       "      <td>0</td>\n",
       "      <td>0</td>\n",
       "      <td>0</td>\n",
       "      <td>0</td>\n",
       "    </tr>\n",
       "    <tr>\n",
       "      <th>1154</th>\n",
       "      <td>Wed Jul 29 2020</td>\n",
       "      <td>0</td>\n",
       "      <td>0</td>\n",
       "      <td>22.77</td>\n",
       "      <td>1189</td>\n",
       "      <td>35</td>\n",
       "      <td>1</td>\n",
       "      <td>1</td>\n",
       "      <td>2</td>\n",
       "      <td>0.00</td>\n",
       "      <td>150</td>\n",
       "      <td>33</td>\n",
       "      <td>3416</td>\n",
       "      <td>149</td>\n",
       "      <td>99</td>\n",
       "      <td>4.635</td>\n",
       "      <td>0.000</td>\n",
       "      <td>0.000</td>\n",
       "      <td>0.0</td>\n",
       "      <td>0.0455</td>\n",
       "      <td>0</td>\n",
       "      <td>0.0</td>\n",
       "      <td>0</td>\n",
       "      <td>0</td>\n",
       "      <td>2</td>\n",
       "      <td>2</td>\n",
       "      <td>0</td>\n",
       "      <td>0</td>\n",
       "      <td>0</td>\n",
       "      <td>0</td>\n",
       "      <td>0</td>\n",
       "      <td>0</td>\n",
       "    </tr>\n",
       "    <tr>\n",
       "      <th>1155</th>\n",
       "      <td>Thu Jul 30 2020</td>\n",
       "      <td>0</td>\n",
       "      <td>0</td>\n",
       "      <td>24.95</td>\n",
       "      <td>79</td>\n",
       "      <td>14</td>\n",
       "      <td>0</td>\n",
       "      <td>0</td>\n",
       "      <td>1</td>\n",
       "      <td>0.00</td>\n",
       "      <td>31</td>\n",
       "      <td>28</td>\n",
       "      <td>1522</td>\n",
       "      <td>61</td>\n",
       "      <td>26</td>\n",
       "      <td>0.000</td>\n",
       "      <td>0.000</td>\n",
       "      <td>0.000</td>\n",
       "      <td>7.0</td>\n",
       "      <td>0.0000</td>\n",
       "      <td>0</td>\n",
       "      <td>0.0</td>\n",
       "      <td>0</td>\n",
       "      <td>0</td>\n",
       "      <td>0</td>\n",
       "      <td>0</td>\n",
       "      <td>0</td>\n",
       "      <td>0</td>\n",
       "      <td>0</td>\n",
       "      <td>0</td>\n",
       "      <td>0</td>\n",
       "      <td>0</td>\n",
       "    </tr>\n",
       "    <tr>\n",
       "      <th>1156</th>\n",
       "      <td>Fri Jul 31 2020</td>\n",
       "      <td>0</td>\n",
       "      <td>0</td>\n",
       "      <td>0.00</td>\n",
       "      <td>0</td>\n",
       "      <td>0</td>\n",
       "      <td>0</td>\n",
       "      <td>0</td>\n",
       "      <td>0</td>\n",
       "      <td>0.00</td>\n",
       "      <td>0</td>\n",
       "      <td>0</td>\n",
       "      <td>0</td>\n",
       "      <td>0</td>\n",
       "      <td>0</td>\n",
       "      <td>0.000</td>\n",
       "      <td>0.000</td>\n",
       "      <td>0.000</td>\n",
       "      <td>0.0</td>\n",
       "      <td>0.0000</td>\n",
       "      <td>0</td>\n",
       "      <td>0.0</td>\n",
       "      <td>0</td>\n",
       "      <td>0</td>\n",
       "      <td>0</td>\n",
       "      <td>0</td>\n",
       "      <td>0</td>\n",
       "      <td>0</td>\n",
       "      <td>0</td>\n",
       "      <td>0</td>\n",
       "      <td>0</td>\n",
       "      <td>0</td>\n",
       "    </tr>\n",
       "    <tr>\n",
       "      <th>1157</th>\n",
       "      <td>Sat Aug 01 2020</td>\n",
       "      <td>0</td>\n",
       "      <td>0</td>\n",
       "      <td>0.00</td>\n",
       "      <td>0</td>\n",
       "      <td>0</td>\n",
       "      <td>0</td>\n",
       "      <td>0</td>\n",
       "      <td>0</td>\n",
       "      <td>0.00</td>\n",
       "      <td>0</td>\n",
       "      <td>0</td>\n",
       "      <td>0</td>\n",
       "      <td>0</td>\n",
       "      <td>0</td>\n",
       "      <td>0.000</td>\n",
       "      <td>0.000</td>\n",
       "      <td>0.000</td>\n",
       "      <td>0.0</td>\n",
       "      <td>0.0000</td>\n",
       "      <td>0</td>\n",
       "      <td>0.0</td>\n",
       "      <td>0</td>\n",
       "      <td>0</td>\n",
       "      <td>0</td>\n",
       "      <td>0</td>\n",
       "      <td>0</td>\n",
       "      <td>0</td>\n",
       "      <td>0</td>\n",
       "      <td>0</td>\n",
       "      <td>0</td>\n",
       "      <td>0</td>\n",
       "    </tr>\n",
       "    <tr>\n",
       "      <th>1158</th>\n",
       "      <td>Sun Aug 02 2020</td>\n",
       "      <td>0</td>\n",
       "      <td>0</td>\n",
       "      <td>0.00</td>\n",
       "      <td>13</td>\n",
       "      <td>1</td>\n",
       "      <td>0</td>\n",
       "      <td>0</td>\n",
       "      <td>0</td>\n",
       "      <td>0.00</td>\n",
       "      <td>0</td>\n",
       "      <td>0</td>\n",
       "      <td>0</td>\n",
       "      <td>0</td>\n",
       "      <td>0</td>\n",
       "      <td>4.695</td>\n",
       "      <td>0.000</td>\n",
       "      <td>0.000</td>\n",
       "      <td>0.0</td>\n",
       "      <td>0.0000</td>\n",
       "      <td>0</td>\n",
       "      <td>0.0</td>\n",
       "      <td>0</td>\n",
       "      <td>0</td>\n",
       "      <td>2</td>\n",
       "      <td>2</td>\n",
       "      <td>0</td>\n",
       "      <td>0</td>\n",
       "      <td>0</td>\n",
       "      <td>0</td>\n",
       "      <td>0</td>\n",
       "      <td>0</td>\n",
       "    </tr>\n",
       "    <tr>\n",
       "      <th>1159</th>\n",
       "      <td>Mon Aug 03 2020</td>\n",
       "      <td>0</td>\n",
       "      <td>0</td>\n",
       "      <td>0.00</td>\n",
       "      <td>19</td>\n",
       "      <td>1</td>\n",
       "      <td>0</td>\n",
       "      <td>0</td>\n",
       "      <td>0</td>\n",
       "      <td>0.00</td>\n",
       "      <td>0</td>\n",
       "      <td>0</td>\n",
       "      <td>0</td>\n",
       "      <td>0</td>\n",
       "      <td>0</td>\n",
       "      <td>2.260</td>\n",
       "      <td>2.495</td>\n",
       "      <td>0.000</td>\n",
       "      <td>0.0</td>\n",
       "      <td>0.0000</td>\n",
       "      <td>0</td>\n",
       "      <td>0.0</td>\n",
       "      <td>0</td>\n",
       "      <td>1</td>\n",
       "      <td>1</td>\n",
       "      <td>1</td>\n",
       "      <td>0</td>\n",
       "      <td>0</td>\n",
       "      <td>0</td>\n",
       "      <td>0</td>\n",
       "      <td>0</td>\n",
       "      <td>0</td>\n",
       "    </tr>\n",
       "    <tr>\n",
       "      <th>1160</th>\n",
       "      <td>Tue Aug 04 2020</td>\n",
       "      <td>0</td>\n",
       "      <td>0</td>\n",
       "      <td>0.00</td>\n",
       "      <td>15</td>\n",
       "      <td>1</td>\n",
       "      <td>0</td>\n",
       "      <td>0</td>\n",
       "      <td>0</td>\n",
       "      <td>0.00</td>\n",
       "      <td>0</td>\n",
       "      <td>0</td>\n",
       "      <td>0</td>\n",
       "      <td>0</td>\n",
       "      <td>0</td>\n",
       "      <td>0.000</td>\n",
       "      <td>0.000</td>\n",
       "      <td>0.000</td>\n",
       "      <td>0.0</td>\n",
       "      <td>0.0000</td>\n",
       "      <td>0</td>\n",
       "      <td>0.0</td>\n",
       "      <td>0</td>\n",
       "      <td>0</td>\n",
       "      <td>0</td>\n",
       "      <td>0</td>\n",
       "      <td>0</td>\n",
       "      <td>0</td>\n",
       "      <td>0</td>\n",
       "      <td>0</td>\n",
       "      <td>0</td>\n",
       "      <td>0</td>\n",
       "    </tr>\n",
       "    <tr>\n",
       "      <th>1161</th>\n",
       "      <td>Wed Aug 05 2020</td>\n",
       "      <td>0</td>\n",
       "      <td>0</td>\n",
       "      <td>27.75</td>\n",
       "      <td>1185</td>\n",
       "      <td>40</td>\n",
       "      <td>0</td>\n",
       "      <td>0</td>\n",
       "      <td>3</td>\n",
       "      <td>2.42</td>\n",
       "      <td>157</td>\n",
       "      <td>36</td>\n",
       "      <td>5244</td>\n",
       "      <td>189</td>\n",
       "      <td>111</td>\n",
       "      <td>0.000</td>\n",
       "      <td>0.000</td>\n",
       "      <td>0.000</td>\n",
       "      <td>0.0</td>\n",
       "      <td>0.0350</td>\n",
       "      <td>0</td>\n",
       "      <td>0.0</td>\n",
       "      <td>0</td>\n",
       "      <td>0</td>\n",
       "      <td>0</td>\n",
       "      <td>0</td>\n",
       "      <td>0</td>\n",
       "      <td>0</td>\n",
       "      <td>0</td>\n",
       "      <td>0</td>\n",
       "      <td>0</td>\n",
       "      <td>0</td>\n",
       "    </tr>\n",
       "    <tr>\n",
       "      <th>1162</th>\n",
       "      <td>Thu Aug 06 2020</td>\n",
       "      <td>0</td>\n",
       "      <td>0</td>\n",
       "      <td>27.07</td>\n",
       "      <td>1509</td>\n",
       "      <td>47</td>\n",
       "      <td>0</td>\n",
       "      <td>1</td>\n",
       "      <td>2</td>\n",
       "      <td>3.87</td>\n",
       "      <td>191</td>\n",
       "      <td>54</td>\n",
       "      <td>6768</td>\n",
       "      <td>250</td>\n",
       "      <td>138</td>\n",
       "      <td>5.015</td>\n",
       "      <td>0.000</td>\n",
       "      <td>2.325</td>\n",
       "      <td>0.0</td>\n",
       "      <td>0.1050</td>\n",
       "      <td>0</td>\n",
       "      <td>0.0</td>\n",
       "      <td>0</td>\n",
       "      <td>0</td>\n",
       "      <td>2</td>\n",
       "      <td>2</td>\n",
       "      <td>0</td>\n",
       "      <td>0</td>\n",
       "      <td>1</td>\n",
       "      <td>1</td>\n",
       "      <td>0</td>\n",
       "      <td>0</td>\n",
       "    </tr>\n",
       "    <tr>\n",
       "      <th>1163</th>\n",
       "      <td>Fri Aug 07 2020</td>\n",
       "      <td>0</td>\n",
       "      <td>0</td>\n",
       "      <td>23.81</td>\n",
       "      <td>1545</td>\n",
       "      <td>36</td>\n",
       "      <td>0</td>\n",
       "      <td>0</td>\n",
       "      <td>2</td>\n",
       "      <td>11.34</td>\n",
       "      <td>160</td>\n",
       "      <td>34</td>\n",
       "      <td>5310</td>\n",
       "      <td>222</td>\n",
       "      <td>108</td>\n",
       "      <td>9.230</td>\n",
       "      <td>0.000</td>\n",
       "      <td>23.250</td>\n",
       "      <td>1.0</td>\n",
       "      <td>0.0455</td>\n",
       "      <td>0</td>\n",
       "      <td>0.0</td>\n",
       "      <td>0</td>\n",
       "      <td>0</td>\n",
       "      <td>3</td>\n",
       "      <td>2</td>\n",
       "      <td>1</td>\n",
       "      <td>0</td>\n",
       "      <td>10</td>\n",
       "      <td>10</td>\n",
       "      <td>0</td>\n",
       "      <td>0</td>\n",
       "    </tr>\n",
       "    <tr>\n",
       "      <th>1164</th>\n",
       "      <td>Sat Aug 08 2020</td>\n",
       "      <td>0</td>\n",
       "      <td>0</td>\n",
       "      <td>25.52</td>\n",
       "      <td>73</td>\n",
       "      <td>18</td>\n",
       "      <td>0</td>\n",
       "      <td>0</td>\n",
       "      <td>0</td>\n",
       "      <td>13.57</td>\n",
       "      <td>28</td>\n",
       "      <td>31</td>\n",
       "      <td>1710</td>\n",
       "      <td>67</td>\n",
       "      <td>25</td>\n",
       "      <td>11.850</td>\n",
       "      <td>0.000</td>\n",
       "      <td>11.985</td>\n",
       "      <td>1.0</td>\n",
       "      <td>0.0000</td>\n",
       "      <td>0</td>\n",
       "      <td>0.0</td>\n",
       "      <td>0</td>\n",
       "      <td>0</td>\n",
       "      <td>3</td>\n",
       "      <td>1</td>\n",
       "      <td>2</td>\n",
       "      <td>0</td>\n",
       "      <td>5</td>\n",
       "      <td>5</td>\n",
       "      <td>0</td>\n",
       "      <td>0</td>\n",
       "    </tr>\n",
       "    <tr>\n",
       "      <th>1165</th>\n",
       "      <td>Sun Aug 09 2020</td>\n",
       "      <td>0</td>\n",
       "      <td>0</td>\n",
       "      <td>0.00</td>\n",
       "      <td>16</td>\n",
       "      <td>1</td>\n",
       "      <td>0</td>\n",
       "      <td>0</td>\n",
       "      <td>0</td>\n",
       "      <td>0.00</td>\n",
       "      <td>0</td>\n",
       "      <td>0</td>\n",
       "      <td>0</td>\n",
       "      <td>0</td>\n",
       "      <td>0</td>\n",
       "      <td>0.000</td>\n",
       "      <td>0.000</td>\n",
       "      <td>0.000</td>\n",
       "      <td>0.0</td>\n",
       "      <td>0.0000</td>\n",
       "      <td>0</td>\n",
       "      <td>0.0</td>\n",
       "      <td>0</td>\n",
       "      <td>0</td>\n",
       "      <td>0</td>\n",
       "      <td>0</td>\n",
       "      <td>0</td>\n",
       "      <td>0</td>\n",
       "      <td>0</td>\n",
       "      <td>0</td>\n",
       "      <td>0</td>\n",
       "      <td>0</td>\n",
       "    </tr>\n",
       "    <tr>\n",
       "      <th>1166</th>\n",
       "      <td>Mon Aug 10 2020</td>\n",
       "      <td>0</td>\n",
       "      <td>0</td>\n",
       "      <td>0.00</td>\n",
       "      <td>15</td>\n",
       "      <td>1</td>\n",
       "      <td>0</td>\n",
       "      <td>0</td>\n",
       "      <td>0</td>\n",
       "      <td>0.00</td>\n",
       "      <td>0</td>\n",
       "      <td>0</td>\n",
       "      <td>0</td>\n",
       "      <td>0</td>\n",
       "      <td>0</td>\n",
       "      <td>2.455</td>\n",
       "      <td>0.000</td>\n",
       "      <td>0.000</td>\n",
       "      <td>0.0</td>\n",
       "      <td>0.0000</td>\n",
       "      <td>0</td>\n",
       "      <td>0.0</td>\n",
       "      <td>0</td>\n",
       "      <td>0</td>\n",
       "      <td>1</td>\n",
       "      <td>1</td>\n",
       "      <td>0</td>\n",
       "      <td>0</td>\n",
       "      <td>0</td>\n",
       "      <td>0</td>\n",
       "      <td>0</td>\n",
       "      <td>0</td>\n",
       "    </tr>\n",
       "    <tr>\n",
       "      <th>1167</th>\n",
       "      <td>Tue Aug 11 2020</td>\n",
       "      <td>0</td>\n",
       "      <td>0</td>\n",
       "      <td>0.00</td>\n",
       "      <td>16</td>\n",
       "      <td>1</td>\n",
       "      <td>0</td>\n",
       "      <td>0</td>\n",
       "      <td>0</td>\n",
       "      <td>0.00</td>\n",
       "      <td>0</td>\n",
       "      <td>0</td>\n",
       "      <td>0</td>\n",
       "      <td>0</td>\n",
       "      <td>0</td>\n",
       "      <td>0.000</td>\n",
       "      <td>0.000</td>\n",
       "      <td>0.000</td>\n",
       "      <td>0.0</td>\n",
       "      <td>0.0000</td>\n",
       "      <td>0</td>\n",
       "      <td>0.0</td>\n",
       "      <td>0</td>\n",
       "      <td>0</td>\n",
       "      <td>0</td>\n",
       "      <td>0</td>\n",
       "      <td>0</td>\n",
       "      <td>0</td>\n",
       "      <td>0</td>\n",
       "      <td>0</td>\n",
       "      <td>0</td>\n",
       "      <td>0</td>\n",
       "    </tr>\n",
       "    <tr>\n",
       "      <th>1168</th>\n",
       "      <td>Wed Aug 12 2020</td>\n",
       "      <td>0</td>\n",
       "      <td>0</td>\n",
       "      <td>25.05</td>\n",
       "      <td>640</td>\n",
       "      <td>39</td>\n",
       "      <td>0</td>\n",
       "      <td>2</td>\n",
       "      <td>3</td>\n",
       "      <td>0.00</td>\n",
       "      <td>128</td>\n",
       "      <td>35</td>\n",
       "      <td>3708</td>\n",
       "      <td>148</td>\n",
       "      <td>98</td>\n",
       "      <td>2.320</td>\n",
       "      <td>0.000</td>\n",
       "      <td>0.000</td>\n",
       "      <td>0.0</td>\n",
       "      <td>0.0805</td>\n",
       "      <td>0</td>\n",
       "      <td>0.0</td>\n",
       "      <td>0</td>\n",
       "      <td>0</td>\n",
       "      <td>1</td>\n",
       "      <td>1</td>\n",
       "      <td>0</td>\n",
       "      <td>0</td>\n",
       "      <td>0</td>\n",
       "      <td>0</td>\n",
       "      <td>0</td>\n",
       "      <td>0</td>\n",
       "    </tr>\n",
       "    <tr>\n",
       "      <th>1169</th>\n",
       "      <td>Thu Aug 13 2020</td>\n",
       "      <td>0</td>\n",
       "      <td>0</td>\n",
       "      <td>25.72</td>\n",
       "      <td>1282</td>\n",
       "      <td>46</td>\n",
       "      <td>0</td>\n",
       "      <td>0</td>\n",
       "      <td>6</td>\n",
       "      <td>8.11</td>\n",
       "      <td>188</td>\n",
       "      <td>57</td>\n",
       "      <td>6199</td>\n",
       "      <td>241</td>\n",
       "      <td>143</td>\n",
       "      <td>0.000</td>\n",
       "      <td>0.000</td>\n",
       "      <td>4.650</td>\n",
       "      <td>1.0</td>\n",
       "      <td>0.0105</td>\n",
       "      <td>0</td>\n",
       "      <td>0.0</td>\n",
       "      <td>0</td>\n",
       "      <td>0</td>\n",
       "      <td>0</td>\n",
       "      <td>0</td>\n",
       "      <td>0</td>\n",
       "      <td>0</td>\n",
       "      <td>2</td>\n",
       "      <td>2</td>\n",
       "      <td>0</td>\n",
       "      <td>0</td>\n",
       "    </tr>\n",
       "    <tr>\n",
       "      <th>1170</th>\n",
       "      <td>Fri Aug 14 2020</td>\n",
       "      <td>0</td>\n",
       "      <td>0</td>\n",
       "      <td>21.21</td>\n",
       "      <td>47</td>\n",
       "      <td>12</td>\n",
       "      <td>4</td>\n",
       "      <td>1</td>\n",
       "      <td>1</td>\n",
       "      <td>16.00</td>\n",
       "      <td>9</td>\n",
       "      <td>24</td>\n",
       "      <td>700</td>\n",
       "      <td>33</td>\n",
       "      <td>9</td>\n",
       "      <td>2.460</td>\n",
       "      <td>0.000</td>\n",
       "      <td>0.000</td>\n",
       "      <td>1.0</td>\n",
       "      <td>0.0000</td>\n",
       "      <td>0</td>\n",
       "      <td>0.0</td>\n",
       "      <td>0</td>\n",
       "      <td>0</td>\n",
       "      <td>1</td>\n",
       "      <td>1</td>\n",
       "      <td>0</td>\n",
       "      <td>0</td>\n",
       "      <td>0</td>\n",
       "      <td>0</td>\n",
       "      <td>0</td>\n",
       "      <td>0</td>\n",
       "    </tr>\n",
       "  </tbody>\n",
       "</table>\n",
       "</div>"
      ],
      "text/plain": [
       "                 Date  ...  Gifted Tier 3 subs\n",
       "1141  Thu Jul 16 2020  ...                   0\n",
       "1142  Fri Jul 17 2020  ...                   0\n",
       "1143  Sat Jul 18 2020  ...                   0\n",
       "1144  Sun Jul 19 2020  ...                   0\n",
       "1145  Mon Jul 20 2020  ...                   0\n",
       "1146  Tue Jul 21 2020  ...                   0\n",
       "1147  Wed Jul 22 2020  ...                   0\n",
       "1148  Thu Jul 23 2020  ...                   0\n",
       "1149  Fri Jul 24 2020  ...                   0\n",
       "1150  Sat Jul 25 2020  ...                   0\n",
       "1151  Sun Jul 26 2020  ...                   0\n",
       "1152  Mon Jul 27 2020  ...                   0\n",
       "1153  Tue Jul 28 2020  ...                   0\n",
       "1154  Wed Jul 29 2020  ...                   0\n",
       "1155  Thu Jul 30 2020  ...                   0\n",
       "1156  Fri Jul 31 2020  ...                   0\n",
       "1157  Sat Aug 01 2020  ...                   0\n",
       "1158  Sun Aug 02 2020  ...                   0\n",
       "1159  Mon Aug 03 2020  ...                   0\n",
       "1160  Tue Aug 04 2020  ...                   0\n",
       "1161  Wed Aug 05 2020  ...                   0\n",
       "1162  Thu Aug 06 2020  ...                   0\n",
       "1163  Fri Aug 07 2020  ...                   0\n",
       "1164  Sat Aug 08 2020  ...                   0\n",
       "1165  Sun Aug 09 2020  ...                   0\n",
       "1166  Mon Aug 10 2020  ...                   0\n",
       "1167  Tue Aug 11 2020  ...                   0\n",
       "1168  Wed Aug 12 2020  ...                   0\n",
       "1169  Thu Aug 13 2020  ...                   0\n",
       "1170  Fri Aug 14 2020  ...                   0\n",
       "\n",
       "[30 rows x 32 columns]"
      ]
     },
     "execution_count": 73,
     "metadata": {
      "tags": []
     },
     "output_type": "execute_result"
    }
   ],
   "source": [
    "print(twitch_orginal.shape)\n",
    "twitch_orginal.tail(30)"
   ]
  },
  {
   "cell_type": "code",
   "execution_count": 79,
   "metadata": {
    "colab": {
     "base_uri": "https://localhost:8080/",
     "height": 281
    },
    "colab_type": "code",
    "id": "mhe7RaN2mtnm",
    "outputId": "e0408a73-0c9c-4986-db8f-6e42578216c6"
   },
   "outputs": [
    {
     "name": "stdout",
     "output_type": "stream",
     "text": [
      "(1171, 39)\n"
     ]
    },
    {
     "data": {
      "text/html": [
       "<div>\n",
       "<style scoped>\n",
       "    .dataframe tbody tr th:only-of-type {\n",
       "        vertical-align: middle;\n",
       "    }\n",
       "\n",
       "    .dataframe tbody tr th {\n",
       "        vertical-align: top;\n",
       "    }\n",
       "\n",
       "    .dataframe thead th {\n",
       "        text-align: right;\n",
       "    }\n",
       "</style>\n",
       "<table border=\"1\" class=\"dataframe\">\n",
       "  <thead>\n",
       "    <tr style=\"text-align: right;\">\n",
       "      <th></th>\n",
       "      <th>Average Viewers</th>\n",
       "      <th>Chat Messages</th>\n",
       "      <th>Chatters</th>\n",
       "      <th>Clip Views</th>\n",
       "      <th>Clips Created</th>\n",
       "      <th>Follows</th>\n",
       "      <th>Hosts and Raids Viewers (%)</th>\n",
       "      <th>Live Views</th>\n",
       "      <th>Max Viewers</th>\n",
       "      <th>Minutes Watched</th>\n",
       "      <th>Minutes Streamed</th>\n",
       "      <th>Unique Viewers</th>\n",
       "      <th>Sub Revenue</th>\n",
       "      <th>Prime Revenue</th>\n",
       "      <th>Gifted Subs Revenue</th>\n",
       "      <th>Bits Revenue</th>\n",
       "      <th>Ad Revenue</th>\n",
       "      <th>Extensions Revenue</th>\n",
       "      <th>Bounties Revenue</th>\n",
       "      <th>Prime Subs</th>\n",
       "      <th>Total Paid Subs</th>\n",
       "      <th>Tier 1 subs</th>\n",
       "      <th>Tier 2 subs</th>\n",
       "      <th>Tier 3 subs</th>\n",
       "      <th>Total Gifted Subs</th>\n",
       "      <th>Gifted Tier 1 subs</th>\n",
       "      <th>Gifted Tier 2 subs</th>\n",
       "      <th>Gifted Tier 3 subs</th>\n",
       "      <th>day_of_week_1</th>\n",
       "      <th>day_of_week_2</th>\n",
       "      <th>day_of_week_3</th>\n",
       "      <th>day_of_week_4</th>\n",
       "      <th>day_of_week_5</th>\n",
       "      <th>day_of_week_6</th>\n",
       "      <th>day_of_week_7</th>\n",
       "      <th>Total_Sub_Revenue</th>\n",
       "      <th>donations</th>\n",
       "      <th>Total_Earnings</th>\n",
       "      <th>streak</th>\n",
       "    </tr>\n",
       "    <tr>\n",
       "      <th>Date</th>\n",
       "      <th></th>\n",
       "      <th></th>\n",
       "      <th></th>\n",
       "      <th></th>\n",
       "      <th></th>\n",
       "      <th></th>\n",
       "      <th></th>\n",
       "      <th></th>\n",
       "      <th></th>\n",
       "      <th></th>\n",
       "      <th></th>\n",
       "      <th></th>\n",
       "      <th></th>\n",
       "      <th></th>\n",
       "      <th></th>\n",
       "      <th></th>\n",
       "      <th></th>\n",
       "      <th></th>\n",
       "      <th></th>\n",
       "      <th></th>\n",
       "      <th></th>\n",
       "      <th></th>\n",
       "      <th></th>\n",
       "      <th></th>\n",
       "      <th></th>\n",
       "      <th></th>\n",
       "      <th></th>\n",
       "      <th></th>\n",
       "      <th></th>\n",
       "      <th></th>\n",
       "      <th></th>\n",
       "      <th></th>\n",
       "      <th></th>\n",
       "      <th></th>\n",
       "      <th></th>\n",
       "      <th></th>\n",
       "      <th></th>\n",
       "      <th></th>\n",
       "      <th></th>\n",
       "    </tr>\n",
       "  </thead>\n",
       "  <tbody>\n",
       "    <tr>\n",
       "      <th>2017-06-01</th>\n",
       "      <td>0.0</td>\n",
       "      <td>0</td>\n",
       "      <td>0</td>\n",
       "      <td>0</td>\n",
       "      <td>0</td>\n",
       "      <td>0</td>\n",
       "      <td>0.0</td>\n",
       "      <td>0</td>\n",
       "      <td>0</td>\n",
       "      <td>0</td>\n",
       "      <td>0</td>\n",
       "      <td>0</td>\n",
       "      <td>0.0</td>\n",
       "      <td>0.0</td>\n",
       "      <td>0.0</td>\n",
       "      <td>0.0</td>\n",
       "      <td>0.0</td>\n",
       "      <td>0.0</td>\n",
       "      <td>0</td>\n",
       "      <td>0</td>\n",
       "      <td>0</td>\n",
       "      <td>0</td>\n",
       "      <td>0</td>\n",
       "      <td>0</td>\n",
       "      <td>0</td>\n",
       "      <td>0</td>\n",
       "      <td>0</td>\n",
       "      <td>0</td>\n",
       "      <td>1</td>\n",
       "      <td>0</td>\n",
       "      <td>0</td>\n",
       "      <td>0</td>\n",
       "      <td>0</td>\n",
       "      <td>0</td>\n",
       "      <td>0</td>\n",
       "      <td>0.0</td>\n",
       "      <td>0.0</td>\n",
       "      <td>0.0</td>\n",
       "      <td>0</td>\n",
       "    </tr>\n",
       "    <tr>\n",
       "      <th>2017-06-02</th>\n",
       "      <td>0.0</td>\n",
       "      <td>0</td>\n",
       "      <td>0</td>\n",
       "      <td>0</td>\n",
       "      <td>0</td>\n",
       "      <td>0</td>\n",
       "      <td>0.0</td>\n",
       "      <td>0</td>\n",
       "      <td>0</td>\n",
       "      <td>0</td>\n",
       "      <td>0</td>\n",
       "      <td>0</td>\n",
       "      <td>0.0</td>\n",
       "      <td>0.0</td>\n",
       "      <td>0.0</td>\n",
       "      <td>0.0</td>\n",
       "      <td>0.0</td>\n",
       "      <td>0.0</td>\n",
       "      <td>0</td>\n",
       "      <td>0</td>\n",
       "      <td>0</td>\n",
       "      <td>0</td>\n",
       "      <td>0</td>\n",
       "      <td>0</td>\n",
       "      <td>0</td>\n",
       "      <td>0</td>\n",
       "      <td>0</td>\n",
       "      <td>0</td>\n",
       "      <td>0</td>\n",
       "      <td>1</td>\n",
       "      <td>0</td>\n",
       "      <td>0</td>\n",
       "      <td>0</td>\n",
       "      <td>0</td>\n",
       "      <td>0</td>\n",
       "      <td>0.0</td>\n",
       "      <td>0.0</td>\n",
       "      <td>0.0</td>\n",
       "      <td>0</td>\n",
       "    </tr>\n",
       "  </tbody>\n",
       "</table>\n",
       "</div>"
      ],
      "text/plain": [
       "            Average Viewers  Chat Messages  ...  Total_Earnings  streak\n",
       "Date                                        ...                        \n",
       "2017-06-01              0.0              0  ...             0.0       0\n",
       "2017-06-02              0.0              0  ...             0.0       0\n",
       "\n",
       "[2 rows x 39 columns]"
      ]
     },
     "execution_count": 79,
     "metadata": {
      "tags": []
     },
     "output_type": "execute_result"
    }
   ],
   "source": [
    "twitch_wrangled_df = wrangle_starkells_data(twitch_orginal, donation_orginal)\n",
    "print(twitch_wrangled_df.shape)\n",
    "twitch_wrangled_df.head(2)"
   ]
  },
  {
   "cell_type": "code",
   "execution_count": 80,
   "metadata": {
    "colab": {
     "base_uri": "https://localhost:8080/",
     "height": 697
    },
    "colab_type": "code",
    "id": "vLOLpquA3imO",
    "outputId": "e92ee5a8-5dc1-4946-93ae-2d33e43fea4f"
   },
   "outputs": [
    {
     "data": {
      "text/plain": [
       "Average Viewers                0\n",
       "Chat Messages                  0\n",
       "Chatters                       0\n",
       "Clip Views                     0\n",
       "Clips Created                  0\n",
       "Follows                        0\n",
       "Hosts and Raids Viewers (%)    0\n",
       "Live Views                     0\n",
       "Max Viewers                    0\n",
       "Minutes Watched                0\n",
       "Minutes Streamed               0\n",
       "Unique Viewers                 0\n",
       "Sub Revenue                    0\n",
       "Prime Revenue                  0\n",
       "Gifted Subs Revenue            0\n",
       "Bits Revenue                   0\n",
       "Ad Revenue                     0\n",
       "Extensions Revenue             0\n",
       "Bounties Revenue               0\n",
       "Prime Subs                     0\n",
       "Total Paid Subs                0\n",
       "Tier 1 subs                    0\n",
       "Tier 2 subs                    0\n",
       "Tier 3 subs                    0\n",
       "Total Gifted Subs              0\n",
       "Gifted Tier 1 subs             0\n",
       "Gifted Tier 2 subs             0\n",
       "Gifted Tier 3 subs             0\n",
       "day_of_week_1                  0\n",
       "day_of_week_2                  0\n",
       "day_of_week_3                  0\n",
       "day_of_week_4                  0\n",
       "day_of_week_5                  0\n",
       "day_of_week_6                  0\n",
       "day_of_week_7                  0\n",
       "Total_Sub_Revenue              0\n",
       "donations                      0\n",
       "Total_Earnings                 0\n",
       "streak                         0\n",
       "dtype: int64"
      ]
     },
     "execution_count": 80,
     "metadata": {
      "tags": []
     },
     "output_type": "execute_result"
    }
   ],
   "source": [
    "twitch_wrangled_df.isnull().sum()"
   ]
  },
  {
   "cell_type": "code",
   "execution_count": null,
   "metadata": {
    "colab": {},
    "colab_type": "code",
    "id": "Sb5SbU17DCoV"
   },
   "outputs": [],
   "source": []
  },
  {
   "cell_type": "code",
   "execution_count": 81,
   "metadata": {
    "colab": {
     "base_uri": "https://localhost:8080/",
     "height": 368
    },
    "colab_type": "code",
    "id": "m1tF-LERmpQZ",
    "outputId": "e8a0de8e-cc84-4d15-d467-cf63cfc6920b"
   },
   "outputs": [
    {
     "data": {
      "text/html": [
       "<div>\n",
       "<style scoped>\n",
       "    .dataframe tbody tr th:only-of-type {\n",
       "        vertical-align: middle;\n",
       "    }\n",
       "\n",
       "    .dataframe tbody tr th {\n",
       "        vertical-align: top;\n",
       "    }\n",
       "\n",
       "    .dataframe thead th {\n",
       "        text-align: right;\n",
       "    }\n",
       "</style>\n",
       "<table border=\"1\" class=\"dataframe\">\n",
       "  <thead>\n",
       "    <tr style=\"text-align: right;\">\n",
       "      <th></th>\n",
       "      <th>Average Viewers</th>\n",
       "      <th>Chat Messages</th>\n",
       "      <th>Chatters</th>\n",
       "      <th>Clip Views</th>\n",
       "      <th>Clips Created</th>\n",
       "      <th>Follows</th>\n",
       "      <th>Hosts and Raids Viewers (%)</th>\n",
       "      <th>Live Views</th>\n",
       "      <th>Max Viewers</th>\n",
       "      <th>Minutes Watched</th>\n",
       "      <th>Minutes Streamed</th>\n",
       "      <th>Unique Viewers</th>\n",
       "      <th>Sub Revenue</th>\n",
       "      <th>Prime Revenue</th>\n",
       "      <th>Gifted Subs Revenue</th>\n",
       "      <th>Bits Revenue</th>\n",
       "      <th>Ad Revenue</th>\n",
       "      <th>Extensions Revenue</th>\n",
       "      <th>Bounties Revenue</th>\n",
       "      <th>Prime Subs</th>\n",
       "      <th>Total Paid Subs</th>\n",
       "      <th>Tier 1 subs</th>\n",
       "      <th>Tier 2 subs</th>\n",
       "      <th>Tier 3 subs</th>\n",
       "      <th>Total Gifted Subs</th>\n",
       "      <th>Gifted Tier 1 subs</th>\n",
       "      <th>Gifted Tier 2 subs</th>\n",
       "      <th>Gifted Tier 3 subs</th>\n",
       "      <th>day_of_week_1</th>\n",
       "      <th>day_of_week_2</th>\n",
       "      <th>day_of_week_3</th>\n",
       "      <th>day_of_week_4</th>\n",
       "      <th>day_of_week_5</th>\n",
       "      <th>day_of_week_6</th>\n",
       "      <th>day_of_week_7</th>\n",
       "      <th>Total_Sub_Revenue</th>\n",
       "      <th>donations</th>\n",
       "      <th>Total_Earnings</th>\n",
       "      <th>streak</th>\n",
       "    </tr>\n",
       "  </thead>\n",
       "  <tbody>\n",
       "    <tr>\n",
       "      <th>count</th>\n",
       "      <td>1171.000000</td>\n",
       "      <td>1171.000000</td>\n",
       "      <td>1171.000000</td>\n",
       "      <td>1171.000000</td>\n",
       "      <td>1171.000000</td>\n",
       "      <td>1171.000000</td>\n",
       "      <td>1171.000000</td>\n",
       "      <td>1171.000000</td>\n",
       "      <td>1171.000000</td>\n",
       "      <td>1171.000000</td>\n",
       "      <td>1171.000000</td>\n",
       "      <td>1171.000000</td>\n",
       "      <td>1171.000000</td>\n",
       "      <td>1171.000000</td>\n",
       "      <td>1171.000000</td>\n",
       "      <td>1171.000000</td>\n",
       "      <td>1171.000000</td>\n",
       "      <td>1171.000000</td>\n",
       "      <td>1171.000000</td>\n",
       "      <td>1171.000000</td>\n",
       "      <td>1171.000000</td>\n",
       "      <td>1171.000000</td>\n",
       "      <td>1171.000000</td>\n",
       "      <td>1171.000000</td>\n",
       "      <td>1171.000000</td>\n",
       "      <td>1171.000000</td>\n",
       "      <td>1171.000000</td>\n",
       "      <td>1171.000000</td>\n",
       "      <td>1171.000000</td>\n",
       "      <td>1171.000000</td>\n",
       "      <td>1171.000000</td>\n",
       "      <td>1171.000000</td>\n",
       "      <td>1171.000000</td>\n",
       "      <td>1171.000000</td>\n",
       "      <td>1171.000000</td>\n",
       "      <td>1171.000000</td>\n",
       "      <td>1171.000000</td>\n",
       "      <td>1171.000000</td>\n",
       "      <td>1171.000000</td>\n",
       "    </tr>\n",
       "    <tr>\n",
       "      <th>mean</th>\n",
       "      <td>21.617276</td>\n",
       "      <td>1151.332195</td>\n",
       "      <td>32.520922</td>\n",
       "      <td>9.452605</td>\n",
       "      <td>1.600342</td>\n",
       "      <td>6.058070</td>\n",
       "      <td>5.183723</td>\n",
       "      <td>169.387703</td>\n",
       "      <td>38.640478</td>\n",
       "      <td>4812.817250</td>\n",
       "      <td>168.687447</td>\n",
       "      <td>111.516652</td>\n",
       "      <td>2.173386</td>\n",
       "      <td>0.560363</td>\n",
       "      <td>4.760636</td>\n",
       "      <td>6.448856</td>\n",
       "      <td>0.010808</td>\n",
       "      <td>0.003450</td>\n",
       "      <td>0.036721</td>\n",
       "      <td>0.224594</td>\n",
       "      <td>0.841161</td>\n",
       "      <td>0.751494</td>\n",
       "      <td>0.086251</td>\n",
       "      <td>0.003416</td>\n",
       "      <td>2.005978</td>\n",
       "      <td>1.997438</td>\n",
       "      <td>0.005978</td>\n",
       "      <td>0.002562</td>\n",
       "      <td>0.143467</td>\n",
       "      <td>0.143467</td>\n",
       "      <td>0.142613</td>\n",
       "      <td>0.142613</td>\n",
       "      <td>0.142613</td>\n",
       "      <td>0.142613</td>\n",
       "      <td>0.142613</td>\n",
       "      <td>13.957499</td>\n",
       "      <td>5.439155</td>\n",
       "      <td>19.396653</td>\n",
       "      <td>13.006832</td>\n",
       "    </tr>\n",
       "    <tr>\n",
       "      <th>std</th>\n",
       "      <td>30.188681</td>\n",
       "      <td>1197.929623</td>\n",
       "      <td>26.555541</td>\n",
       "      <td>27.733810</td>\n",
       "      <td>2.413806</td>\n",
       "      <td>15.492652</td>\n",
       "      <td>7.412363</td>\n",
       "      <td>184.691959</td>\n",
       "      <td>57.142345</td>\n",
       "      <td>5797.838972</td>\n",
       "      <td>146.385429</td>\n",
       "      <td>122.997020</td>\n",
       "      <td>2.783492</td>\n",
       "      <td>1.304687</td>\n",
       "      <td>14.385364</td>\n",
       "      <td>30.591884</td>\n",
       "      <td>0.042316</td>\n",
       "      <td>0.084265</td>\n",
       "      <td>1.256580</td>\n",
       "      <td>0.522921</td>\n",
       "      <td>1.010397</td>\n",
       "      <td>0.956617</td>\n",
       "      <td>0.312542</td>\n",
       "      <td>0.058371</td>\n",
       "      <td>6.033876</td>\n",
       "      <td>6.026082</td>\n",
       "      <td>0.077118</td>\n",
       "      <td>0.050572</td>\n",
       "      <td>0.350698</td>\n",
       "      <td>0.350698</td>\n",
       "      <td>0.349827</td>\n",
       "      <td>0.349827</td>\n",
       "      <td>0.349827</td>\n",
       "      <td>0.349827</td>\n",
       "      <td>0.349827</td>\n",
       "      <td>37.722930</td>\n",
       "      <td>31.685481</td>\n",
       "      <td>54.187911</td>\n",
       "      <td>20.357782</td>\n",
       "    </tr>\n",
       "    <tr>\n",
       "      <th>min</th>\n",
       "      <td>0.000000</td>\n",
       "      <td>0.000000</td>\n",
       "      <td>0.000000</td>\n",
       "      <td>0.000000</td>\n",
       "      <td>0.000000</td>\n",
       "      <td>0.000000</td>\n",
       "      <td>0.000000</td>\n",
       "      <td>0.000000</td>\n",
       "      <td>0.000000</td>\n",
       "      <td>0.000000</td>\n",
       "      <td>0.000000</td>\n",
       "      <td>0.000000</td>\n",
       "      <td>0.000000</td>\n",
       "      <td>0.000000</td>\n",
       "      <td>0.000000</td>\n",
       "      <td>0.000000</td>\n",
       "      <td>0.000000</td>\n",
       "      <td>0.000000</td>\n",
       "      <td>0.000000</td>\n",
       "      <td>0.000000</td>\n",
       "      <td>-1.000000</td>\n",
       "      <td>-1.000000</td>\n",
       "      <td>0.000000</td>\n",
       "      <td>0.000000</td>\n",
       "      <td>0.000000</td>\n",
       "      <td>0.000000</td>\n",
       "      <td>0.000000</td>\n",
       "      <td>0.000000</td>\n",
       "      <td>0.000000</td>\n",
       "      <td>0.000000</td>\n",
       "      <td>0.000000</td>\n",
       "      <td>0.000000</td>\n",
       "      <td>0.000000</td>\n",
       "      <td>0.000000</td>\n",
       "      <td>0.000000</td>\n",
       "      <td>0.000000</td>\n",
       "      <td>0.000000</td>\n",
       "      <td>0.000000</td>\n",
       "      <td>0.000000</td>\n",
       "    </tr>\n",
       "    <tr>\n",
       "      <th>25%</th>\n",
       "      <td>0.000000</td>\n",
       "      <td>21.500000</td>\n",
       "      <td>2.000000</td>\n",
       "      <td>0.000000</td>\n",
       "      <td>0.000000</td>\n",
       "      <td>0.000000</td>\n",
       "      <td>0.000000</td>\n",
       "      <td>0.000000</td>\n",
       "      <td>0.000000</td>\n",
       "      <td>0.000000</td>\n",
       "      <td>0.000000</td>\n",
       "      <td>0.000000</td>\n",
       "      <td>0.000000</td>\n",
       "      <td>0.000000</td>\n",
       "      <td>0.000000</td>\n",
       "      <td>0.000000</td>\n",
       "      <td>0.000000</td>\n",
       "      <td>0.000000</td>\n",
       "      <td>0.000000</td>\n",
       "      <td>0.000000</td>\n",
       "      <td>0.000000</td>\n",
       "      <td>0.000000</td>\n",
       "      <td>0.000000</td>\n",
       "      <td>0.000000</td>\n",
       "      <td>0.000000</td>\n",
       "      <td>0.000000</td>\n",
       "      <td>0.000000</td>\n",
       "      <td>0.000000</td>\n",
       "      <td>0.000000</td>\n",
       "      <td>0.000000</td>\n",
       "      <td>0.000000</td>\n",
       "      <td>0.000000</td>\n",
       "      <td>0.000000</td>\n",
       "      <td>0.000000</td>\n",
       "      <td>0.000000</td>\n",
       "      <td>0.030750</td>\n",
       "      <td>0.000000</td>\n",
       "      <td>0.090000</td>\n",
       "      <td>0.000000</td>\n",
       "    </tr>\n",
       "    <tr>\n",
       "      <th>50%</th>\n",
       "      <td>23.070000</td>\n",
       "      <td>852.000000</td>\n",
       "      <td>33.000000</td>\n",
       "      <td>4.000000</td>\n",
       "      <td>1.000000</td>\n",
       "      <td>2.000000</td>\n",
       "      <td>2.510000</td>\n",
       "      <td>154.000000</td>\n",
       "      <td>34.000000</td>\n",
       "      <td>4058.000000</td>\n",
       "      <td>178.000000</td>\n",
       "      <td>100.000000</td>\n",
       "      <td>2.035000</td>\n",
       "      <td>0.000000</td>\n",
       "      <td>0.000000</td>\n",
       "      <td>0.000000</td>\n",
       "      <td>0.000000</td>\n",
       "      <td>0.000000</td>\n",
       "      <td>0.000000</td>\n",
       "      <td>0.000000</td>\n",
       "      <td>1.000000</td>\n",
       "      <td>0.000000</td>\n",
       "      <td>0.000000</td>\n",
       "      <td>0.000000</td>\n",
       "      <td>0.000000</td>\n",
       "      <td>0.000000</td>\n",
       "      <td>0.000000</td>\n",
       "      <td>0.000000</td>\n",
       "      <td>0.000000</td>\n",
       "      <td>0.000000</td>\n",
       "      <td>0.000000</td>\n",
       "      <td>0.000000</td>\n",
       "      <td>0.000000</td>\n",
       "      <td>0.000000</td>\n",
       "      <td>0.000000</td>\n",
       "      <td>3.545500</td>\n",
       "      <td>0.000000</td>\n",
       "      <td>4.590000</td>\n",
       "      <td>3.000000</td>\n",
       "    </tr>\n",
       "    <tr>\n",
       "      <th>75%</th>\n",
       "      <td>29.745000</td>\n",
       "      <td>1910.500000</td>\n",
       "      <td>53.000000</td>\n",
       "      <td>11.000000</td>\n",
       "      <td>2.000000</td>\n",
       "      <td>6.000000</td>\n",
       "      <td>7.705000</td>\n",
       "      <td>267.000000</td>\n",
       "      <td>48.000000</td>\n",
       "      <td>7088.500000</td>\n",
       "      <td>285.500000</td>\n",
       "      <td>170.000000</td>\n",
       "      <td>4.497500</td>\n",
       "      <td>0.000000</td>\n",
       "      <td>2.320000</td>\n",
       "      <td>1.520000</td>\n",
       "      <td>0.000000</td>\n",
       "      <td>0.000000</td>\n",
       "      <td>0.000000</td>\n",
       "      <td>0.000000</td>\n",
       "      <td>1.000000</td>\n",
       "      <td>1.000000</td>\n",
       "      <td>0.000000</td>\n",
       "      <td>0.000000</td>\n",
       "      <td>1.000000</td>\n",
       "      <td>1.000000</td>\n",
       "      <td>0.000000</td>\n",
       "      <td>0.000000</td>\n",
       "      <td>0.000000</td>\n",
       "      <td>0.000000</td>\n",
       "      <td>0.000000</td>\n",
       "      <td>0.000000</td>\n",
       "      <td>0.000000</td>\n",
       "      <td>0.000000</td>\n",
       "      <td>0.000000</td>\n",
       "      <td>12.127500</td>\n",
       "      <td>0.000000</td>\n",
       "      <td>14.402500</td>\n",
       "      <td>17.000000</td>\n",
       "    </tr>\n",
       "    <tr>\n",
       "      <th>max</th>\n",
       "      <td>603.940000</td>\n",
       "      <td>7537.000000</td>\n",
       "      <td>141.000000</td>\n",
       "      <td>743.000000</td>\n",
       "      <td>18.000000</td>\n",
       "      <td>358.000000</td>\n",
       "      <td>67.240000</td>\n",
       "      <td>1953.000000</td>\n",
       "      <td>875.000000</td>\n",
       "      <td>66715.000000</td>\n",
       "      <td>1197.000000</td>\n",
       "      <td>1448.000000</td>\n",
       "      <td>16.795000</td>\n",
       "      <td>12.475000</td>\n",
       "      <td>239.390000</td>\n",
       "      <td>576.710000</td>\n",
       "      <td>0.581000</td>\n",
       "      <td>2.400000</td>\n",
       "      <td>43.000000</td>\n",
       "      <td>5.000000</td>\n",
       "      <td>5.000000</td>\n",
       "      <td>5.000000</td>\n",
       "      <td>2.000000</td>\n",
       "      <td>1.000000</td>\n",
       "      <td>101.000000</td>\n",
       "      <td>101.000000</td>\n",
       "      <td>1.000000</td>\n",
       "      <td>1.000000</td>\n",
       "      <td>1.000000</td>\n",
       "      <td>1.000000</td>\n",
       "      <td>1.000000</td>\n",
       "      <td>1.000000</td>\n",
       "      <td>1.000000</td>\n",
       "      <td>1.000000</td>\n",
       "      <td>1.000000</td>\n",
       "      <td>588.365000</td>\n",
       "      <td>488.700000</td>\n",
       "      <td>672.210000</td>\n",
       "      <td>91.000000</td>\n",
       "    </tr>\n",
       "  </tbody>\n",
       "</table>\n",
       "</div>"
      ],
      "text/plain": [
       "       Average Viewers  Chat Messages  ...  Total_Earnings       streak\n",
       "count      1171.000000    1171.000000  ...     1171.000000  1171.000000\n",
       "mean         21.617276    1151.332195  ...       19.396653    13.006832\n",
       "std          30.188681    1197.929623  ...       54.187911    20.357782\n",
       "min           0.000000       0.000000  ...        0.000000     0.000000\n",
       "25%           0.000000      21.500000  ...        0.090000     0.000000\n",
       "50%          23.070000     852.000000  ...        4.590000     3.000000\n",
       "75%          29.745000    1910.500000  ...       14.402500    17.000000\n",
       "max         603.940000    7537.000000  ...      672.210000    91.000000\n",
       "\n",
       "[8 rows x 39 columns]"
      ]
     },
     "execution_count": 81,
     "metadata": {
      "tags": []
     },
     "output_type": "execute_result"
    }
   ],
   "source": [
    "twitch_wrangled_df.describe()"
   ]
  },
  {
   "cell_type": "code",
   "execution_count": null,
   "metadata": {
    "colab": {},
    "colab_type": "code",
    "id": "OB1EPZrGclVq"
   },
   "outputs": [],
   "source": []
  },
  {
   "cell_type": "code",
   "execution_count": 115,
   "metadata": {
    "colab": {},
    "colab_type": "code",
    "id": "IKFaLo5XI1Ti"
   },
   "outputs": [],
   "source": [
    "twitch_wrangled_df[\"Total_Earnings\"] = twitch_wrangled_df[\"Total_Sub_Revenue\"] + \\\n",
    "twitch_wrangled_df[\"donations\"]"
   ]
  },
  {
   "cell_type": "code",
   "execution_count": 116,
   "metadata": {
    "colab": {
     "base_uri": "https://localhost:8080/",
     "height": 408
    },
    "colab_type": "code",
    "id": "-OP-BnkyJNPZ",
    "outputId": "d45a5e6b-fd86-40b5-a5c7-3045c524c4d3"
   },
   "outputs": [
    {
     "data": {
      "text/html": [
       "<div>\n",
       "<style scoped>\n",
       "    .dataframe tbody tr th:only-of-type {\n",
       "        vertical-align: middle;\n",
       "    }\n",
       "\n",
       "    .dataframe tbody tr th {\n",
       "        vertical-align: top;\n",
       "    }\n",
       "\n",
       "    .dataframe thead th {\n",
       "        text-align: right;\n",
       "    }\n",
       "</style>\n",
       "<table border=\"1\" class=\"dataframe\">\n",
       "  <thead>\n",
       "    <tr style=\"text-align: right;\">\n",
       "      <th></th>\n",
       "      <th>Average Viewers</th>\n",
       "      <th>Chat Messages</th>\n",
       "      <th>Chatters</th>\n",
       "      <th>Clip Views</th>\n",
       "      <th>Clips Created</th>\n",
       "      <th>Follows</th>\n",
       "      <th>Hosts and Raids Viewers (%)</th>\n",
       "      <th>Live Views</th>\n",
       "      <th>Max Viewers</th>\n",
       "      <th>Minutes Watched</th>\n",
       "      <th>Minutes Streamed</th>\n",
       "      <th>Unique Viewers</th>\n",
       "      <th>Sub Revenue</th>\n",
       "      <th>Prime Revenue</th>\n",
       "      <th>Gifted Subs Revenue</th>\n",
       "      <th>Bits Revenue</th>\n",
       "      <th>Ad Revenue</th>\n",
       "      <th>Extensions Revenue</th>\n",
       "      <th>Bounties Revenue</th>\n",
       "      <th>Prime Subs</th>\n",
       "      <th>Total Paid Subs</th>\n",
       "      <th>Tier 1 subs</th>\n",
       "      <th>Tier 2 subs</th>\n",
       "      <th>Tier 3 subs</th>\n",
       "      <th>Total Gifted Subs</th>\n",
       "      <th>Gifted Tier 1 subs</th>\n",
       "      <th>Gifted Tier 2 subs</th>\n",
       "      <th>Gifted Tier 3 subs</th>\n",
       "      <th>day_of_week_1</th>\n",
       "      <th>day_of_week_2</th>\n",
       "      <th>day_of_week_3</th>\n",
       "      <th>day_of_week_4</th>\n",
       "      <th>day_of_week_5</th>\n",
       "      <th>day_of_week_6</th>\n",
       "      <th>day_of_week_7</th>\n",
       "      <th>Total_Sub_Revenue</th>\n",
       "      <th>donations</th>\n",
       "      <th>Total_Earnings</th>\n",
       "    </tr>\n",
       "    <tr>\n",
       "      <th>Date</th>\n",
       "      <th></th>\n",
       "      <th></th>\n",
       "      <th></th>\n",
       "      <th></th>\n",
       "      <th></th>\n",
       "      <th></th>\n",
       "      <th></th>\n",
       "      <th></th>\n",
       "      <th></th>\n",
       "      <th></th>\n",
       "      <th></th>\n",
       "      <th></th>\n",
       "      <th></th>\n",
       "      <th></th>\n",
       "      <th></th>\n",
       "      <th></th>\n",
       "      <th></th>\n",
       "      <th></th>\n",
       "      <th></th>\n",
       "      <th></th>\n",
       "      <th></th>\n",
       "      <th></th>\n",
       "      <th></th>\n",
       "      <th></th>\n",
       "      <th></th>\n",
       "      <th></th>\n",
       "      <th></th>\n",
       "      <th></th>\n",
       "      <th></th>\n",
       "      <th></th>\n",
       "      <th></th>\n",
       "      <th></th>\n",
       "      <th></th>\n",
       "      <th></th>\n",
       "      <th></th>\n",
       "      <th></th>\n",
       "      <th></th>\n",
       "      <th></th>\n",
       "    </tr>\n",
       "  </thead>\n",
       "  <tbody>\n",
       "    <tr>\n",
       "      <th>2017-06-01</th>\n",
       "      <td>0.0</td>\n",
       "      <td>0</td>\n",
       "      <td>0</td>\n",
       "      <td>0</td>\n",
       "      <td>0</td>\n",
       "      <td>0</td>\n",
       "      <td>0.0</td>\n",
       "      <td>0</td>\n",
       "      <td>0</td>\n",
       "      <td>0</td>\n",
       "      <td>0</td>\n",
       "      <td>0</td>\n",
       "      <td>0.0</td>\n",
       "      <td>0.0</td>\n",
       "      <td>0.0</td>\n",
       "      <td>0.0</td>\n",
       "      <td>0.0</td>\n",
       "      <td>0.0</td>\n",
       "      <td>0</td>\n",
       "      <td>0</td>\n",
       "      <td>0</td>\n",
       "      <td>0</td>\n",
       "      <td>0</td>\n",
       "      <td>0</td>\n",
       "      <td>0</td>\n",
       "      <td>0</td>\n",
       "      <td>0</td>\n",
       "      <td>0</td>\n",
       "      <td>1</td>\n",
       "      <td>0</td>\n",
       "      <td>0</td>\n",
       "      <td>0</td>\n",
       "      <td>0</td>\n",
       "      <td>0</td>\n",
       "      <td>0</td>\n",
       "      <td>0.0</td>\n",
       "      <td>0.0</td>\n",
       "      <td>0.0</td>\n",
       "    </tr>\n",
       "    <tr>\n",
       "      <th>2017-06-02</th>\n",
       "      <td>0.0</td>\n",
       "      <td>0</td>\n",
       "      <td>0</td>\n",
       "      <td>0</td>\n",
       "      <td>0</td>\n",
       "      <td>0</td>\n",
       "      <td>0.0</td>\n",
       "      <td>0</td>\n",
       "      <td>0</td>\n",
       "      <td>0</td>\n",
       "      <td>0</td>\n",
       "      <td>0</td>\n",
       "      <td>0.0</td>\n",
       "      <td>0.0</td>\n",
       "      <td>0.0</td>\n",
       "      <td>0.0</td>\n",
       "      <td>0.0</td>\n",
       "      <td>0.0</td>\n",
       "      <td>0</td>\n",
       "      <td>0</td>\n",
       "      <td>0</td>\n",
       "      <td>0</td>\n",
       "      <td>0</td>\n",
       "      <td>0</td>\n",
       "      <td>0</td>\n",
       "      <td>0</td>\n",
       "      <td>0</td>\n",
       "      <td>0</td>\n",
       "      <td>0</td>\n",
       "      <td>1</td>\n",
       "      <td>0</td>\n",
       "      <td>0</td>\n",
       "      <td>0</td>\n",
       "      <td>0</td>\n",
       "      <td>0</td>\n",
       "      <td>0.0</td>\n",
       "      <td>0.0</td>\n",
       "      <td>0.0</td>\n",
       "    </tr>\n",
       "    <tr>\n",
       "      <th>2017-06-03</th>\n",
       "      <td>0.0</td>\n",
       "      <td>0</td>\n",
       "      <td>0</td>\n",
       "      <td>0</td>\n",
       "      <td>0</td>\n",
       "      <td>0</td>\n",
       "      <td>0.0</td>\n",
       "      <td>0</td>\n",
       "      <td>0</td>\n",
       "      <td>0</td>\n",
       "      <td>0</td>\n",
       "      <td>0</td>\n",
       "      <td>0.0</td>\n",
       "      <td>0.0</td>\n",
       "      <td>0.0</td>\n",
       "      <td>0.0</td>\n",
       "      <td>0.0</td>\n",
       "      <td>0.0</td>\n",
       "      <td>0</td>\n",
       "      <td>0</td>\n",
       "      <td>0</td>\n",
       "      <td>0</td>\n",
       "      <td>0</td>\n",
       "      <td>0</td>\n",
       "      <td>0</td>\n",
       "      <td>0</td>\n",
       "      <td>0</td>\n",
       "      <td>0</td>\n",
       "      <td>0</td>\n",
       "      <td>0</td>\n",
       "      <td>1</td>\n",
       "      <td>0</td>\n",
       "      <td>0</td>\n",
       "      <td>0</td>\n",
       "      <td>0</td>\n",
       "      <td>0.0</td>\n",
       "      <td>0.0</td>\n",
       "      <td>0.0</td>\n",
       "    </tr>\n",
       "    <tr>\n",
       "      <th>2017-06-04</th>\n",
       "      <td>0.0</td>\n",
       "      <td>0</td>\n",
       "      <td>0</td>\n",
       "      <td>0</td>\n",
       "      <td>0</td>\n",
       "      <td>0</td>\n",
       "      <td>0.0</td>\n",
       "      <td>0</td>\n",
       "      <td>0</td>\n",
       "      <td>0</td>\n",
       "      <td>0</td>\n",
       "      <td>0</td>\n",
       "      <td>0.0</td>\n",
       "      <td>0.0</td>\n",
       "      <td>0.0</td>\n",
       "      <td>0.0</td>\n",
       "      <td>0.0</td>\n",
       "      <td>0.0</td>\n",
       "      <td>0</td>\n",
       "      <td>0</td>\n",
       "      <td>0</td>\n",
       "      <td>0</td>\n",
       "      <td>0</td>\n",
       "      <td>0</td>\n",
       "      <td>0</td>\n",
       "      <td>0</td>\n",
       "      <td>0</td>\n",
       "      <td>0</td>\n",
       "      <td>0</td>\n",
       "      <td>0</td>\n",
       "      <td>0</td>\n",
       "      <td>1</td>\n",
       "      <td>0</td>\n",
       "      <td>0</td>\n",
       "      <td>0</td>\n",
       "      <td>0.0</td>\n",
       "      <td>0.0</td>\n",
       "      <td>0.0</td>\n",
       "    </tr>\n",
       "    <tr>\n",
       "      <th>2017-06-05</th>\n",
       "      <td>0.0</td>\n",
       "      <td>0</td>\n",
       "      <td>0</td>\n",
       "      <td>0</td>\n",
       "      <td>0</td>\n",
       "      <td>0</td>\n",
       "      <td>0.0</td>\n",
       "      <td>0</td>\n",
       "      <td>0</td>\n",
       "      <td>0</td>\n",
       "      <td>0</td>\n",
       "      <td>0</td>\n",
       "      <td>0.0</td>\n",
       "      <td>0.0</td>\n",
       "      <td>0.0</td>\n",
       "      <td>0.0</td>\n",
       "      <td>0.0</td>\n",
       "      <td>0.0</td>\n",
       "      <td>0</td>\n",
       "      <td>0</td>\n",
       "      <td>0</td>\n",
       "      <td>0</td>\n",
       "      <td>0</td>\n",
       "      <td>0</td>\n",
       "      <td>0</td>\n",
       "      <td>0</td>\n",
       "      <td>0</td>\n",
       "      <td>0</td>\n",
       "      <td>0</td>\n",
       "      <td>0</td>\n",
       "      <td>0</td>\n",
       "      <td>0</td>\n",
       "      <td>1</td>\n",
       "      <td>0</td>\n",
       "      <td>0</td>\n",
       "      <td>0.0</td>\n",
       "      <td>0.0</td>\n",
       "      <td>0.0</td>\n",
       "    </tr>\n",
       "  </tbody>\n",
       "</table>\n",
       "</div>"
      ],
      "text/plain": [
       "            Average Viewers  Chat Messages  ...  donations  Total_Earnings\n",
       "Date                                        ...                           \n",
       "2017-06-01              0.0              0  ...        0.0             0.0\n",
       "2017-06-02              0.0              0  ...        0.0             0.0\n",
       "2017-06-03              0.0              0  ...        0.0             0.0\n",
       "2017-06-04              0.0              0  ...        0.0             0.0\n",
       "2017-06-05              0.0              0  ...        0.0             0.0\n",
       "\n",
       "[5 rows x 38 columns]"
      ]
     },
     "execution_count": 116,
     "metadata": {
      "tags": []
     },
     "output_type": "execute_result"
    }
   ],
   "source": [
    "twitch_wrangled_df.head()"
   ]
  },
  {
   "cell_type": "code",
   "execution_count": 117,
   "metadata": {
    "colab": {
     "base_uri": "https://localhost:8080/",
     "height": 34
    },
    "colab_type": "code",
    "id": "QWNb70FDJQ3s",
    "outputId": "6c9b2660-fee9-4150-f1b0-5a722a36073a"
   },
   "outputs": [
    {
     "data": {
      "text/plain": [
       "22713.481"
      ]
     },
     "execution_count": 117,
     "metadata": {
      "tags": []
     },
     "output_type": "execute_result"
    }
   ],
   "source": [
    "twitch_wrangled_df[\"Total_Earnings\"].sum()"
   ]
  },
  {
   "cell_type": "code",
   "execution_count": 156,
   "metadata": {
    "colab": {
     "base_uri": "https://localhost:8080/",
     "height": 714
    },
    "colab_type": "code",
    "id": "uzJZVZibYQY1",
    "outputId": "bd82b970-f3f0-47fa-edce-4909df8e45e3"
   },
   "outputs": [
    {
     "data": {
      "text/plain": [
       "Average Viewers                   0\n",
       "Chat Messages                     0\n",
       "Chatters                          0\n",
       "Clip Views                        0\n",
       "Clips Created                     0\n",
       "Follows                           0\n",
       "Hosts and Raids Viewers (%)       0\n",
       "Live Views                        0\n",
       "Max Viewers                       0\n",
       "Minutes Watched                   0\n",
       "Minutes Streamed                  0\n",
       "Unique Viewers                    0\n",
       "Sub Revenue                       0\n",
       "Prime Revenue                     0\n",
       "Gifted Subs Revenue               0\n",
       "Bits Revenue                      0\n",
       "Ad Revenue                        0\n",
       "Extensions Revenue                0\n",
       "Bounties Revenue                  0\n",
       "Prime Subs                        0\n",
       "Total Paid Subs                   0\n",
       "Tier 1 subs                       0\n",
       "Tier 2 subs                       0\n",
       "Tier 3 subs                       0\n",
       "Total Gifted Subs                 0\n",
       "Gifted Tier 1 subs                0\n",
       "Gifted Tier 2 subs                0\n",
       "Gifted Tier 3 subs                0\n",
       "day_of_week_1                     0\n",
       "day_of_week_2                     0\n",
       "day_of_week_3                     0\n",
       "day_of_week_4                     0\n",
       "day_of_week_5                     0\n",
       "day_of_week_6                     0\n",
       "day_of_week_7                     0\n",
       "Total_Sub_Revenue                 0\n",
       "donations                         0\n",
       "Total_Earnings                    0\n",
       "streak                         1171\n",
       "steak                             0\n",
       "dtype: int64"
      ]
     },
     "execution_count": 156,
     "metadata": {
      "tags": []
     },
     "output_type": "execute_result"
    }
   ],
   "source": [
    "twitch_wrangled_df.isnull().sum()"
   ]
  },
  {
   "cell_type": "code",
   "execution_count": null,
   "metadata": {
    "colab": {},
    "colab_type": "code",
    "id": "BmMo6IU9ZgoP"
   },
   "outputs": [],
   "source": []
  },
  {
   "cell_type": "code",
   "execution_count": null,
   "metadata": {
    "colab": {},
    "colab_type": "code",
    "id": "z5D-LkJvYWIg"
   },
   "outputs": [],
   "source": []
  },
  {
   "cell_type": "code",
   "execution_count": 106,
   "metadata": {
    "colab": {
     "base_uri": "https://localhost:8080/",
     "height": 170
    },
    "colab_type": "code",
    "id": "bNF5_oMKFwVo",
    "outputId": "aca2a10d-e6e7-43db-9490-36368ee362db"
   },
   "outputs": [
    {
     "data": {
      "text/plain": [
       "count    1171.000000\n",
       "mean     1151.332195\n",
       "std      1197.929623\n",
       "min         0.000000\n",
       "25%        21.500000\n",
       "50%       852.000000\n",
       "75%      1910.500000\n",
       "max      7537.000000\n",
       "Name: Chat Messages, dtype: float64"
      ]
     },
     "execution_count": 106,
     "metadata": {
      "tags": []
     },
     "output_type": "execute_result"
    }
   ],
   "source": [
    "twitch_wrangled_df[\"Chat Messages\"].describe()"
   ]
  },
  {
   "cell_type": "code",
   "execution_count": 113,
   "metadata": {
    "colab": {
     "base_uri": "https://localhost:8080/",
     "height": 773
    },
    "colab_type": "code",
    "id": "xVme6xt_Ggd_",
    "outputId": "b7e17956-0dcc-4aa8-bd14-4fe2100e9e04"
   },
   "outputs": [
    {
     "data": {
      "text/plain": [
       "<matplotlib.axes._subplots.AxesSubplot at 0x7f7efee43630>"
      ]
     },
     "execution_count": 113,
     "metadata": {
      "tags": []
     },
     "output_type": "execute_result"
    },
    {
     "data": {
      "image/png": "[encoded data removed]",
      "text/plain": [
       "<Figure size 2160x1296 with 1 Axes>"
      ]
     },
     "metadata": {
      "tags": []
     },
     "output_type": "display_data"
    }
   ],
   "source": [
    "# df3.plot(x='A', y='B')\n",
    "# fig, ax = plt.subplots(figsize = (8,8))\n",
    "twitch_wrangled_df.plot( y=\"Chat Messages\", figsize =(30,18))"
   ]
  },
  {
   "cell_type": "code",
   "execution_count": 125,
   "metadata": {
    "colab": {
     "base_uri": "https://localhost:8080/",
     "height": 350
    },
    "colab_type": "code",
    "id": "b-xPyY2oLgvi",
    "outputId": "6bd8f13d-7b0a-4dce-c7aa-06fe8f077463"
   },
   "outputs": [
    {
     "data": {
      "image/png": "[encoded data removed]",
      "text/plain": [
       "<Figure size 576x396 with 1 Axes>"
      ]
     },
     "metadata": {
      "tags": []
     },
     "output_type": "display_data"
    }
   ],
   "source": [
    "plt.scatter(twitch_wrangled_df[\"Total_Earnings\"],\n",
    "            twitch_wrangled_df[\"Chatters\"], alpha=.2)\n",
    "plt.show()"
   ]
  },
  {
   "cell_type": "code",
   "execution_count": 82,
   "metadata": {
    "colab": {
     "base_uri": "https://localhost:8080/",
     "height": 779
    },
    "colab_type": "code",
    "id": "-J4XmicZcxU8",
    "outputId": "62997bb7-8a9b-4a36-a916-a66231780d01"
   },
   "outputs": [
    {
     "data": {
      "text/plain": [
       "<matplotlib.axes._subplots.AxesSubplot at 0x7fbc64f320f0>"
      ]
     },
     "execution_count": 82,
     "metadata": {
      "tags": []
     },
     "output_type": "execute_result"
    },
    {
     "data": {
      "image/png": "[encoded data removed]",
      "text/plain": [
       "<Figure size 2160x1296 with 1 Axes>"
      ]
     },
     "metadata": {
      "tags": []
     },
     "output_type": "display_data"
    }
   ],
   "source": [
    "twitch_wrangled_df.plot( y=\"streak\", figsize =(30,18))"
   ]
  },
  {
   "cell_type": "code",
   "execution_count": null,
   "metadata": {
    "colab": {},
    "colab_type": "code",
    "id": "n5_7qkflde5m"
   },
   "outputs": [],
   "source": []
  },
  {
   "cell_type": "code",
   "execution_count": 83,
   "metadata": {
    "colab": {
     "base_uri": "https://localhost:8080/",
     "height": 204
    },
    "colab_type": "code",
    "id": "et-CYsjEdfRW",
    "outputId": "2dd8de0f-d8dc-4756-b2cd-4d78a9455ff3"
   },
   "outputs": [
    {
     "data": {
      "text/plain": [
       "Index(['Average Viewers', 'Chat Messages', 'Chatters', 'Clip Views',\n",
       "       'Clips Created', 'Follows', 'Hosts and Raids Viewers (%)', 'Live Views',\n",
       "       'Max Viewers', 'Minutes Watched', 'Minutes Streamed', 'Unique Viewers',\n",
       "       'Sub Revenue', 'Prime Revenue', 'Gifted Subs Revenue', 'Bits Revenue',\n",
       "       'Ad Revenue', 'Extensions Revenue', 'Bounties Revenue', 'Prime Subs',\n",
       "       'Total Paid Subs', 'Tier 1 subs', 'Tier 2 subs', 'Tier 3 subs',\n",
       "       'Total Gifted Subs', 'Gifted Tier 1 subs', 'Gifted Tier 2 subs',\n",
       "       'Gifted Tier 3 subs', 'day_of_week_1', 'day_of_week_2', 'day_of_week_3',\n",
       "       'day_of_week_4', 'day_of_week_5', 'day_of_week_6', 'day_of_week_7',\n",
       "       'Total_Sub_Revenue', 'donations', 'Total_Earnings', 'streak'],\n",
       "      dtype='object')"
      ]
     },
     "execution_count": 83,
     "metadata": {
      "tags": []
     },
     "output_type": "execute_result"
    }
   ],
   "source": [
    "twitch_wrangled_df.columns"
   ]
  },
  {
   "cell_type": "code",
   "execution_count": 109,
   "metadata": {
    "colab": {},
    "colab_type": "code",
    "id": "0fYhB8RZdfRa"
   },
   "outputs": [],
   "source": [
    "short_list = ['Average Viewers', 'Chat Messages', 'Chatters', 'Clip Views',\n",
    "       'Clips Created', 'Follows', 'Hosts and Raids Viewers (%)', 'Live Views',\n",
    "       'Max Viewers', 'Minutes Watched', 'Minutes Streamed', 'Unique Viewers',\n",
    "         'day_of_week_1', 'day_of_week_2', 'day_of_week_3',\n",
    "       'day_of_week_4', 'day_of_week_5', 'day_of_week_6', 'day_of_week_7',\n",
    "        'Total_Earnings', 'streak']"
   ]
  },
  {
   "cell_type": "code",
   "execution_count": 110,
   "metadata": {
    "colab": {
     "base_uri": "https://localhost:8080/",
     "height": 34
    },
    "colab_type": "code",
    "id": "Yspes-dZdfRc",
    "outputId": "123f5658-4105-4cb8-a7cc-14269130e2c6"
   },
   "outputs": [
    {
     "data": {
      "text/plain": [
       "(1171, 21)"
      ]
     },
     "execution_count": 110,
     "metadata": {
      "tags": []
     },
     "output_type": "execute_result"
    }
   ],
   "source": [
    "twitch_ana_subset01_df = twitch_wrangled_df[short_list]\n",
    "twitch_ana_subset01_df.shape"
   ]
  },
  {
   "cell_type": "code",
   "execution_count": 111,
   "metadata": {
    "colab": {
     "base_uri": "https://localhost:8080/",
     "height": 136
    },
    "colab_type": "code",
    "id": "yfP_AGG2dfRe",
    "outputId": "abb07a59-e2fd-42b7-b6b4-b0425f55630c"
   },
   "outputs": [
    {
     "data": {
      "text/plain": [
       "Index(['Average Viewers', 'Chat Messages', 'Chatters', 'Clip Views',\n",
       "       'Clips Created', 'Follows', 'Hosts and Raids Viewers (%)', 'Live Views',\n",
       "       'Max Viewers', 'Minutes Watched', 'Minutes Streamed', 'Unique Viewers',\n",
       "       'day_of_week_1', 'day_of_week_2', 'day_of_week_3', 'day_of_week_4',\n",
       "       'day_of_week_5', 'day_of_week_6', 'day_of_week_7', 'Total_Earnings',\n",
       "       'streak'],\n",
       "      dtype='object')"
      ]
     },
     "execution_count": 111,
     "metadata": {
      "tags": []
     },
     "output_type": "execute_result"
    }
   ],
   "source": [
    "twitch_ana_subset01_df.columns"
   ]
  },
  {
   "cell_type": "code",
   "execution_count": null,
   "metadata": {
    "colab": {},
    "colab_type": "code",
    "id": "WDGBqzgpdfRf"
   },
   "outputs": [],
   "source": []
  },
  {
   "cell_type": "code",
   "execution_count": 112,
   "metadata": {
    "colab": {},
    "colab_type": "code",
    "id": "AEd6jIF2dfRh"
   },
   "outputs": [],
   "source": [
    "corr_matrix = twitch_ana_subset01_df.corr()"
   ]
  },
  {
   "cell_type": "code",
   "execution_count": 113,
   "metadata": {
    "colab": {
     "base_uri": "https://localhost:8080/",
     "height": 391
    },
    "colab_type": "code",
    "id": "Sp9FScPMdfRk",
    "outputId": "e89c3fd7-1544-46a3-9ce4-41977959c7bd"
   },
   "outputs": [
    {
     "data": {
      "text/plain": [
       "Total_Earnings                 1.000000\n",
       "Chatters                       0.335490\n",
       "Minutes Watched                0.303905\n",
       "Chat Messages                  0.299998\n",
       "Unique Viewers                 0.282526\n",
       "Live Views                     0.280029\n",
       "Clips Created                  0.263038\n",
       "Hosts and Raids Viewers (%)    0.239031\n",
       "Minutes Streamed               0.234599\n",
       "Max Viewers                    0.217109\n",
       "Average Viewers                0.199043\n",
       "day_of_week_3                  0.106567\n",
       "day_of_week_2                  0.090011\n",
       "day_of_week_1                  0.054777\n",
       "Clip Views                     0.046441\n",
       "Follows                        0.035481\n",
       "streak                         0.015239\n",
       "day_of_week_6                 -0.041254\n",
       "day_of_week_7                 -0.061807\n",
       "day_of_week_5                 -0.068609\n",
       "day_of_week_4                 -0.080047\n",
       "Name: Total_Earnings, dtype: float64"
      ]
     },
     "execution_count": 113,
     "metadata": {
      "tags": []
     },
     "output_type": "execute_result"
    }
   ],
   "source": [
    "corr_matrix[\"Total_Earnings\"].sort_values(ascending=False)"
   ]
  },
  {
   "cell_type": "code",
   "execution_count": 114,
   "metadata": {
    "colab": {
     "base_uri": "https://localhost:8080/",
     "height": 367
    },
    "colab_type": "code",
    "id": "j9Pg5vKmdfRl",
    "outputId": "94641061-09be-4695-9824-fb177549186e"
   },
   "outputs": [
    {
     "data": {
      "text/plain": [
       "<matplotlib.axes._subplots.AxesSubplot at 0x7fbc64be6668>"
      ]
     },
     "execution_count": 114,
     "metadata": {
      "tags": []
     },
     "output_type": "execute_result"
    },
    {
     "data": {
      "image/png": "[encoded data removed]",
      "text/plain": [
       "<Figure size 576x396 with 1 Axes>"
      ]
     },
     "metadata": {
      "tags": []
     },
     "output_type": "display_data"
    }
   ],
   "source": [
    "corr_matrix[\"Total_Earnings\"].sort_values().plot.barh()"
   ]
  },
  {
   "cell_type": "markdown",
   "metadata": {
    "colab_type": "text",
    "id": "d3hiUPy4iUiB"
   },
   "source": [
    "## Initial BASELINE METRIC!!!"
   ]
  },
  {
   "cell_type": "code",
   "execution_count": 116,
   "metadata": {
    "colab": {
     "base_uri": "https://localhost:8080/",
     "height": 34
    },
    "colab_type": "code",
    "id": "XG-we9B-fdmv",
    "outputId": "e20feae1-2a47-40d1-8fa6-109c695c2823"
   },
   "outputs": [
    {
     "data": {
      "text/plain": [
       "19.39665328778817"
      ]
     },
     "execution_count": 116,
     "metadata": {
      "tags": []
     },
     "output_type": "execute_result"
    }
   ],
   "source": [
    "# what is the baseline Earnings?\n",
    "twitch_wrangled_df[\"Total_Earnings\"].mean()"
   ]
  },
  {
   "cell_type": "code",
   "execution_count": 117,
   "metadata": {
    "colab": {
     "base_uri": "https://localhost:8080/",
     "height": 34
    },
    "colab_type": "code",
    "id": "kZvscXtHg0MJ",
    "outputId": "40a0e5fd-cefe-4ce7-e3f8-bed4079d0434"
   },
   "outputs": [
    {
     "data": {
      "text/plain": [
       "19.39665328778817"
      ]
     },
     "execution_count": 117,
     "metadata": {
      "tags": []
     },
     "output_type": "execute_result"
    }
   ],
   "source": [
    "guess_earning = twitch_wrangled_df[\"Total_Earnings\"].mean()\n",
    "guess_earning"
   ]
  },
  {
   "cell_type": "code",
   "execution_count": 119,
   "metadata": {
    "colab": {
     "base_uri": "https://localhost:8080/",
     "height": 136
    },
    "colab_type": "code",
    "id": "gLGBH4mchqnG",
    "outputId": "e5dd34ed-b750-45fe-e23e-e9649685d58b"
   },
   "outputs": [
    {
     "data": {
      "text/plain": [
       "Date\n",
       "2020-08-10    16.941653\n",
       "2020-08-11    19.396653\n",
       "2020-08-12    16.996153\n",
       "2020-08-13    13.736153\n",
       "2020-08-14    15.936653\n",
       "Name: Total_Earnings, dtype: float64"
      ]
     },
     "execution_count": 119,
     "metadata": {
      "tags": []
     },
     "output_type": "execute_result"
    }
   ],
   "source": [
    "errors = guess_earning - twitch_wrangled_df[\"Total_Earnings\"]\n",
    "errors.tail()"
   ]
  },
  {
   "cell_type": "code",
   "execution_count": 120,
   "metadata": {
    "colab": {
     "base_uri": "https://localhost:8080/",
     "height": 34
    },
    "colab_type": "code",
    "id": "1VM6CVPziB7f",
    "outputId": "2b6d1bbb-eede-4c8b-e0a4-b8cc1714aa92"
   },
   "outputs": [
    {
     "data": {
      "text/plain": [
       "24.372127146869186"
      ]
     },
     "execution_count": 120,
     "metadata": {
      "tags": []
     },
     "output_type": "execute_result"
    }
   ],
   "source": [
    "# Get the MAE\n",
    "mean_absolute_error = errors.abs().mean()\n",
    "mean_absolute_error"
   ]
  }
 ],
 "metadata": {
  "colab": {
   "authorship_tag": "ABX9TyMuN5m7h++SANd7xKPUmyIL",
   "include_colab_link": true,
   "name": "ERLE_GRANGERII_UNIT02_Exploration_Cleaning_FeatureENG.ipynb",
   "provenance": [],
   "toc_visible": true
  },
  "kernelspec": {
   "display_name": "Python 3",
   "language": "python",
   "name": "python3"
  },
  "language_info": {
   "codemirror_mode": {
    "name": "ipython",
    "version": 3
   },
   "file_extension": ".py",
   "mimetype": "text/x-python",
   "name": "python",
   "nbconvert_exporter": "python",
   "pygments_lexer": "ipython3",
   "version": "3.8.3"
  },
  "widgets": {
   "application/vnd.jupyter.widget-state+json": {
    "07758bfc8f644b6fa794b71be2f58083": {
     "model_module": "@jupyter-widgets/base",
     "model_name": "LayoutModel",
     "state": {
      "_model_module": "@jupyter-widgets/base",
      "_model_module_version": "1.2.0",
      "_model_name": "LayoutModel",
      "_view_count": null,
      "_view_module": "@jupyter-widgets/base",
      "_view_module_version": "1.2.0",
      "_view_name": "LayoutView",
      "align_content": null,
      "align_items": null,
      "align_self": null,
      "border": null,
      "bottom": null,
      "display": null,
      "flex": null,
      "flex_flow": null,
      "grid_area": null,
      "grid_auto_columns": null,
      "grid_auto_flow": null,
      "grid_auto_rows": null,
      "grid_column": null,
      "grid_gap": null,
      "grid_row": null,
      "grid_template_areas": null,
      "grid_template_columns": null,
      "grid_template_rows": null,
      "height": null,
      "justify_content": null,
      "justify_items": null,
      "left": null,
      "margin": null,
      "max_height": null,
      "max_width": null,
      "min_height": null,
      "min_width": null,
      "object_fit": null,
      "object_position": null,
      "order": null,
      "overflow": null,
      "overflow_x": null,
      "overflow_y": null,
      "padding": null,
      "right": null,
      "top": null,
      "visibility": null,
      "width": null
     }
    },
    "17c3681e385c44ccba0bfeb3f6d8f13f": {
     "model_module": "@jupyter-widgets/controls",
     "model_name": "ProgressStyleModel",
     "state": {
      "_model_module": "@jupyter-widgets/controls",
      "_model_module_version": "1.5.0",
      "_model_name": "ProgressStyleModel",
      "_view_count": null,
      "_view_module": "@jupyter-widgets/base",
      "_view_module_version": "1.2.0",
      "_view_name": "StyleView",
      "bar_color": null,
      "description_width": "initial"
     }
    },
    "232ce00b894d4d3a84e579e96f8b5445": {
     "model_module": "@jupyter-widgets/controls",
     "model_name": "HTMLModel",
     "state": {
      "_dom_classes": [],
      "_model_module": "@jupyter-widgets/controls",
      "_model_module_version": "1.5.0",
      "_model_name": "HTMLModel",
      "_view_count": null,
      "_view_module": "@jupyter-widgets/controls",
      "_view_module_version": "1.5.0",
      "_view_name": "HTMLView",
      "description": "",
      "description_tooltip": null,
      "layout": "IPY_MODEL_41f15bc221794ce8b8e52509fb51cc94",
      "placeholder": "​",
      "style": "IPY_MODEL_da4a1205d7cd4ce7ad85202a02fc41a0",
      "value": " 41/41 [00:00&lt;00:00, 49.69it/s, Completed]"
     }
    },
    "23e8eabf85b24ca8a28b12caa997530a": {
     "model_module": "@jupyter-widgets/controls",
     "model_name": "HBoxModel",
     "state": {
      "_dom_classes": [],
      "_model_module": "@jupyter-widgets/controls",
      "_model_module_version": "1.5.0",
      "_model_name": "HBoxModel",
      "_view_count": null,
      "_view_module": "@jupyter-widgets/controls",
      "_view_module_version": "1.5.0",
      "_view_name": "HBoxView",
      "box_style": "",
      "children": [
       "IPY_MODEL_caf8190eab014fccb585e4000bb5cca6",
       "IPY_MODEL_993cc5ef852549589f2cb7e1d45e5be7"
      ],
      "layout": "IPY_MODEL_c0979a334ea04a75b6c7c9ed1033c074"
     }
    },
    "2d72769cd08a474b88a3c695a97bb540": {
     "model_module": "@jupyter-widgets/controls",
     "model_name": "HTMLModel",
     "state": {
      "_dom_classes": [],
      "_model_module": "@jupyter-widgets/controls",
      "_model_module_version": "1.5.0",
      "_model_name": "HTMLModel",
      "_view_count": null,
      "_view_module": "@jupyter-widgets/controls",
      "_view_module_version": "1.5.0",
      "_view_name": "HTMLView",
      "description": "",
      "description_tooltip": null,
      "layout": "IPY_MODEL_51f50fe6dbd246dda87bfac464c16856",
      "placeholder": "​",
      "style": "IPY_MODEL_4ced17fac8764ec7b80ea84e42ec88c2",
      "value": " 1/1 [00:01&lt;00:00,  1.04s/it]"
     }
    },
    "41f15bc221794ce8b8e52509fb51cc94": {
     "model_module": "@jupyter-widgets/base",
     "model_name": "LayoutModel",
     "state": {
      "_model_module": "@jupyter-widgets/base",
      "_model_module_version": "1.2.0",
      "_model_name": "LayoutModel",
      "_view_count": null,
      "_view_module": "@jupyter-widgets/base",
      "_view_module_version": "1.2.0",
      "_view_name": "LayoutView",
      "align_content": null,
      "align_items": null,
      "align_self": null,
      "border": null,
      "bottom": null,
      "display": null,
      "flex": null,
      "flex_flow": null,
      "grid_area": null,
      "grid_auto_columns": null,
      "grid_auto_flow": null,
      "grid_auto_rows": null,
      "grid_column": null,
      "grid_gap": null,
      "grid_row": null,
      "grid_template_areas": null,
      "grid_template_columns": null,
      "grid_template_rows": null,
      "height": null,
      "justify_content": null,
      "justify_items": null,
      "left": null,
      "margin": null,
      "max_height": null,
      "max_width": null,
      "min_height": null,
      "min_width": null,
      "object_fit": null,
      "object_position": null,
      "order": null,
      "overflow": null,
      "overflow_x": null,
      "overflow_y": null,
      "padding": null,
      "right": null,
      "top": null,
      "visibility": null,
      "width": null
     }
    },
    "4389c5c079ee438badcd070c2b0acf90": {
     "model_module": "@jupyter-widgets/base",
     "model_name": "LayoutModel",
     "state": {
      "_model_module": "@jupyter-widgets/base",
      "_model_module_version": "1.2.0",
      "_model_name": "LayoutModel",
      "_view_count": null,
      "_view_module": "@jupyter-widgets/base",
      "_view_module_version": "1.2.0",
      "_view_name": "LayoutView",
      "align_content": null,
      "align_items": null,
      "align_self": null,
      "border": null,
      "bottom": null,
      "display": null,
      "flex": null,
      "flex_flow": null,
      "grid_area": null,
      "grid_auto_columns": null,
      "grid_auto_flow": null,
      "grid_auto_rows": null,
      "grid_column": null,
      "grid_gap": null,
      "grid_row": null,
      "grid_template_areas": null,
      "grid_template_columns": null,
      "grid_template_rows": null,
      "height": null,
      "justify_content": null,
      "justify_items": null,
      "left": null,
      "margin": null,
      "max_height": null,
      "max_width": null,
      "min_height": null,
      "min_width": null,
      "object_fit": null,
      "object_position": null,
      "order": null,
      "overflow": null,
      "overflow_x": null,
      "overflow_y": null,
      "padding": null,
      "right": null,
      "top": null,
      "visibility": null,
      "width": null
     }
    },
    "4390d0aa36b8402bac2698b35d30c8e5": {
     "model_module": "@jupyter-widgets/base",
     "model_name": "LayoutModel",
     "state": {
      "_model_module": "@jupyter-widgets/base",
      "_model_module_version": "1.2.0",
      "_model_name": "LayoutModel",
      "_view_count": null,
      "_view_module": "@jupyter-widgets/base",
      "_view_module_version": "1.2.0",
      "_view_name": "LayoutView",
      "align_content": null,
      "align_items": null,
      "align_self": null,
      "border": null,
      "bottom": null,
      "display": null,
      "flex": null,
      "flex_flow": null,
      "grid_area": null,
      "grid_auto_columns": null,
      "grid_auto_flow": null,
      "grid_auto_rows": null,
      "grid_column": null,
      "grid_gap": null,
      "grid_row": null,
      "grid_template_areas": null,
      "grid_template_columns": null,
      "grid_template_rows": null,
      "height": null,
      "justify_content": null,
      "justify_items": null,
      "left": null,
      "margin": null,
      "max_height": null,
      "max_width": null,
      "min_height": null,
      "min_width": null,
      "object_fit": null,
      "object_position": null,
      "order": null,
      "overflow": null,
      "overflow_x": null,
      "overflow_y": null,
      "padding": null,
      "right": null,
      "top": null,
      "visibility": null,
      "width": null
     }
    },
    "48b309daecf24ca0876f87c186aeb753": {
     "model_module": "@jupyter-widgets/controls",
     "model_name": "HBoxModel",
     "state": {
      "_dom_classes": [],
      "_model_module": "@jupyter-widgets/controls",
      "_model_module_version": "1.5.0",
      "_model_name": "HBoxModel",
      "_view_count": null,
      "_view_module": "@jupyter-widgets/controls",
      "_view_module_version": "1.5.0",
      "_view_name": "HBoxView",
      "box_style": "",
      "children": [
       "IPY_MODEL_5ce66d1f7cf64df9b2b549ae015b9d8b",
       "IPY_MODEL_2d72769cd08a474b88a3c695a97bb540"
      ],
      "layout": "IPY_MODEL_80d4b9d6b75349d99523c750dca12ce6"
     }
    },
    "4ced17fac8764ec7b80ea84e42ec88c2": {
     "model_module": "@jupyter-widgets/controls",
     "model_name": "DescriptionStyleModel",
     "state": {
      "_model_module": "@jupyter-widgets/controls",
      "_model_module_version": "1.5.0",
      "_model_name": "DescriptionStyleModel",
      "_view_count": null,
      "_view_module": "@jupyter-widgets/base",
      "_view_module_version": "1.2.0",
      "_view_name": "StyleView",
      "description_width": ""
     }
    },
    "51f50fe6dbd246dda87bfac464c16856": {
     "model_module": "@jupyter-widgets/base",
     "model_name": "LayoutModel",
     "state": {
      "_model_module": "@jupyter-widgets/base",
      "_model_module_version": "1.2.0",
      "_model_name": "LayoutModel",
      "_view_count": null,
      "_view_module": "@jupyter-widgets/base",
      "_view_module_version": "1.2.0",
      "_view_name": "LayoutView",
      "align_content": null,
      "align_items": null,
      "align_self": null,
      "border": null,
      "bottom": null,
      "display": null,
      "flex": null,
      "flex_flow": null,
      "grid_area": null,
      "grid_auto_columns": null,
      "grid_auto_flow": null,
      "grid_auto_rows": null,
      "grid_column": null,
      "grid_gap": null,
      "grid_row": null,
      "grid_template_areas": null,
      "grid_template_columns": null,
      "grid_template_rows": null,
      "height": null,
      "justify_content": null,
      "justify_items": null,
      "left": null,
      "margin": null,
      "max_height": null,
      "max_width": null,
      "min_height": null,
      "min_width": null,
      "object_fit": null,
      "object_position": null,
      "order": null,
      "overflow": null,
      "overflow_x": null,
      "overflow_y": null,
      "padding": null,
      "right": null,
      "top": null,
      "visibility": null,
      "width": null
     }
    },
    "5ce66d1f7cf64df9b2b549ae015b9d8b": {
     "model_module": "@jupyter-widgets/controls",
     "model_name": "FloatProgressModel",
     "state": {
      "_dom_classes": [],
      "_model_module": "@jupyter-widgets/controls",
      "_model_module_version": "1.5.0",
      "_model_name": "FloatProgressModel",
      "_view_count": null,
      "_view_module": "@jupyter-widgets/controls",
      "_view_module_version": "1.5.0",
      "_view_name": "ProgressView",
      "bar_style": "success",
      "description": "Render HTML: 100%",
      "description_tooltip": null,
      "layout": "IPY_MODEL_bcb4709c08cc4652bda2d015d61bdc42",
      "max": 1,
      "min": 0,
      "orientation": "horizontal",
      "style": "IPY_MODEL_17c3681e385c44ccba0bfeb3f6d8f13f",
      "value": 1
     }
    },
    "80d4b9d6b75349d99523c750dca12ce6": {
     "model_module": "@jupyter-widgets/base",
     "model_name": "LayoutModel",
     "state": {
      "_model_module": "@jupyter-widgets/base",
      "_model_module_version": "1.2.0",
      "_model_name": "LayoutModel",
      "_view_count": null,
      "_view_module": "@jupyter-widgets/base",
      "_view_module_version": "1.2.0",
      "_view_name": "LayoutView",
      "align_content": null,
      "align_items": null,
      "align_self": null,
      "border": null,
      "bottom": null,
      "display": null,
      "flex": null,
      "flex_flow": null,
      "grid_area": null,
      "grid_auto_columns": null,
      "grid_auto_flow": null,
      "grid_auto_rows": null,
      "grid_column": null,
      "grid_gap": null,
      "grid_row": null,
      "grid_template_areas": null,
      "grid_template_columns": null,
      "grid_template_rows": null,
      "height": null,
      "justify_content": null,
      "justify_items": null,
      "left": null,
      "margin": null,
      "max_height": null,
      "max_width": null,
      "min_height": null,
      "min_width": null,
      "object_fit": null,
      "object_position": null,
      "order": null,
      "overflow": null,
      "overflow_x": null,
      "overflow_y": null,
      "padding": null,
      "right": null,
      "top": null,
      "visibility": null,
      "width": null
     }
    },
    "993cc5ef852549589f2cb7e1d45e5be7": {
     "model_module": "@jupyter-widgets/controls",
     "model_name": "HTMLModel",
     "state": {
      "_dom_classes": [],
      "_model_module": "@jupyter-widgets/controls",
      "_model_module_version": "1.5.0",
      "_model_name": "HTMLModel",
      "_view_count": null,
      "_view_module": "@jupyter-widgets/controls",
      "_view_module_version": "1.5.0",
      "_view_name": "HTMLView",
      "description": "",
      "description_tooltip": null,
      "layout": "IPY_MODEL_07758bfc8f644b6fa794b71be2f58083",
      "placeholder": "​",
      "style": "IPY_MODEL_bb38615f439a4f21b1106c6d7f39e392",
      "value": " 1/1 [00:08&lt;00:00,  8.70s/it]"
     }
    },
    "995a0d6e40a948629c1e1811d4ed9fc2": {
     "model_module": "@jupyter-widgets/controls",
     "model_name": "HBoxModel",
     "state": {
      "_dom_classes": [],
      "_model_module": "@jupyter-widgets/controls",
      "_model_module_version": "1.5.0",
      "_model_name": "HBoxModel",
      "_view_count": null,
      "_view_module": "@jupyter-widgets/controls",
      "_view_module_version": "1.5.0",
      "_view_name": "HBoxView",
      "box_style": "",
      "children": [
       "IPY_MODEL_b88b2dcff19948369f7ba07e89b047f9",
       "IPY_MODEL_232ce00b894d4d3a84e579e96f8b5445"
      ],
      "layout": "IPY_MODEL_f7b88059947243e1affebac735895d47"
     }
    },
    "b214b669fd5044fe84e6664c98ee8da6": {
     "model_module": "@jupyter-widgets/controls",
     "model_name": "ProgressStyleModel",
     "state": {
      "_model_module": "@jupyter-widgets/controls",
      "_model_module_version": "1.5.0",
      "_model_name": "ProgressStyleModel",
      "_view_count": null,
      "_view_module": "@jupyter-widgets/base",
      "_view_module_version": "1.2.0",
      "_view_name": "StyleView",
      "bar_color": null,
      "description_width": "initial"
     }
    },
    "b88b2dcff19948369f7ba07e89b047f9": {
     "model_module": "@jupyter-widgets/controls",
     "model_name": "FloatProgressModel",
     "state": {
      "_dom_classes": [],
      "_model_module": "@jupyter-widgets/controls",
      "_model_module_version": "1.5.0",
      "_model_name": "FloatProgressModel",
      "_view_count": null,
      "_view_module": "@jupyter-widgets/controls",
      "_view_module_version": "1.5.0",
      "_view_name": "ProgressView",
      "bar_style": "success",
      "description": "Summarize dataset: 100%",
      "description_tooltip": null,
      "layout": "IPY_MODEL_4389c5c079ee438badcd070c2b0acf90",
      "max": 41,
      "min": 0,
      "orientation": "horizontal",
      "style": "IPY_MODEL_b214b669fd5044fe84e6664c98ee8da6",
      "value": 41
     }
    },
    "bb38615f439a4f21b1106c6d7f39e392": {
     "model_module": "@jupyter-widgets/controls",
     "model_name": "DescriptionStyleModel",
     "state": {
      "_model_module": "@jupyter-widgets/controls",
      "_model_module_version": "1.5.0",
      "_model_name": "DescriptionStyleModel",
      "_view_count": null,
      "_view_module": "@jupyter-widgets/base",
      "_view_module_version": "1.2.0",
      "_view_name": "StyleView",
      "description_width": ""
     }
    },
    "bcb4709c08cc4652bda2d015d61bdc42": {
     "model_module": "@jupyter-widgets/base",
     "model_name": "LayoutModel",
     "state": {
      "_model_module": "@jupyter-widgets/base",
      "_model_module_version": "1.2.0",
      "_model_name": "LayoutModel",
      "_view_count": null,
      "_view_module": "@jupyter-widgets/base",
      "_view_module_version": "1.2.0",
      "_view_name": "LayoutView",
      "align_content": null,
      "align_items": null,
      "align_self": null,
      "border": null,
      "bottom": null,
      "display": null,
      "flex": null,
      "flex_flow": null,
      "grid_area": null,
      "grid_auto_columns": null,
      "grid_auto_flow": null,
      "grid_auto_rows": null,
      "grid_column": null,
      "grid_gap": null,
      "grid_row": null,
      "grid_template_areas": null,
      "grid_template_columns": null,
      "grid_template_rows": null,
      "height": null,
      "justify_content": null,
      "justify_items": null,
      "left": null,
      "margin": null,
      "max_height": null,
      "max_width": null,
      "min_height": null,
      "min_width": null,
      "object_fit": null,
      "object_position": null,
      "order": null,
      "overflow": null,
      "overflow_x": null,
      "overflow_y": null,
      "padding": null,
      "right": null,
      "top": null,
      "visibility": null,
      "width": null
     }
    },
    "c0979a334ea04a75b6c7c9ed1033c074": {
     "model_module": "@jupyter-widgets/base",
     "model_name": "LayoutModel",
     "state": {
      "_model_module": "@jupyter-widgets/base",
      "_model_module_version": "1.2.0",
      "_model_name": "LayoutModel",
      "_view_count": null,
      "_view_module": "@jupyter-widgets/base",
      "_view_module_version": "1.2.0",
      "_view_name": "LayoutView",
      "align_content": null,
      "align_items": null,
      "align_self": null,
      "border": null,
      "bottom": null,
      "display": null,
      "flex": null,
      "flex_flow": null,
      "grid_area": null,
      "grid_auto_columns": null,
      "grid_auto_flow": null,
      "grid_auto_rows": null,
      "grid_column": null,
      "grid_gap": null,
      "grid_row": null,
      "grid_template_areas": null,
      "grid_template_columns": null,
      "grid_template_rows": null,
      "height": null,
      "justify_content": null,
      "justify_items": null,
      "left": null,
      "margin": null,
      "max_height": null,
      "max_width": null,
      "min_height": null,
      "min_width": null,
      "object_fit": null,
      "object_position": null,
      "order": null,
      "overflow": null,
      "overflow_x": null,
      "overflow_y": null,
      "padding": null,
      "right": null,
      "top": null,
      "visibility": null,
      "width": null
     }
    },
    "caf8190eab014fccb585e4000bb5cca6": {
     "model_module": "@jupyter-widgets/controls",
     "model_name": "FloatProgressModel",
     "state": {
      "_dom_classes": [],
      "_model_module": "@jupyter-widgets/controls",
      "_model_module_version": "1.5.0",
      "_model_name": "FloatProgressModel",
      "_view_count": null,
      "_view_module": "@jupyter-widgets/controls",
      "_view_module_version": "1.5.0",
      "_view_name": "ProgressView",
      "bar_style": "success",
      "description": "Generate report structure: 100%",
      "description_tooltip": null,
      "layout": "IPY_MODEL_4390d0aa36b8402bac2698b35d30c8e5",
      "max": 1,
      "min": 0,
      "orientation": "horizontal",
      "style": "IPY_MODEL_fc6f9897a717419cb0f1cdea63810b3a",
      "value": 1
     }
    },
    "da4a1205d7cd4ce7ad85202a02fc41a0": {
     "model_module": "@jupyter-widgets/controls",
     "model_name": "DescriptionStyleModel",
     "state": {
      "_model_module": "@jupyter-widgets/controls",
      "_model_module_version": "1.5.0",
      "_model_name": "DescriptionStyleModel",
      "_view_count": null,
      "_view_module": "@jupyter-widgets/base",
      "_view_module_version": "1.2.0",
      "_view_name": "StyleView",
      "description_width": ""
     }
    },
    "f7b88059947243e1affebac735895d47": {
     "model_module": "@jupyter-widgets/base",
     "model_name": "LayoutModel",
     "state": {
      "_model_module": "@jupyter-widgets/base",
      "_model_module_version": "1.2.0",
      "_model_name": "LayoutModel",
      "_view_count": null,
      "_view_module": "@jupyter-widgets/base",
      "_view_module_version": "1.2.0",
      "_view_name": "LayoutView",
      "align_content": null,
      "align_items": null,
      "align_self": null,
      "border": null,
      "bottom": null,
      "display": null,
      "flex": null,
      "flex_flow": null,
      "grid_area": null,
      "grid_auto_columns": null,
      "grid_auto_flow": null,
      "grid_auto_rows": null,
      "grid_column": null,
      "grid_gap": null,
      "grid_row": null,
      "grid_template_areas": null,
      "grid_template_columns": null,
      "grid_template_rows": null,
      "height": null,
      "justify_content": null,
      "justify_items": null,
      "left": null,
      "margin": null,
      "max_height": null,
      "max_width": null,
      "min_height": null,
      "min_width": null,
      "object_fit": null,
      "object_position": null,
      "order": null,
      "overflow": null,
      "overflow_x": null,
      "overflow_y": null,
      "padding": null,
      "right": null,
      "top": null,
      "visibility": null,
      "width": null
     }
    },
    "fc6f9897a717419cb0f1cdea63810b3a": {
     "model_module": "@jupyter-widgets/controls",
     "model_name": "ProgressStyleModel",
     "state": {
      "_model_module": "@jupyter-widgets/controls",
      "_model_module_version": "1.5.0",
      "_model_name": "ProgressStyleModel",
      "_view_count": null,
      "_view_module": "@jupyter-widgets/base",
      "_view_module_version": "1.2.0",
      "_view_name": "StyleView",
      "bar_color": null,
      "description_width": "initial"
     }
    }
   }
  }
 },
 "nbformat": 4,
 "nbformat_minor": 4
}
